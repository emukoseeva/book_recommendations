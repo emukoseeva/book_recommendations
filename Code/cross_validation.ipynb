{
 "cells": [
  {
   "cell_type": "code",
   "execution_count": 165,
   "metadata": {},
   "outputs": [
    {
     "name": "stdout",
     "output_type": "stream",
     "text": [
      "c:\\Users\\ASUS\\Documents\\Python Programming\\Book recommendations\\Data\\Processed\\average_ratings_by_user.csv\n",
      "c:\\Users\\ASUS\\Documents\\Python Programming\\Book recommendations\\Data\\Processed\\Books_valid_ISBN_known_year_no_images.csv\n",
      "c:\\Users\\ASUS\\Documents\\Python Programming\\Book recommendations\\Data\\Processed\\matrix_factorization.csv\n",
      "c:\\Users\\ASUS\\Documents\\Python Programming\\Book recommendations\\Data\\Processed\\normalized_user-book_matrix.csv\n",
      "c:\\Users\\ASUS\\Documents\\Python Programming\\Book recommendations\\Data\\Processed\\popular_books_with_descriptions.csv\n",
      "c:\\Users\\ASUS\\Documents\\Python Programming\\Book recommendations\\Data\\Processed\\ratings_for_popular_books.csv\n",
      "c:\\Users\\ASUS\\Documents\\Python Programming\\Book recommendations\\Data\\Processed\\Ratings_valid_ISBN.csv\n",
      "c:\\Users\\ASUS\\Documents\\Python Programming\\Book recommendations\\Data\\Processed\\user-book_matrix.csv\n",
      "c:\\Users\\ASUS\\Documents\\Python Programming\\Book recommendations\\Data\\Processed\\user-book_matrix_normalized_withna.csv\n",
      "c:\\Users\\ASUS\\Documents\\Python Programming\\Book recommendations\\Data\\Processed\\users_valid_age_with_country.csv\n"
     ]
    }
   ],
   "source": [
    "import numpy as np # linear algebra\n",
    "import pandas as pd # data processing, CSV file I/O (e.g. pd.read_csv)\n",
    "import matplotlib.pyplot as plt # plotting\n",
    "from sklearn.neighbors import KNeighborsRegressor\n",
    "from scipy.sparse.linalg import svds \n",
    "from sklearn.model_selection import KFold\n",
    "from sklearn.metrics import mean_squared_error\n",
    "\n",
    "\n",
    "# Input data is contained in '../Data/Processed' directory\n",
    "# This cell lists all files under the input directory\n",
    "\n",
    "import os\n",
    "INPUT_DIR = os.path.join(os.path.dirname(os.getcwd()), 'Data', 'Processed')\n",
    "for dirname, _, filenames in os.walk(INPUT_DIR):\n",
    "    for filename in filenames:\n",
    "        print(os.path.join(dirname, filename))"
   ]
  },
  {
   "cell_type": "markdown",
   "metadata": {},
   "source": [
    "We load ratings dataframe and book information."
   ]
  },
  {
   "cell_type": "code",
   "execution_count": 150,
   "metadata": {},
   "outputs": [
    {
     "name": "stdout",
     "output_type": "stream",
     "text": [
      "   User-ID        ISBN  Book-Rating\n",
      "0   276788  043935806X            7\n",
      "1   276925  0385504209            8\n",
      "2   276953  0446310786           10\n",
      "3   276964  0440220602            9\n",
      "4   277042  0971880107            2\n"
     ]
    }
   ],
   "source": [
    "all_ratings_df = pd.read_csv(os.path.join(INPUT_DIR, 'ratings_for_popular_books.csv'))\n",
    "print(all_ratings_df.head())"
   ]
  },
  {
   "cell_type": "code",
   "execution_count": 151,
   "metadata": {},
   "outputs": [
    {
     "name": "stdout",
     "output_type": "stream",
     "text": [
      "                                              title            authors  \\\n",
      "0                                       Wild Animus   ['Rich Shapero']   \n",
      "1                                  The Lovely Bones   ['Alice Sebold']   \n",
      "2                                 The Da Vinci Code      ['Dan Brown']   \n",
      "3  Divine secrets of the Ya-Ya Sisterhood : a novel  ['Rebecca Wells']   \n",
      "4                                      The Red Tent  ['Anita Diamant']   \n",
      "\n",
      "                                         description        ISBN  \n",
      "0  Wild animus is a search for the primordial, a ...  0971880107  \n",
      "1  The spirit of fourteen-year-old Susie Salmon d...  0316666343  \n",
      "2  Harvard symbologist Robert Langdon and French ...  0385504209  \n",
      "3  A NOVEL ABOUT THE COMPLEX BONDS BETWEEN A MOTH...  0060928336  \n",
      "4  Her name is Dinah. In the Bible, her life is o...  0312195516  \n"
     ]
    }
   ],
   "source": [
    "books_df = pd.read_csv(os.path.join(INPUT_DIR, 'popular_books_with_descriptions.csv'))\n",
    "print(books_df.head())"
   ]
  },
  {
   "cell_type": "code",
   "execution_count": 152,
   "metadata": {},
   "outputs": [],
   "source": [
    "def compute_user_book_matrix(ratings_df):\n",
    "    \"\"\"Takes a dataframe ratings_df with ratings (columns are 'User-ID', 'ISBN' and 'Book-Rating') and creates a normalized user-book matrix.\n",
    "    Returns a tuple consisting of a user-book matrix dataframe with average rating zero for each user\n",
    "    and a series of average ratings for users from the original dataframe\"\"\"\n",
    "    user_ratings_pivot = ratings_df.pivot(index='User-ID', columns='ISBN', values='Book-Rating')\n",
    "    user_average_ratings = user_ratings_pivot.mean(axis=1)\n",
    "    user_ratings_pivot = user_ratings_pivot.sub(user_average_ratings, axis=0)\n",
    "    return (user_ratings_pivot, user_average_ratings)"
   ]
  },
  {
   "cell_type": "code",
   "execution_count": 153,
   "metadata": {},
   "outputs": [],
   "source": [
    "def normalize_user_book(user_book_df):\n",
    "    \"\"\"Takes a user-book matrix dataframe and \n",
    "    returns a tuple consisting of a user-book matrix dataframe with average rating zero for each user\n",
    "    and a series of average ratings for users from the original dataframe\"\"\"\n",
    "    user_average_ratings = user_book_df.mean(axis=1)\n",
    "    user_book_normalized = user_book_df.sub(user_average_ratings, axis=0)\n",
    "    return (user_book_normalized, user_average_ratings)    "
   ]
  },
  {
   "cell_type": "code",
   "execution_count": 154,
   "metadata": {},
   "outputs": [],
   "source": [
    "def matrix_factorization(user_book_df, average_ratings):\n",
    "    \"\"\"Takes a user_book_matrix_df dataframe containing normalized user-book matrix (no NaNs) \n",
    "    and average_ratings series containing average ratings for users\n",
    "    and returns a dataframe with predicted ratings using SVDs\"\"\"\n",
    "    U, sigma, Vt = svds(user_book_normalized.values)\n",
    "    sigma = np.diag(sigma)\n",
    "    predicted_ratings = np.dot(np.dot(U, sigma), Vt)\n",
    "    predicted_ratings = predicted_ratings + user_average_ratings.values.reshape(-1, 1)\n",
    "    predicted_ratings_df = pd.DataFrame(predicted_ratings, \n",
    "                                    index=user_book_withna.index, \n",
    "                                    columns=user_book_withna.columns)\n",
    "    return predicted_ratings_df"
   ]
  },
  {
   "cell_type": "code",
   "execution_count": 155,
   "metadata": {},
   "outputs": [
    {
     "name": "stdout",
     "output_type": "stream",
     "text": [
      "ISBN     0060392452  0060502258  0060928336  0060930535  0060934417  \\\n",
      "User-ID                                                               \n",
      "26              NaN         NaN         NaN         NaN         NaN   \n",
      "51              NaN         NaN         NaN         NaN         NaN   \n",
      "91              NaN         NaN         NaN         NaN         NaN   \n",
      "114             NaN         NaN         NaN         NaN         NaN   \n",
      "165             NaN         NaN         NaN         NaN         NaN   \n",
      "\n",
      "ISBN     0060938455  0060976845  0060987103  006101351X  014028009X  ...  \\\n",
      "User-ID                                                              ...   \n",
      "26              NaN         NaN         NaN         NaN         NaN  ...   \n",
      "51              NaN         NaN         NaN         NaN         NaN  ...   \n",
      "91              NaN         NaN         NaN         NaN         NaN  ...   \n",
      "114             NaN         NaN         NaN         NaN         NaN  ...   \n",
      "165             NaN         9.0         NaN         NaN         NaN  ...   \n",
      "\n",
      "ISBN     068484477X  0684872153  0743237188  0743418174  0786868716  \\\n",
      "User-ID                                                               \n",
      "26              NaN         NaN         NaN         NaN         NaN   \n",
      "51              NaN         NaN         NaN         NaN         NaN   \n",
      "91              NaN         NaN         NaN         NaN         NaN   \n",
      "114             NaN         NaN         NaN         NaN         NaN   \n",
      "165             NaN         NaN         NaN         NaN         NaN   \n",
      "\n",
      "ISBN     0804106304  080410753X  0842329129  0971880107  1400034779  \n",
      "User-ID                                                              \n",
      "26              NaN         NaN         NaN         NaN         NaN  \n",
      "51              NaN         NaN         NaN         NaN         NaN  \n",
      "91              NaN         NaN         NaN         NaN         NaN  \n",
      "114             NaN         NaN         NaN         NaN         NaN  \n",
      "165             NaN         NaN         NaN         NaN         NaN  \n",
      "\n",
      "[5 rows x 95 columns]\n"
     ]
    }
   ],
   "source": [
    "all_user_ratings_pivot = all_ratings_df.pivot(index='User-ID', columns='ISBN', values='Book-Rating')\n",
    "print(all_user_ratings_pivot.head())"
   ]
  },
  {
   "cell_type": "code",
   "execution_count": 156,
   "metadata": {},
   "outputs": [
    {
     "name": "stdout",
     "output_type": "stream",
     "text": [
      "ISBN     0060392452  0060502258  0060928336  0060930535  0060934417  \\\n",
      "User-ID                                                               \n",
      "26              NaN         NaN         NaN         NaN         NaN   \n",
      "51              NaN         NaN         NaN         NaN         NaN   \n",
      "91              NaN         NaN         NaN         NaN         NaN   \n",
      "114             NaN         NaN         NaN         NaN         NaN   \n",
      "165             NaN         NaN         NaN         NaN         NaN   \n",
      "\n",
      "ISBN     0060938455  0060976845  0060987103  006101351X  014028009X  ...  \\\n",
      "User-ID                                                              ...   \n",
      "26              NaN         NaN         NaN         NaN         NaN  ...   \n",
      "51              NaN         NaN         NaN         NaN         NaN  ...   \n",
      "91              NaN         NaN         NaN         NaN         NaN  ...   \n",
      "114             NaN         NaN         NaN         NaN         NaN  ...   \n",
      "165             NaN         0.0         NaN         NaN         NaN  ...   \n",
      "\n",
      "ISBN     068484477X  0684872153  0743237188  0743418174  0786868716  \\\n",
      "User-ID                                                               \n",
      "26              NaN         NaN         NaN         NaN         NaN   \n",
      "51              NaN         NaN         NaN         NaN         NaN   \n",
      "91              NaN         NaN         NaN         NaN         NaN   \n",
      "114             NaN         NaN         NaN         NaN         NaN   \n",
      "165             NaN         NaN         NaN         NaN         NaN   \n",
      "\n",
      "ISBN     0804106304  080410753X  0842329129  0971880107  1400034779  \n",
      "User-ID                                                              \n",
      "26              NaN         NaN         NaN         NaN         NaN  \n",
      "51              NaN         NaN         NaN         NaN         NaN  \n",
      "91              NaN         NaN         NaN         NaN         NaN  \n",
      "114             NaN         NaN         NaN         NaN         NaN  \n",
      "165             NaN         NaN         NaN         NaN         NaN  \n",
      "\n",
      "[5 rows x 95 columns]\n",
      "User-ID\n",
      "26     10.0\n",
      "51      9.0\n",
      "91      9.0\n",
      "114    10.0\n",
      "165     9.0\n",
      "dtype: float64\n"
     ]
    }
   ],
   "source": [
    "all_user_book_df, all_average_ratings = compute_user_book_matrix(all_ratings_df)\n",
    "print(all_user_book_df.head())\n",
    "print(all_average_ratings.head())"
   ]
  },
  {
   "cell_type": "code",
   "execution_count": 157,
   "metadata": {},
   "outputs": [],
   "source": [
    "def user_user_predict_rating(target_user, book_ISBN, user_book_df_withna, user_average_ratings):\n",
    "    \"\"\"\n",
    "    user_book_df_withna: DataFrame with user-book matrix\n",
    "    user_average_ratings: Series with average rating for each user\n",
    "    \n",
    "    Using scikit-learn KNeighborsRegressor with cosine metric, \n",
    "    predicts what rating the user will give to the book, \n",
    "    based on user-user collaborative filtering\"\"\"\n",
    "    # Fill NaNs with zeroes in the user-book matrix and save it to a new dataframe\n",
    "    user_book_df = user_book_df_withna.fillna(0)\n",
    "    \n",
    "    # Create a list of ratings for our target user without the rating for the target book.\n",
    "    target_user_x = user_book_df.drop(book_ISBN, axis=1).loc[[target_user]]\n",
    "    \n",
    "    # Take all the other users and create a list of ratings they gave to the book.\n",
    "    # NaNs are included to signify no rating given.\n",
    "    other_users_y = user_book_df_withna[book_ISBN]\n",
    "    \n",
    "    # Get rid of the users that didn't rate the target book, \n",
    "    # create a dataframe with all the other ratings they gave.\n",
    "    other_users_x = user_book_df[other_users_y.notnull()]\n",
    "    other_users_x = other_users_x.drop(columns=[book_ISBN])\n",
    "    other_users_y = other_users_y.dropna()\n",
    "    \n",
    "    # Using scikit-learn's KNN regressor to predict the rating that our user would give.\n",
    "    user_knn = KNeighborsRegressor(metric='cosine', n_neighbors=3)\n",
    "    user_knn.fit(other_users_x, other_users_y)\n",
    "    user_user_pred = user_knn.predict(target_user_x)\n",
    "    \n",
    "    # Return the prediction.\n",
    "    return user_user_pred + user_average_ratings[target_user]"
   ]
  },
  {
   "cell_type": "code",
   "execution_count": 158,
   "metadata": {},
   "outputs": [
    {
     "name": "stdout",
     "output_type": "stream",
     "text": [
      "[8.46078431]\n"
     ]
    }
   ],
   "source": [
    "print(user_user_predict_rating(35859, '014028009X', all_user_book_df, all_average_ratings))"
   ]
  },
  {
   "cell_type": "code",
   "execution_count": 159,
   "metadata": {},
   "outputs": [
    {
     "name": "stdout",
     "output_type": "stream",
     "text": [
      "         0060392452  0060502258  0060928336  0060930535  0060934417  \\\n",
      "User-ID                                                               \n",
      "26             10.0        10.0        10.0        10.0        10.0   \n",
      "51              9.0         9.0         9.0         9.0         9.0   \n",
      "91              9.0         9.0         9.0         9.0         9.0   \n",
      "114            10.0        10.0        10.0        10.0        10.0   \n",
      "165             9.0         9.0         9.0         9.0         9.0   \n",
      "\n",
      "         0060938455  0060976845  0060987103  006101351X  014028009X  ...  \\\n",
      "User-ID                                                              ...   \n",
      "26             10.0        10.0        10.0        10.0        10.0  ...   \n",
      "51              9.0         9.0         9.0         9.0         9.0  ...   \n",
      "91              9.0         9.0         9.0         9.0         9.0  ...   \n",
      "114            10.0        10.0        10.0        10.0        10.0  ...   \n",
      "165             9.0         9.0         9.0         9.0         9.0  ...   \n",
      "\n",
      "         068484477X  0684872153  0743237188  0743418174  0786868716  \\\n",
      "User-ID                                                               \n",
      "26             10.0        10.0        10.0        10.0        10.0   \n",
      "51              9.0         9.0         9.0         9.0         9.0   \n",
      "91              9.0         9.0         9.0         9.0         9.0   \n",
      "114            10.0        10.0        10.0        10.0        10.0   \n",
      "165             9.0         9.0         9.0         9.0         9.0   \n",
      "\n",
      "         0804106304  080410753X  0842329129  0971880107  1400034779  \n",
      "User-ID                                                              \n",
      "26             10.0        10.0        10.0        10.0        10.0  \n",
      "51              9.0         9.0         9.0         9.0         9.0  \n",
      "91              9.0         9.0         9.0         9.0         9.0  \n",
      "114            10.0        10.0        10.0        10.0        10.0  \n",
      "165             9.0         9.0         9.0         9.0         9.0  \n",
      "\n",
      "[5 rows x 95 columns]\n"
     ]
    }
   ],
   "source": [
    "all_user_book_df_mf = matrix_factorization(all_user_book_df, all_average_ratings)\n",
    "print(all_user_book_df_mf.head())"
   ]
  },
  {
   "cell_type": "markdown",
   "metadata": {},
   "source": [
    "Now we define score functions."
   ]
  },
  {
   "cell_type": "code",
   "execution_count": 160,
   "metadata": {},
   "outputs": [],
   "source": [
    "def score_average_predictor(to_predict, correct, average_ratings):\n",
    "    \"\"\"\n",
    "    to_predict: list of tuples (book's ISBN, user ID)\n",
    "    correct: correct rating for every tuple in to_predict list\n",
    "    average_ratings: average rating every user gives on train set\n",
    "    \n",
    "    Returns RMSE for predicting average user rating for a new book\n",
    "    \"\"\"\n",
    "    predictions = []\n",
    "    for _, user in to_predict:\n",
    "        predictions.append(average_ratings.loc[user])\n",
    "    return mean_squared_error(correct, predictions, squared=False)    "
   ]
  },
  {
   "cell_type": "code",
   "execution_count": 161,
   "metadata": {},
   "outputs": [],
   "source": [
    "def score_matrix_factorization(to_predict, correct, user_book_df, average_ratings):\n",
    "    \"\"\"\n",
    "    to_predict: list of tuples (book's ISBN, user ID)\n",
    "    correct: correct rating for every tuple in to_predict list\n",
    "    user_book_df: normalized user-book matrix with NaNs filled by zeroes\n",
    "    average_ratings: average rating every user gives on train set\n",
    "    \n",
    "    Returns RMSE for predicting rating using matrix factorization\n",
    "    \"\"\"\n",
    "    \n",
    "    user_book_mf_df = matrix_factorization(user_book_df, average_ratings)\n",
    "    predictions = []\n",
    "    for book_ISBN, user in to_predict:\n",
    "        predictions.append(user_book_mf_df.loc[user, book_ISBN])\n",
    "    return mean_squared_error(correct, predictions, squared=False)"
   ]
  },
  {
   "cell_type": "code",
   "execution_count": 162,
   "metadata": {},
   "outputs": [],
   "source": [
    "def score_user_user_collaborative_filtering(to_predict, correct, user_book_df_withna, average_ratings):\n",
    "    \"\"\"\n",
    "    to_predict: list of tuples (book's ISBN, user ID)\n",
    "    correct: correct rating for every tuple in to_predict list\n",
    "    user_book_df_withna: normalized user-book matrix with NaNs in place of missing values\n",
    "    average_ratings: average rating every user gives on train set\n",
    "    \n",
    "    Returns RMSE for predicting rating using user-user collaborative filtering\n",
    "    \"\"\"\n",
    "#    print(user_book_df_withna.head())\n",
    "#    print(average_ratings.head())\n",
    "    predictions = []\n",
    "    for book_ISBN, user in to_predict:\n",
    "        predictions.append(user_user_predict_rating(user, book_ISBN, user_book_df_withna, average_ratings))\n",
    "#    print(predictions)\n",
    "    return mean_squared_error(correct, predictions, squared=False)"
   ]
  },
  {
   "cell_type": "markdown",
   "metadata": {},
   "source": [
    "To validate our models, we will cut the user-book matrix into 5x5 matrices. For each small matrix, we will hide the existing ratings there and try to predict them based on the remaining ratings. We will evaluate the predictions using RMSE metric."
   ]
  },
  {
   "cell_type": "code",
   "execution_count": 163,
   "metadata": {},
   "outputs": [],
   "source": [
    "kf_users = KFold(n_splits=5, shuffle=True, random_state=42)\n",
    "kf_users.get_n_splits(all_user_book_df.index)\n",
    "kf_books = KFold(n_splits=5, shuffle=True, random_state=42)\n",
    "kf_books.get_n_splits(all_user_book_df.columns)\n",
    "scores_ap = []\n",
    "scores_mf = []\n",
    "scores_cf = []\n",
    "for train_books, test_books in kf_books.split(all_user_book_df.columns):\n",
    "    for train_users, test_users in kf_users.split(all_user_book_df.index):\n",
    "        train_user_book_df = all_user_ratings_pivot.copy()\n",
    "        train_user_book_df.iloc[train_users, train_books] = np.nan\n",
    "        train_user_book_df, train_average = normalize_user_book(train_user_book_df)\n",
    "        test_user_book_df = all_user_ratings_pivot.iloc[test_users, test_books]\n",
    "        test_couples = []\n",
    "        test_ratings = []\n",
    "        for book in test_books:\n",
    "            book_ISBN = all_user_book_df.columns[book]\n",
    "            known_ratings_df = test_user_book_df[book_ISBN][~(test_user_book_df[book_ISBN].isna())]\n",
    "            for user in known_ratings_df.index:\n",
    "                test_couples.append((book_ISBN, user))\n",
    "                test_ratings.append(test_user_book_df.loc[user, book_ISBN])\n",
    "        scores_ap.append(score_average_predictor(test_couples, test_ratings, train_average))\n",
    "        scores_mf.append(score_matrix_factorization(test_couples, test_ratings, train_user_book_df.fillna(0), train_average)) \n",
    "        scores_cf.append(score_user_user_collaborative_filtering(test_couples, test_ratings, train_user_book_df, train_average))"
   ]
  },
  {
   "cell_type": "code",
   "execution_count": 172,
   "metadata": {},
   "outputs": [
    {
     "data": {
      "image/png": "[encoded data removed]",
      "text/plain": [
       "<Figure size 432x288 with 1 Axes>"
      ]
     },
     "metadata": {
      "needs_background": "light"
     },
     "output_type": "display_data"
    }
   ],
   "source": [
    "x = range(1, 26)\n",
    "plt.plot(x, scores_ap, color='blue', label='average rating')\n",
    "plt.plot(x, scores_mf, color='red', label='matrix factorization')\n",
    "plt.plot(x, scores_cf, color='green', label='collaborative filtering')\n",
    "plt.ylim((0, 1.5))\n",
    "plt.xlabel('# of fold')\n",
    "plt.ylabel('Root-mean-square Error')\n",
    "plt.legend()\n",
    "plt.show()"
   ]
  }
 ],
 "metadata": {
  "interpreter": {
   "hash": "27f6fea6f47ae512550f0b8facdbd035a93e1dd89633f7bf2dd00a2502c71d0d"
  },
  "kernelspec": {
   "display_name": "Python 3.10.2 64-bit",
   "language": "python",
   "name": "python3"
  },
  "language_info": {
   "codemirror_mode": {
    "name": "ipython",
    "version": 3
   },
   "file_extension": ".py",
   "mimetype": "text/x-python",
   "name": "python",
   "nbconvert_exporter": "python",
   "pygments_lexer": "ipython3",
   "version": "3.10.2"
  },
  "orig_nbformat": 4
 },
 "nbformat": 4,
 "nbformat_minor": 2
}
