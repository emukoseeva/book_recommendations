{
 "cells": [
  {
   "cell_type": "code",
   "execution_count": 20,
   "metadata": {},
   "outputs": [
    {
     "name": "stdout",
     "output_type": "stream",
     "text": [
      "c:\\Users\\ASUS\\Documents\\Python Programming\\Book recommendations\\Data\\Processed\\average_ratings_by_user.csv\n",
      "c:\\Users\\ASUS\\Documents\\Python Programming\\Book recommendations\\Data\\Processed\\Books_valid_ISBN_known_year_no_images.csv\n",
      "c:\\Users\\ASUS\\Documents\\Python Programming\\Book recommendations\\Data\\Processed\\normalized_user-book_matrix.csv\n",
      "c:\\Users\\ASUS\\Documents\\Python Programming\\Book recommendations\\Data\\Processed\\popular_books_with_descriptions.csv\n",
      "c:\\Users\\ASUS\\Documents\\Python Programming\\Book recommendations\\Data\\Processed\\ratings_for_popular_books.csv\n",
      "c:\\Users\\ASUS\\Documents\\Python Programming\\Book recommendations\\Data\\Processed\\Ratings_valid_ISBN.csv\n",
      "c:\\Users\\ASUS\\Documents\\Python Programming\\Book recommendations\\Data\\Processed\\user-book_matrix.csv\n",
      "c:\\Users\\ASUS\\Documents\\Python Programming\\Book recommendations\\Data\\Processed\\user-book_matrix_normalized_withna.csv\n",
      "c:\\Users\\ASUS\\Documents\\Python Programming\\Book recommendations\\Data\\Processed\\users_valid_age_with_country.csv\n"
     ]
    }
   ],
   "source": [
    "import numpy as np # linear algebra\n",
    "import pandas as pd # data processing, CSV file I/O (e.g. pd.read_csv)\n",
    "\n",
    "# Input data is contained in '../Data/Processed' directory\n",
    "# Output data is written to '../Data/Processed' directory\n",
    "# This cell lists all files under the input directory\n",
    "\n",
    "import os\n",
    "INPUT_DIR = os.path.join(os.path.dirname(os.getcwd()), 'Data', 'Processed')\n",
    "OUTPUT_DIR = os.path.join(os.path.dirname(os.getcwd()), 'Data', 'Processed')\n",
    "for dirname, _, filenames in os.walk(INPUT_DIR):\n",
    "    for filename in filenames:\n",
    "        print(os.path.join(dirname, filename))"
   ]
  },
  {
   "cell_type": "markdown",
   "metadata": {},
   "source": [
    "In this notebook we create a user-book matrix containing information about rating each user gave to each book or NaN if they didn't review the book. We also create a normalized matrix where each has a mean 0 for the ratings they gave."
   ]
  },
  {
   "cell_type": "markdown",
   "metadata": {},
   "source": [
    "We first load the ratings dataframe."
   ]
  },
  {
   "cell_type": "code",
   "execution_count": 21,
   "metadata": {},
   "outputs": [
    {
     "name": "stdout",
     "output_type": "stream",
     "text": [
      "<class 'pandas.core.frame.DataFrame'>\n",
      "RangeIndex: 17837 entries, 0 to 17836\n",
      "Data columns (total 3 columns):\n",
      " #   Column       Non-Null Count  Dtype \n",
      "---  ------       --------------  ----- \n",
      " 0   User-ID      17837 non-null  int64 \n",
      " 1   ISBN         17837 non-null  object\n",
      " 2   Book-Rating  17837 non-null  int64 \n",
      "dtypes: int64(2), object(1)\n",
      "memory usage: 418.2+ KB\n",
      "None\n",
      "   User-ID        ISBN  Book-Rating\n",
      "0   276788  043935806X            7\n",
      "1   276925  0385504209            8\n",
      "2   276953  0446310786           10\n",
      "3   276964  0440220602            9\n",
      "4   277042  0971880107            2\n"
     ]
    }
   ],
   "source": [
    "ratings_df = pd.read_csv(os.path.join(INPUT_DIR, 'ratings_for_popular_books.csv'))\n",
    "print(ratings_df.info())\n",
    "print(ratings_df.head())"
   ]
  },
  {
   "cell_type": "markdown",
   "metadata": {},
   "source": [
    "To create a user-book matrix, we pivot our dataframe."
   ]
  },
  {
   "cell_type": "code",
   "execution_count": 22,
   "metadata": {},
   "outputs": [
    {
     "name": "stdout",
     "output_type": "stream",
     "text": [
      "<class 'pandas.core.frame.DataFrame'>\n",
      "Int64Index: 10637 entries, 26 to 278844\n",
      "Data columns (total 95 columns):\n",
      " #   Column      Non-Null Count  Dtype  \n",
      "---  ------      --------------  -----  \n",
      " 0   0060392452  158 non-null    float64\n",
      " 1   0060502258  166 non-null    float64\n",
      " 2   0060928336  320 non-null    float64\n",
      " 3   0060930535  218 non-null    float64\n",
      " 4   0060934417  159 non-null    float64\n",
      " 5   0060938455  154 non-null    float64\n",
      " 6   0060976845  186 non-null    float64\n",
      " 7   0060987103  156 non-null    float64\n",
      " 8   006101351X  118 non-null    float64\n",
      " 9   014028009X  131 non-null    float64\n",
      " 10  0140293248  165 non-null    float64\n",
      " 11  0142000205  129 non-null    float64\n",
      " 12  0142001740  307 non-null    float64\n",
      " 13  0312195516  383 non-null    float64\n",
      " 14  0312278586  226 non-null    float64\n",
      " 15  0312291639  167 non-null    float64\n",
      " 16  0312305060  129 non-null    float64\n",
      " 17  0316096199  133 non-null    float64\n",
      " 18  0316284955  171 non-null    float64\n",
      " 19  0316601950  272 non-null    float64\n",
      " 20  0316666343  707 non-null    float64\n",
      " 21  0316769487  243 non-null    float64\n",
      " 22  0316776963  159 non-null    float64\n",
      " 23  0345313860  143 non-null    float64\n",
      " 24  0345337662  230 non-null    float64\n",
      " 25  0345339681  161 non-null    float64\n",
      " 26  0345342968  164 non-null    float64\n",
      " 27  0345351525  100 non-null    float64\n",
      " 28  0345353145  136 non-null    float64\n",
      " 29  0345361792  181 non-null    float64\n",
      " 30  0345370775  200 non-null    float64\n",
      " 31  0345378490  98 non-null     float64\n",
      " 32  0345417623  195 non-null    float64\n",
      " 33  0345443284  138 non-null    float64\n",
      " 34  0375700757  134 non-null    float64\n",
      " 35  0375706771  153 non-null    float64\n",
      " 36  0375707972  145 non-null    float64\n",
      " 37  0375725784  144 non-null    float64\n",
      " 38  0375726403  145 non-null    float64\n",
      " 39  0375727345  229 non-null    float64\n",
      " 40  0380731851  104 non-null    float64\n",
      " 41  0380789035  151 non-null    float64\n",
      " 42  0385265700  115 non-null    float64\n",
      " 43  0385335482  163 non-null    float64\n",
      " 44  0385484518  200 non-null    float64\n",
      " 45  0385492081  138 non-null    float64\n",
      " 46  0385504209  487 non-null    float64\n",
      " 47  0385720106  111 non-null    float64\n",
      " 48  0385722206  129 non-null    float64\n",
      " 49  043935806X  206 non-null    float64\n",
      " 50  044021145X  208 non-null    float64\n",
      " 51  0440211727  194 non-null    float64\n",
      " 52  0440213525  145 non-null    float64\n",
      " 53  0440214041  174 non-null    float64\n",
      " 54  0440220602  146 non-null    float64\n",
      " 55  0440221471  152 non-null    float64\n",
      " 56  044022165X  138 non-null    float64\n",
      " 57  0440222656  140 non-null    float64\n",
      " 58  0440224675  101 non-null    float64\n",
      " 59  0440224764  143 non-null    float64\n",
      " 60  0440225701  133 non-null    float64\n",
      " 61  0440226430  214 non-null    float64\n",
      " 62  0440234743  169 non-null    float64\n",
      " 63  0440236673  150 non-null    float64\n",
      " 64  044023722X  281 non-null    float64\n",
      " 65  0440241073  200 non-null    float64\n",
      " 66  0446310786  214 non-null    float64\n",
      " 67  0446364193  116 non-null    float64\n",
      " 68  044651652X  152 non-null    float64\n",
      " 69  0446605239  206 non-null    float64\n",
      " 70  0446606812  131 non-null    float64\n",
      " 71  0446608955  124 non-null    float64\n",
      " 72  0446610038  177 non-null    float64\n",
      " 73  0449212602  111 non-null    float64\n",
      " 74  0452282152  278 non-null    float64\n",
      " 75  0452282829  139 non-null    float64\n",
      " 76  0553279912  102 non-null    float64\n",
      " 77  0553572997  120 non-null    float64\n",
      " 78  059035342X  313 non-null    float64\n",
      " 79  0671003755  207 non-null    float64\n",
      " 80  0671021001  217 non-null    float64\n",
      " 81  0671027360  269 non-null    float64\n",
      " 82  0671510053  150 non-null    float64\n",
      " 83  067976402X  256 non-null    float64\n",
      " 84  0679781587  333 non-null    float64\n",
      " 85  068484477X  125 non-null    float64\n",
      " 86  0684872153  136 non-null    float64\n",
      " 87  0743237188  127 non-null    float64\n",
      " 88  0743418174  236 non-null    float64\n",
      " 89  0786868716  242 non-null    float64\n",
      " 90  0804106304  194 non-null    float64\n",
      " 91  080410753X  98 non-null     float64\n",
      " 92  0842329129  155 non-null    float64\n",
      " 93  0971880107  581 non-null    float64\n",
      " 94  1400034779  183 non-null    float64\n",
      "dtypes: float64(95)\n",
      "memory usage: 7.8 MB\n",
      "None\n",
      "ISBN     0060392452  0060502258  0060928336  0060930535  0060934417  \\\n",
      "User-ID                                                               \n",
      "26              NaN         NaN         NaN         NaN         NaN   \n",
      "51              NaN         NaN         NaN         NaN         NaN   \n",
      "91              NaN         NaN         NaN         NaN         NaN   \n",
      "114             NaN         NaN         NaN         NaN         NaN   \n",
      "165             NaN         NaN         NaN         NaN         NaN   \n",
      "\n",
      "ISBN     0060938455  0060976845  0060987103  006101351X  014028009X  ...  \\\n",
      "User-ID                                                              ...   \n",
      "26              NaN         NaN         NaN         NaN         NaN  ...   \n",
      "51              NaN         NaN         NaN         NaN         NaN  ...   \n",
      "91              NaN         NaN         NaN         NaN         NaN  ...   \n",
      "114             NaN         NaN         NaN         NaN         NaN  ...   \n",
      "165             NaN         9.0         NaN         NaN         NaN  ...   \n",
      "\n",
      "ISBN     068484477X  0684872153  0743237188  0743418174  0786868716  \\\n",
      "User-ID                                                               \n",
      "26              NaN         NaN         NaN         NaN         NaN   \n",
      "51              NaN         NaN         NaN         NaN         NaN   \n",
      "91              NaN         NaN         NaN         NaN         NaN   \n",
      "114             NaN         NaN         NaN         NaN         NaN   \n",
      "165             NaN         NaN         NaN         NaN         NaN   \n",
      "\n",
      "ISBN     0804106304  080410753X  0842329129  0971880107  1400034779  \n",
      "User-ID                                                              \n",
      "26              NaN         NaN         NaN         NaN         NaN  \n",
      "51              NaN         NaN         NaN         NaN         NaN  \n",
      "91              NaN         NaN         NaN         NaN         NaN  \n",
      "114             NaN         NaN         NaN         NaN         NaN  \n",
      "165             NaN         NaN         NaN         NaN         NaN  \n",
      "\n",
      "[5 rows x 95 columns]\n"
     ]
    }
   ],
   "source": [
    "user_ratings_pivot = ratings_df.pivot(index='User-ID', columns='ISBN', values='Book-Rating')\n",
    "print(user_ratings_pivot.info())\n",
    "print(user_ratings_pivot.head())"
   ]
  },
  {
   "cell_type": "markdown",
   "metadata": {},
   "source": [
    "We write this matrix to a user-book_matrix.csv file."
   ]
  },
  {
   "cell_type": "code",
   "execution_count": 23,
   "metadata": {},
   "outputs": [],
   "source": [
    "user_ratings_pivot.to_csv(os.path.join(OUTPUT_DIR, 'user-book_matrix.csv'))"
   ]
  },
  {
   "cell_type": "markdown",
   "metadata": {},
   "source": [
    "Now we have our (very sparse) matrix with ratings that users gave to books or NaN if they didn't leave a review. To get rid of NaNs, we will center each row so that the average rating the user gives is zero (we will have negative ratings now). To do that, we will subtract the average rating for every user. We then will fill NaNs with zeroes."
   ]
  },
  {
   "cell_type": "code",
   "execution_count": 24,
   "metadata": {},
   "outputs": [
    {
     "name": "stdout",
     "output_type": "stream",
     "text": [
      "User-ID\n",
      "26        10.000000\n",
      "51         9.000000\n",
      "91         9.000000\n",
      "114       10.000000\n",
      "165        9.000000\n",
      "            ...    \n",
      "278755     1.000000\n",
      "278773     8.000000\n",
      "278798     7.000000\n",
      "278843     8.333333\n",
      "278844     7.000000\n",
      "Length: 10637, dtype: float64\n",
      "ISBN     0060392452  0060502258  0060928336  0060930535  0060934417  \\\n",
      "User-ID                                                               \n",
      "26              NaN         NaN         NaN         NaN         NaN   \n",
      "51              NaN         NaN         NaN         NaN         NaN   \n",
      "91              NaN         NaN         NaN         NaN         NaN   \n",
      "114             NaN         NaN         NaN         NaN         NaN   \n",
      "165             NaN         NaN         NaN         NaN         NaN   \n",
      "\n",
      "ISBN     0060938455  0060976845  0060987103  006101351X  014028009X  ...  \\\n",
      "User-ID                                                              ...   \n",
      "26              NaN         NaN         NaN         NaN         NaN  ...   \n",
      "51              NaN         NaN         NaN         NaN         NaN  ...   \n",
      "91              NaN         NaN         NaN         NaN         NaN  ...   \n",
      "114             NaN         NaN         NaN         NaN         NaN  ...   \n",
      "165             NaN         0.0         NaN         NaN         NaN  ...   \n",
      "\n",
      "ISBN     068484477X  0684872153  0743237188  0743418174  0786868716  \\\n",
      "User-ID                                                               \n",
      "26              NaN         NaN         NaN         NaN         NaN   \n",
      "51              NaN         NaN         NaN         NaN         NaN   \n",
      "91              NaN         NaN         NaN         NaN         NaN   \n",
      "114             NaN         NaN         NaN         NaN         NaN   \n",
      "165             NaN         NaN         NaN         NaN         NaN   \n",
      "\n",
      "ISBN     0804106304  080410753X  0842329129  0971880107  1400034779  \n",
      "User-ID                                                              \n",
      "26              NaN         NaN         NaN         NaN         NaN  \n",
      "51              NaN         NaN         NaN         NaN         NaN  \n",
      "91              NaN         NaN         NaN         NaN         NaN  \n",
      "114             NaN         NaN         NaN         NaN         NaN  \n",
      "165             NaN         NaN         NaN         NaN         NaN  \n",
      "\n",
      "[5 rows x 95 columns]\n"
     ]
    }
   ],
   "source": [
    "user_average_ratings = user_ratings_pivot.mean(axis=1)\n",
    "print(user_average_ratings)\n",
    "user_ratings_pivot = user_ratings_pivot.sub(user_average_ratings, axis=0)\n",
    "print(user_ratings_pivot.head())"
   ]
  },
  {
   "cell_type": "markdown",
   "metadata": {},
   "source": [
    "We write our normalized matrix to 'user-book_matrix_normalized_withna.csv'. "
   ]
  },
  {
   "cell_type": "code",
   "execution_count": 25,
   "metadata": {},
   "outputs": [],
   "source": [
    "user_ratings_pivot.to_csv(os.path.join(OUTPUT_DIR, 'user-book_matrix_normalized_withna.csv'))"
   ]
  },
  {
   "cell_type": "markdown",
   "metadata": {},
   "source": [
    "It remains to remove NaNs from the matrix."
   ]
  },
  {
   "cell_type": "code",
   "execution_count": 26,
   "metadata": {},
   "outputs": [
    {
     "name": "stdout",
     "output_type": "stream",
     "text": [
      "ISBN     0060392452  0060502258  0060928336  0060930535  0060934417  \\\n",
      "User-ID                                                               \n",
      "26              0.0         0.0         0.0         0.0         0.0   \n",
      "51              0.0         0.0         0.0         0.0         0.0   \n",
      "91              0.0         0.0         0.0         0.0         0.0   \n",
      "114             0.0         0.0         0.0         0.0         0.0   \n",
      "165             0.0         0.0         0.0         0.0         0.0   \n",
      "\n",
      "ISBN     0060938455  0060976845  0060987103  006101351X  014028009X  ...  \\\n",
      "User-ID                                                              ...   \n",
      "26              0.0         0.0         0.0         0.0         0.0  ...   \n",
      "51              0.0         0.0         0.0         0.0         0.0  ...   \n",
      "91              0.0         0.0         0.0         0.0         0.0  ...   \n",
      "114             0.0         0.0         0.0         0.0         0.0  ...   \n",
      "165             0.0         0.0         0.0         0.0         0.0  ...   \n",
      "\n",
      "ISBN     068484477X  0684872153  0743237188  0743418174  0786868716  \\\n",
      "User-ID                                                               \n",
      "26              0.0         0.0         0.0         0.0         0.0   \n",
      "51              0.0         0.0         0.0         0.0         0.0   \n",
      "91              0.0         0.0         0.0         0.0         0.0   \n",
      "114             0.0         0.0         0.0         0.0         0.0   \n",
      "165             0.0         0.0         0.0         0.0         0.0   \n",
      "\n",
      "ISBN     0804106304  080410753X  0842329129  0971880107  1400034779  \n",
      "User-ID                                                              \n",
      "26              0.0         0.0         0.0         0.0         0.0  \n",
      "51              0.0         0.0         0.0         0.0         0.0  \n",
      "91              0.0         0.0         0.0         0.0         0.0  \n",
      "114             0.0         0.0         0.0         0.0         0.0  \n",
      "165             0.0         0.0         0.0         0.0         0.0  \n",
      "\n",
      "[5 rows x 95 columns]\n",
      "User-ID\n",
      "26        0.000000e+00\n",
      "51        0.000000e+00\n",
      "91        0.000000e+00\n",
      "114       0.000000e+00\n",
      "165       0.000000e+00\n",
      "              ...     \n",
      "278755    0.000000e+00\n",
      "278773    0.000000e+00\n",
      "278798    0.000000e+00\n",
      "278843   -1.869849e-17\n",
      "278844    0.000000e+00\n",
      "Length: 10637, dtype: float64\n"
     ]
    }
   ],
   "source": [
    "user_ratings_pivot = user_ratings_pivot.fillna(0)\n",
    "print(user_ratings_pivot.head())\n",
    "print(user_ratings_pivot.mean(axis=1))"
   ]
  },
  {
   "cell_type": "markdown",
   "metadata": {},
   "source": [
    "We write this normalized user-book matrix to 'normalized_user-book_matrix.csv'. We will also write the average ratings for each user to a separate 'average_ratings_by_user.csv' file."
   ]
  },
  {
   "cell_type": "code",
   "execution_count": 27,
   "metadata": {},
   "outputs": [],
   "source": [
    "user_ratings_pivot.to_csv(os.path.join(OUTPUT_DIR, 'normalized_user-book_matrix.csv'))\n",
    "user_average_ratings.to_csv(os.path.join(OUTPUT_DIR, 'average_ratings_by_user.csv'))"
   ]
  }
 ],
 "metadata": {
  "interpreter": {
   "hash": "27f6fea6f47ae512550f0b8facdbd035a93e1dd89633f7bf2dd00a2502c71d0d"
  },
  "kernelspec": {
   "display_name": "Python 3.10.2 64-bit",
   "language": "python",
   "name": "python3"
  },
  "language_info": {
   "codemirror_mode": {
    "name": "ipython",
    "version": 3
   },
   "file_extension": ".py",
   "mimetype": "text/x-python",
   "name": "python",
   "nbconvert_exporter": "python",
   "pygments_lexer": "ipython3",
   "version": "3.10.2"
  },
  "orig_nbformat": 4
 },
 "nbformat": 4,
 "nbformat_minor": 2
}
