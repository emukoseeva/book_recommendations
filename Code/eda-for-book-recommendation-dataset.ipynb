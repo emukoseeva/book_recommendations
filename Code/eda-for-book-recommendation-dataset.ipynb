{
 "cells": [
  {
   "cell_type": "code",
   "execution_count": 5,
   "id": "0b41a61b",
   "metadata": {
    "_cell_guid": "b1076dfc-b9ad-4769-8c92-a6c4dae69d19",
    "_uuid": "8f2839f25d086af736a60e9eeb907d3b93b6e0e5",
    "execution": {
     "iopub.execute_input": "2022-10-26T12:58:34.403998Z",
     "iopub.status.busy": "2022-10-26T12:58:34.403460Z",
     "iopub.status.idle": "2022-10-26T12:58:34.428607Z",
     "shell.execute_reply": "2022-10-26T12:58:34.426779Z"
    },
    "papermill": {
     "duration": 0.046899,
     "end_time": "2022-10-26T12:58:34.434341",
     "exception": false,
     "start_time": "2022-10-26T12:58:34.387442",
     "status": "completed"
    },
    "tags": []
   },
   "outputs": [
    {
     "name": "stdout",
     "output_type": "stream",
     "text": [
      "c:\\Users\\ASUS\\Documents\\Python Programming\\Book recommendations\\Data\\Raw\\Books.csv\n",
      "c:\\Users\\ASUS\\Documents\\Python Programming\\Book recommendations\\Data\\Raw\\Ratings.csv\n",
      "c:\\Users\\ASUS\\Documents\\Python Programming\\Book recommendations\\Data\\Raw\\Users.csv\n"
     ]
    }
   ],
   "source": [
    "import numpy as np # linear algebra\n",
    "import pandas as pd # data processing, CSV file I/O (e.g. pd.read_csv)\n",
    "\n",
    "# Raw data is contained in '../Data/Raw' directory\n",
    "# Processed data will be written to '../Data/Processed'\n",
    "# This cell lists all files under the input directory\n",
    "\n",
    "import os\n",
    "INPUT_DIR = os.path.join(os.path.dirname(os.getcwd()), 'Data', 'Raw')\n",
    "OUTPUT_DIR = os.path.join(os.path.dirname(os.getcwd()), 'Data', 'Processed')\n",
    "for dirname, _, filenames in os.walk(INPUT_DIR):\n",
    "    for filename in filenames:\n",
    "        print(os.path.join(dirname, filename))"
   ]
  },
  {
   "cell_type": "markdown",
   "id": "38bb6e98",
   "metadata": {
    "papermill": {
     "duration": 0.012198,
     "end_time": "2022-10-26T12:58:34.461011",
     "exception": false,
     "start_time": "2022-10-26T12:58:34.448813",
     "status": "completed"
    },
    "tags": []
   },
   "source": [
    "This notebook is exploring the dataset. There are 3 csv files, describing book ratings, users, and books. Let us look more closely at the data."
   ]
  },
  {
   "cell_type": "code",
   "execution_count": 6,
   "id": "3c3f90e6",
   "metadata": {
    "execution": {
     "iopub.execute_input": "2022-10-26T12:58:34.493022Z",
     "iopub.status.busy": "2022-10-26T12:58:34.492375Z",
     "iopub.status.idle": "2022-10-26T12:58:35.793883Z",
     "shell.execute_reply": "2022-10-26T12:58:35.791353Z"
    },
    "papermill": {
     "duration": 1.32059,
     "end_time": "2022-10-26T12:58:35.797274",
     "exception": false,
     "start_time": "2022-10-26T12:58:34.476684",
     "status": "completed"
    },
    "tags": []
   },
   "outputs": [
    {
     "name": "stdout",
     "output_type": "stream",
     "text": [
      "<class 'pandas.core.frame.DataFrame'>\n",
      "RangeIndex: 1149780 entries, 0 to 1149779\n",
      "Data columns (total 3 columns):\n",
      " #   Column       Non-Null Count    Dtype \n",
      "---  ------       --------------    ----- \n",
      " 0   User-ID      1149780 non-null  int64 \n",
      " 1   ISBN         1149780 non-null  object\n",
      " 2   Book-Rating  1149780 non-null  int64 \n",
      "dtypes: int64(2), object(1)\n",
      "memory usage: 26.3+ MB\n",
      "None\n",
      "   User-ID        ISBN  Book-Rating\n",
      "0   276725  034545104X            0\n",
      "1   276726  0155061224            5\n",
      "2   276727  0446520802            0\n",
      "3   276729  052165615X            3\n",
      "4   276729  0521795028            6\n"
     ]
    }
   ],
   "source": [
    "ratings_df = pd.read_csv(os.path.join(INPUT_DIR, 'Ratings.csv'))\n",
    "print(ratings_df.info())\n",
    "print(ratings_df.head())"
   ]
  },
  {
   "cell_type": "markdown",
   "id": "4128e843",
   "metadata": {
    "papermill": {
     "duration": 0.013136,
     "end_time": "2022-10-26T12:58:35.823491",
     "exception": false,
     "start_time": "2022-10-26T12:58:35.810355",
     "status": "completed"
    },
    "tags": []
   },
   "source": [
    "As we see, the ratings table has 3 columns - user-ID, ISBN, and book rating: \n",
    "* User-ID is the unique identifier of the user;\n",
    "* ISBN stands for the International Standard Book Number and is a numeric commercial book identifier that is intended to be unique. There are several diferent standards for ISBN, from the head of our table it seems that here the 10-digit format is used but it is better that we check this. Moreover, it seems that some of the ISBNs are missing the last \"check\" digit and have \"X\" in its place.\n",
    "* Book-rating is a number, judging by the first few columns it is probably an integer from 0 to 10, we need to check that, too."
   ]
  },
  {
   "cell_type": "code",
   "execution_count": 7,
   "id": "b801c74d",
   "metadata": {
    "execution": {
     "iopub.execute_input": "2022-10-26T12:58:35.851952Z",
     "iopub.status.busy": "2022-10-26T12:58:35.851334Z",
     "iopub.status.idle": "2022-10-26T12:58:36.183753Z",
     "shell.execute_reply": "2022-10-26T12:58:36.182492Z"
    },
    "papermill": {
     "duration": 0.349556,
     "end_time": "2022-10-26T12:58:36.186228",
     "exception": false,
     "start_time": "2022-10-26T12:58:35.836672",
     "status": "completed"
    },
    "tags": []
   },
   "outputs": [
    {
     "data": {
      "text/plain": [
       "<AxesSubplot:>"
      ]
     },
     "execution_count": 7,
     "metadata": {},
     "output_type": "execute_result"
    },
    {
     "data": {
      "image/png": "[encoded data removed]",
      "text/plain": [
       "<Figure size 432x288 with 1 Axes>"
      ]
     },
     "metadata": {
      "needs_background": "light"
     },
     "output_type": "display_data"
    }
   ],
   "source": [
    "ratings_df['Book-Rating'].hist()"
   ]
  },
  {
   "cell_type": "markdown",
   "id": "680a6aad",
   "metadata": {
    "papermill": {
     "duration": 0.012336,
     "end_time": "2022-10-26T12:58:36.211421",
     "exception": false,
     "start_time": "2022-10-26T12:58:36.199085",
     "status": "completed"
    },
    "tags": []
   },
   "source": [
    "Indeed, the histogram of the Book-Rating column above shows that there are only ratings from 0 to 10 and they are integers since that column only contains int64 entities. 0 is implicit rating, meaning that the person didn't rate the book but rather showed some interest in it via clicking on it or checking the book details. The numbers from 1 to 10 are explicit ratings, with higher number indicating higher appreciation of the book. We will first deal with the explicit ratings, so let us delete the rows with 0 rating for now. "
   ]
  },
  {
   "cell_type": "code",
   "execution_count": 8,
   "id": "c0c0de07",
   "metadata": {
    "execution": {
     "iopub.execute_input": "2022-10-26T12:58:36.238988Z",
     "iopub.status.busy": "2022-10-26T12:58:36.238271Z",
     "iopub.status.idle": "2022-10-26T12:58:36.591157Z",
     "shell.execute_reply": "2022-10-26T12:58:36.589831Z"
    },
    "papermill": {
     "duration": 0.369893,
     "end_time": "2022-10-26T12:58:36.593963",
     "exception": false,
     "start_time": "2022-10-26T12:58:36.224070",
     "status": "completed"
    },
    "tags": []
   },
   "outputs": [
    {
     "name": "stdout",
     "output_type": "stream",
     "text": [
      "<class 'pandas.core.frame.DataFrame'>\n",
      "Int64Index: 433671 entries, 1 to 1149779\n",
      "Data columns (total 3 columns):\n",
      " #   Column       Non-Null Count   Dtype \n",
      "---  ------       --------------   ----- \n",
      " 0   User-ID      433671 non-null  int64 \n",
      " 1   ISBN         433671 non-null  object\n",
      " 2   Book-Rating  433671 non-null  int64 \n",
      "dtypes: int64(2), object(1)\n",
      "memory usage: 13.2+ MB\n",
      "None\n"
     ]
    },
    {
     "data": {
      "text/plain": [
       "<AxesSubplot:>"
      ]
     },
     "execution_count": 8,
     "metadata": {},
     "output_type": "execute_result"
    },
    {
     "data": {
      "image/png": "[encoded data removed]",
      "text/plain": [
       "<Figure size 432x288 with 1 Axes>"
      ]
     },
     "metadata": {
      "needs_background": "light"
     },
     "output_type": "display_data"
    }
   ],
   "source": [
    "ratings_df_no_zeroes = ratings_df[ratings_df['Book-Rating'] != 0]\n",
    "print(ratings_df_no_zeroes.info())\n",
    "ratings_df_no_zeroes['Book-Rating'].hist(bins=range(1,11))"
   ]
  },
  {
   "cell_type": "markdown",
   "id": "9f4880a8",
   "metadata": {
    "papermill": {
     "duration": 0.013547,
     "end_time": "2022-10-26T12:58:36.621826",
     "exception": false,
     "start_time": "2022-10-26T12:58:36.608279",
     "status": "completed"
    },
    "tags": []
   },
   "source": [
    "Now let us move our attention to the ISBN column and check if all of the numbers their are valid 10-digit ISBN codes, with either correct or missing check digit."
   ]
  },
  {
   "cell_type": "code",
   "execution_count": 9,
   "id": "6b909e65",
   "metadata": {
    "execution": {
     "iopub.execute_input": "2022-10-26T12:58:36.651008Z",
     "iopub.status.busy": "2022-10-26T12:58:36.650513Z",
     "iopub.status.idle": "2022-10-26T12:58:41.522843Z",
     "shell.execute_reply": "2022-10-26T12:58:41.521491Z"
    },
    "papermill": {
     "duration": 4.891444,
     "end_time": "2022-10-26T12:58:41.526986",
     "exception": false,
     "start_time": "2022-10-26T12:58:36.635542",
     "status": "completed"
    },
    "tags": []
   },
   "outputs": [
    {
     "name": "stdout",
     "output_type": "stream",
     "text": [
      "<class 'pandas.core.frame.DataFrame'>\n",
      "Int64Index: 13592 entries, 9 to 1149779\n",
      "Data columns (total 3 columns):\n",
      " #   Column       Non-Null Count  Dtype \n",
      "---  ------       --------------  ----- \n",
      " 0   User-ID      13592 non-null  int64 \n",
      " 1   ISBN         13592 non-null  object\n",
      " 2   Book-Rating  13592 non-null  int64 \n",
      "dtypes: int64(2), object(1)\n",
      "memory usage: 424.8+ KB\n",
      "None\n",
      "     User-ID         ISBN  Book-Rating\n",
      "9     276745    342310538           10\n",
      "40    276762    342662429            0\n",
      "54    276762   B0000BLD7X            0\n",
      "55    276762  N3453124715            4\n",
      "143   276822   0699854289           10\n"
     ]
    }
   ],
   "source": [
    "def is_valid_13(code): \n",
    "    \"\"\"Checks if the code is a valid 13-digit ISBN\"\"\"\n",
    "    if len(code) != 13:\n",
    "        return False\n",
    "    if not code.isdigit():\n",
    "        return False\n",
    "    sum = 0\n",
    "    for i in range(0, 13, 2):\n",
    "        sum += int(code[i])\n",
    "    for i in range(1, 13, 2):\n",
    "        sum += 3 * int(code[i])\n",
    "    return sum % 10 == 0\n",
    "\n",
    "    \n",
    "def is_valid_10(code): \n",
    "    \"\"\"Checks if the code is a valid 10-digit ISBN\"\"\"\n",
    "    if len(code) != 10:\n",
    "        return False\n",
    "    if not code[:-1].isdigit():\n",
    "        return False\n",
    "    if not (code[-1].isdigit() or code[-1] in ['x', 'X']):\n",
    "        return False\n",
    "    sum = 0\n",
    "    for i in range(9):\n",
    "        sum += (10 - i) * (int(code[i]))\n",
    "    if code[-1] in ['X', 'x']:\n",
    "        sum += 10\n",
    "    else:\n",
    "        sum += int(code[-1])\n",
    "    return sum % 11 == 0\n",
    "\n",
    "def is_valid_9(code): \n",
    "    \"\"\"Checks if the code is a valid 9-digit ISBN\"\"\"\n",
    "    if len(code) != 9:\n",
    "        return False\n",
    "    return is_valid_10('0'+code)\n",
    "\n",
    "def is_valid(code):\n",
    "    \"\"\"Checks if the code is a valid 9-, 10, or 13-digit ISBN\"\"\"\n",
    "    if len(code) == 9:\n",
    "        return is_valid_9(code)\n",
    "    if len(code) == 10:\n",
    "        return is_valid_10(code)\n",
    "    if len(code) == 13:\n",
    "        return is_valid_13(code)\n",
    "    return False\n",
    "\n",
    "non_valid_ISBN = ratings_df[ratings_df['ISBN'].apply(is_valid) != True]\n",
    "print(non_valid_ISBN.info())\n",
    "print(non_valid_ISBN.head())"
   ]
  },
  {
   "cell_type": "markdown",
   "id": "1d4ef3dd",
   "metadata": {
    "papermill": {
     "duration": 0.013955,
     "end_time": "2022-10-26T12:58:41.555294",
     "exception": false,
     "start_time": "2022-10-26T12:58:41.541339",
     "status": "completed"
    },
    "tags": []
   },
   "source": [
    "It seems there are quite a few books with an invalid ISBN even though the dataset description promised otherwise! The following code gives us a dataframe of ratings for books with valid ISBN."
   ]
  },
  {
   "cell_type": "code",
   "execution_count": 10,
   "id": "ddacda11",
   "metadata": {
    "execution": {
     "iopub.execute_input": "2022-10-26T12:58:41.586629Z",
     "iopub.status.busy": "2022-10-26T12:58:41.585294Z",
     "iopub.status.idle": "2022-10-26T12:58:46.772025Z",
     "shell.execute_reply": "2022-10-26T12:58:46.770634Z"
    },
    "papermill": {
     "duration": 5.205727,
     "end_time": "2022-10-26T12:58:46.775197",
     "exception": false,
     "start_time": "2022-10-26T12:58:41.569470",
     "status": "completed"
    },
    "tags": []
   },
   "outputs": [
    {
     "name": "stdout",
     "output_type": "stream",
     "text": [
      "<class 'pandas.core.frame.DataFrame'>\n",
      "Int64Index: 1136188 entries, 0 to 1149778\n",
      "Data columns (total 3 columns):\n",
      " #   Column       Non-Null Count    Dtype \n",
      "---  ------       --------------    ----- \n",
      " 0   User-ID      1136188 non-null  int64 \n",
      " 1   ISBN         1136188 non-null  object\n",
      " 2   Book-Rating  1136188 non-null  int64 \n",
      "dtypes: int64(2), object(1)\n",
      "memory usage: 34.7+ MB\n",
      "None\n",
      "   User-ID        ISBN  Book-Rating\n",
      "0   276725  034545104X            0\n",
      "1   276726  0155061224            5\n",
      "2   276727  0446520802            0\n",
      "3   276729  052165615X            3\n",
      "4   276729  0521795028            6\n"
     ]
    }
   ],
   "source": [
    "ratings_df_valid = ratings_df[ratings_df['ISBN'].apply(is_valid)]\n",
    "print(ratings_df_valid.info())\n",
    "print(ratings_df_valid.head())"
   ]
  },
  {
   "cell_type": "markdown",
   "id": "f61b56d3",
   "metadata": {},
   "source": [
    "We can now write the information about the ratings into a csv file."
   ]
  },
  {
   "cell_type": "code",
   "execution_count": 11,
   "id": "59b85b73",
   "metadata": {
    "execution": {
     "iopub.execute_input": "2022-10-26T12:58:46.805044Z",
     "iopub.status.busy": "2022-10-26T12:58:46.804548Z",
     "iopub.status.idle": "2022-10-26T12:58:48.437087Z",
     "shell.execute_reply": "2022-10-26T12:58:48.435928Z"
    },
    "papermill": {
     "duration": 1.650657,
     "end_time": "2022-10-26T12:58:48.440025",
     "exception": false,
     "start_time": "2022-10-26T12:58:46.789368",
     "status": "completed"
    },
    "tags": []
   },
   "outputs": [],
   "source": [
    "ratings_df_valid.to_csv(os.path.join(OUTPUT_DIR, 'Ratings_valid_ISBN.csv'), index=False)"
   ]
  },
  {
   "cell_type": "markdown",
   "id": "3612ca0d",
   "metadata": {
    "papermill": {
     "duration": 0.014098,
     "end_time": "2022-10-26T12:58:48.608740",
     "exception": false,
     "start_time": "2022-10-26T12:58:48.594642",
     "status": "completed"
    },
    "tags": []
   },
   "source": [
    "We move out attention to the book csv table right now, that should contain some information about the books."
   ]
  },
  {
   "cell_type": "code",
   "execution_count": 12,
   "id": "a88b6fe8",
   "metadata": {
    "execution": {
     "iopub.execute_input": "2022-10-26T12:58:48.639574Z",
     "iopub.status.busy": "2022-10-26T12:58:48.639081Z",
     "iopub.status.idle": "2022-10-26T12:58:51.609805Z",
     "shell.execute_reply": "2022-10-26T12:58:51.607778Z"
    },
    "papermill": {
     "duration": 2.989532,
     "end_time": "2022-10-26T12:58:51.612997",
     "exception": false,
     "start_time": "2022-10-26T12:58:48.623465",
     "status": "completed"
    },
    "tags": []
   },
   "outputs": [
    {
     "name": "stderr",
     "output_type": "stream",
     "text": [
      "C:\\Users\\ASUS\\AppData\\Local\\Temp\\ipykernel_9232\\3948251361.py:1: DtypeWarning: Columns (3) have mixed types. Specify dtype option on import or set low_memory=False.\n",
      "  books_df = pd.read_csv(os.path.join(INPUT_DIR, 'Books.csv'))\n"
     ]
    },
    {
     "name": "stdout",
     "output_type": "stream",
     "text": [
      "<class 'pandas.core.frame.DataFrame'>\n",
      "RangeIndex: 271360 entries, 0 to 271359\n",
      "Data columns (total 8 columns):\n",
      " #   Column               Non-Null Count   Dtype \n",
      "---  ------               --------------   ----- \n",
      " 0   ISBN                 271360 non-null  object\n",
      " 1   Book-Title           271360 non-null  object\n",
      " 2   Book-Author          271359 non-null  object\n",
      " 3   Year-Of-Publication  271360 non-null  object\n",
      " 4   Publisher            271358 non-null  object\n",
      " 5   Image-URL-S          271360 non-null  object\n",
      " 6   Image-URL-M          271360 non-null  object\n",
      " 7   Image-URL-L          271357 non-null  object\n",
      "dtypes: object(8)\n",
      "memory usage: 16.6+ MB\n",
      "None\n",
      "         ISBN                                         Book-Title  \\\n",
      "0  0195153448                                Classical Mythology   \n",
      "1  0002005018                                       Clara Callan   \n",
      "2  0060973129                               Decision in Normandy   \n",
      "3  0374157065  Flu: The Story of the Great Influenza Pandemic...   \n",
      "4  0393045218                             The Mummies of Urumchi   \n",
      "\n",
      "            Book-Author Year-Of-Publication                   Publisher  \\\n",
      "0    Mark P. O. Morford                2002     Oxford University Press   \n",
      "1  Richard Bruce Wright                2001       HarperFlamingo Canada   \n",
      "2          Carlo D'Este                1991             HarperPerennial   \n",
      "3      Gina Bari Kolata                1999        Farrar Straus Giroux   \n",
      "4       E. J. W. Barber                1999  W. W. Norton &amp; Company   \n",
      "\n",
      "                                         Image-URL-S  \\\n",
      "0  http://images.amazon.com/images/P/0195153448.0...   \n",
      "1  http://images.amazon.com/images/P/0002005018.0...   \n",
      "2  http://images.amazon.com/images/P/0060973129.0...   \n",
      "3  http://images.amazon.com/images/P/0374157065.0...   \n",
      "4  http://images.amazon.com/images/P/0393045218.0...   \n",
      "\n",
      "                                         Image-URL-M  \\\n",
      "0  http://images.amazon.com/images/P/0195153448.0...   \n",
      "1  http://images.amazon.com/images/P/0002005018.0...   \n",
      "2  http://images.amazon.com/images/P/0060973129.0...   \n",
      "3  http://images.amazon.com/images/P/0374157065.0...   \n",
      "4  http://images.amazon.com/images/P/0393045218.0...   \n",
      "\n",
      "                                         Image-URL-L  \n",
      "0  http://images.amazon.com/images/P/0195153448.0...  \n",
      "1  http://images.amazon.com/images/P/0002005018.0...  \n",
      "2  http://images.amazon.com/images/P/0060973129.0...  \n",
      "3  http://images.amazon.com/images/P/0374157065.0...  \n",
      "4  http://images.amazon.com/images/P/0393045218.0...  \n"
     ]
    }
   ],
   "source": [
    "books_df = pd.read_csv(os.path.join(INPUT_DIR, 'Books.csv'))\n",
    "print(books_df.info())\n",
    "print(books_df.head())"
   ]
  },
  {
   "cell_type": "markdown",
   "id": "42b638e1",
   "metadata": {
    "papermill": {
     "duration": 0.013302,
     "end_time": "2022-10-26T12:58:51.640465",
     "exception": false,
     "start_time": "2022-10-26T12:58:51.627163",
     "status": "completed"
    },
    "tags": []
   },
   "source": [
    "The books table contains 8 columns:\n",
    "* ISBN                 \n",
    "* Book-Title           \n",
    "* Book-Author          \n",
    "* Year-Of-Publication  \n",
    "* Publisher            \n",
    "* Image-URL-S          \n",
    "* Image-URL-M          \n",
    "* Image-URL-L\n",
    "\n",
    "Publisher, book author and large image are missing for a couple of books, we will remove those books. Clicking on the URLs in the Image-URL columns we understand that those are the images for covers of the books. Even though it might contain some valuable information, we are not going to judge a book by its cover (at least for now!), so we will drop the image columns. "
   ]
  },
  {
   "cell_type": "code",
   "execution_count": 13,
   "id": "7de13249",
   "metadata": {
    "execution": {
     "iopub.execute_input": "2022-10-26T12:58:51.670383Z",
     "iopub.status.busy": "2022-10-26T12:58:51.669902Z",
     "iopub.status.idle": "2022-10-26T12:58:51.866385Z",
     "shell.execute_reply": "2022-10-26T12:58:51.864655Z"
    },
    "papermill": {
     "duration": 0.215502,
     "end_time": "2022-10-26T12:58:51.869555",
     "exception": false,
     "start_time": "2022-10-26T12:58:51.654053",
     "status": "completed"
    },
    "tags": []
   },
   "outputs": [
    {
     "name": "stdout",
     "output_type": "stream",
     "text": [
      "<class 'pandas.core.frame.DataFrame'>\n",
      "Int64Index: 271357 entries, 0 to 271359\n",
      "Data columns (total 5 columns):\n",
      " #   Column               Non-Null Count   Dtype \n",
      "---  ------               --------------   ----- \n",
      " 0   ISBN                 271357 non-null  object\n",
      " 1   Book-Title           271357 non-null  object\n",
      " 2   Book-Author          271357 non-null  object\n",
      " 3   Year-Of-Publication  271357 non-null  object\n",
      " 4   Publisher            271357 non-null  object\n",
      "dtypes: object(5)\n",
      "memory usage: 12.4+ MB\n",
      "None\n",
      "         ISBN                                         Book-Title  \\\n",
      "0  0195153448                                Classical Mythology   \n",
      "1  0002005018                                       Clara Callan   \n",
      "2  0060973129                               Decision in Normandy   \n",
      "3  0374157065  Flu: The Story of the Great Influenza Pandemic...   \n",
      "4  0393045218                             The Mummies of Urumchi   \n",
      "\n",
      "            Book-Author Year-Of-Publication                   Publisher  \n",
      "0    Mark P. O. Morford                2002     Oxford University Press  \n",
      "1  Richard Bruce Wright                2001       HarperFlamingo Canada  \n",
      "2          Carlo D'Este                1991             HarperPerennial  \n",
      "3      Gina Bari Kolata                1999        Farrar Straus Giroux  \n",
      "4       E. J. W. Barber                1999  W. W. Norton &amp; Company  \n"
     ]
    }
   ],
   "source": [
    "books_df_no_images = books_df.drop(columns = ['Image-URL-S', 'Image-URL-M', 'Image-URL-L'])\n",
    "books_df_no_images = books_df_no_images.dropna()\n",
    "print(books_df_no_images.info())\n",
    "print(books_df_no_images.head())"
   ]
  },
  {
   "cell_type": "markdown",
   "id": "da6d5a37",
   "metadata": {
    "papermill": {
     "duration": 0.01421,
     "end_time": "2022-10-26T12:58:51.898180",
     "exception": false,
     "start_time": "2022-10-26T12:58:51.883970",
     "status": "completed"
    },
    "tags": []
   },
   "source": [
    "The following checks if the ISBNs are valid and creates a dataframe for the rows with invalid ones."
   ]
  },
  {
   "cell_type": "code",
   "execution_count": 14,
   "id": "d9d1630b",
   "metadata": {
    "execution": {
     "iopub.execute_input": "2022-10-26T12:58:51.928675Z",
     "iopub.status.busy": "2022-10-26T12:58:51.927379Z",
     "iopub.status.idle": "2022-10-26T12:58:53.075449Z",
     "shell.execute_reply": "2022-10-26T12:58:53.074142Z"
    },
    "papermill": {
     "duration": 1.166231,
     "end_time": "2022-10-26T12:58:53.078244",
     "exception": false,
     "start_time": "2022-10-26T12:58:51.912013",
     "status": "completed"
    },
    "tags": []
   },
   "outputs": [
    {
     "name": "stdout",
     "output_type": "stream",
     "text": [
      "<class 'pandas.core.frame.DataFrame'>\n",
      "Int64Index: 118 entries, 6291 to 270688\n",
      "Data columns (total 5 columns):\n",
      " #   Column               Non-Null Count  Dtype \n",
      "---  ------               --------------  ----- \n",
      " 0   ISBN                 118 non-null    object\n",
      " 1   Book-Title           118 non-null    object\n",
      " 2   Book-Author          118 non-null    object\n",
      " 3   Year-Of-Publication  118 non-null    object\n",
      " 4   Publisher            118 non-null    object\n",
      "dtypes: object(5)\n",
      "memory usage: 5.5+ KB\n",
      "None\n",
      "             ISBN                                         Book-Title  \\\n",
      "6291   B00009ANY9                                         Cane River   \n",
      "10272  B0000A2U93                                           Carmilla   \n",
      "11185  B0000633PU        The Story of Aladdin and the Wonderful Lamp   \n",
      "13862  B00007FYKO  Bloodcurdling Tales of Horror and the Macabre:...   \n",
      "13865  B00009APKU                                          Moby Dick   \n",
      "\n",
      "                   Book-Author Year-Of-Publication                  Publisher  \n",
      "6291             Lalita Tademy                2001               Warner Books  \n",
      "10272  Joseph Sheridan Le Fanu                   0          Soft Editions Ltd  \n",
      "11185            S. Lane Poole                   0         Renaissance eBooks  \n",
      "13862          H. P. Lovecraft                   0                 Ballantine  \n",
      "13865          Herman Melville                   0  Outrigger Publishing, LLC  \n"
     ]
    }
   ],
   "source": [
    "books_invalid_ISBN = books_df_no_images[books_df_no_images['ISBN'].apply(is_valid) != True]\n",
    "print(books_invalid_ISBN.info())\n",
    "print(books_invalid_ISBN.head())"
   ]
  },
  {
   "cell_type": "markdown",
   "id": "62452351",
   "metadata": {
    "papermill": {
     "duration": 0.013943,
     "end_time": "2022-10-26T12:58:53.106070",
     "exception": false,
     "start_time": "2022-10-26T12:58:53.092127",
     "status": "completed"
    },
    "tags": []
   },
   "source": [
    "There are some 118 books with an invalid ISBN. Quick googling suggests that those are not ISBN at all and in fact are ASIN, which stands for Amazon Standard Identification Number. While that could have been ok and indeed we saw some of the similar numbers in the ratings dataframe, it seems wiser to remove books with ASIN instead of ISBN altogether as it is just a small fraction of books and it creates confusion. The following cell does just that."
   ]
  },
  {
   "cell_type": "code",
   "execution_count": 15,
   "id": "d0642588",
   "metadata": {
    "execution": {
     "iopub.execute_input": "2022-10-26T12:58:53.135451Z",
     "iopub.status.busy": "2022-10-26T12:58:53.134987Z",
     "iopub.status.idle": "2022-10-26T12:58:54.358633Z",
     "shell.execute_reply": "2022-10-26T12:58:54.357188Z"
    },
    "papermill": {
     "duration": 1.242627,
     "end_time": "2022-10-26T12:58:54.362566",
     "exception": false,
     "start_time": "2022-10-26T12:58:53.119939",
     "status": "completed"
    },
    "tags": []
   },
   "outputs": [
    {
     "name": "stdout",
     "output_type": "stream",
     "text": [
      "<class 'pandas.core.frame.DataFrame'>\n",
      "Int64Index: 271239 entries, 0 to 271359\n",
      "Data columns (total 5 columns):\n",
      " #   Column               Non-Null Count   Dtype \n",
      "---  ------               --------------   ----- \n",
      " 0   ISBN                 271239 non-null  object\n",
      " 1   Book-Title           271239 non-null  object\n",
      " 2   Book-Author          271239 non-null  object\n",
      " 3   Year-Of-Publication  271239 non-null  object\n",
      " 4   Publisher            271239 non-null  object\n",
      "dtypes: object(5)\n",
      "memory usage: 12.4+ MB\n",
      "None\n",
      "         ISBN                                         Book-Title  \\\n",
      "0  0195153448                                Classical Mythology   \n",
      "1  0002005018                                       Clara Callan   \n",
      "2  0060973129                               Decision in Normandy   \n",
      "3  0374157065  Flu: The Story of the Great Influenza Pandemic...   \n",
      "4  0393045218                             The Mummies of Urumchi   \n",
      "\n",
      "            Book-Author Year-Of-Publication                   Publisher  \n",
      "0    Mark P. O. Morford                2002     Oxford University Press  \n",
      "1  Richard Bruce Wright                2001       HarperFlamingo Canada  \n",
      "2          Carlo D'Este                1991             HarperPerennial  \n",
      "3      Gina Bari Kolata                1999        Farrar Straus Giroux  \n",
      "4       E. J. W. Barber                1999  W. W. Norton &amp; Company  \n"
     ]
    }
   ],
   "source": [
    "books_valid_ISBN = books_df_no_images[books_df_no_images['ISBN'].apply(is_valid)]\n",
    "print(books_valid_ISBN.info())\n",
    "print(books_valid_ISBN.head())"
   ]
  },
  {
   "cell_type": "markdown",
   "id": "90f34585",
   "metadata": {
    "papermill": {
     "duration": 0.014086,
     "end_time": "2022-10-26T12:58:54.391327",
     "exception": false,
     "start_time": "2022-10-26T12:58:54.377241",
     "status": "completed"
    },
    "tags": []
   },
   "source": [
    "For some reason the year of publication has type object instead of int. The next cell converts the years to integers and plots a histogram of the year of publication in the dataset."
   ]
  },
  {
   "cell_type": "code",
   "execution_count": 16,
   "id": "f8bec678",
   "metadata": {
    "execution": {
     "iopub.execute_input": "2022-10-26T12:58:54.423055Z",
     "iopub.status.busy": "2022-10-26T12:58:54.421908Z",
     "iopub.status.idle": "2022-10-26T12:58:54.865106Z",
     "shell.execute_reply": "2022-10-26T12:58:54.863920Z"
    },
    "papermill": {
     "duration": 0.461715,
     "end_time": "2022-10-26T12:58:54.867598",
     "exception": false,
     "start_time": "2022-10-26T12:58:54.405883",
     "status": "completed"
    },
    "tags": []
   },
   "outputs": [
    {
     "name": "stderr",
     "output_type": "stream",
     "text": [
      "C:\\Users\\ASUS\\AppData\\Local\\Temp\\ipykernel_9232\\692656067.py:1: SettingWithCopyWarning: \n",
      "A value is trying to be set on a copy of a slice from a DataFrame.\n",
      "Try using .loc[row_indexer,col_indexer] = value instead\n",
      "\n",
      "See the caveats in the documentation: https://pandas.pydata.org/pandas-docs/stable/user_guide/indexing.html#returning-a-view-versus-a-copy\n",
      "  books_valid_ISBN['Year-Of-Publication'] = pd.to_numeric(books_valid_ISBN['Year-Of-Publication'], errors='coerce')\n"
     ]
    },
    {
     "data": {
      "text/plain": [
       "<AxesSubplot:>"
      ]
     },
     "execution_count": 16,
     "metadata": {},
     "output_type": "execute_result"
    },
    {
     "data": {
      "image/png": "[encoded data removed]",
      "text/plain": [
       "<Figure size 432x288 with 1 Axes>"
      ]
     },
     "metadata": {
      "needs_background": "light"
     },
     "output_type": "display_data"
    }
   ],
   "source": [
    "books_valid_ISBN['Year-Of-Publication'] = pd.to_numeric(books_valid_ISBN['Year-Of-Publication'], errors='coerce')\n",
    "books_valid_ISBN = books_valid_ISBN.dropna()\n",
    "books_valid_ISBN['Year-Of-Publication'].hist()"
   ]
  },
  {
   "cell_type": "markdown",
   "id": "460ae563",
   "metadata": {
    "papermill": {
     "duration": 0.014305,
     "end_time": "2022-10-26T12:58:54.898133",
     "exception": false,
     "start_time": "2022-10-26T12:58:54.883828",
     "status": "completed"
    },
    "tags": []
   },
   "source": [
    "It seems that for some books the year of publication is unknown and is set to 0. We will drop those books and try plotting a histogram again."
   ]
  },
  {
   "cell_type": "code",
   "execution_count": 17,
   "id": "69617dc0",
   "metadata": {
    "execution": {
     "iopub.execute_input": "2022-10-26T12:58:54.929620Z",
     "iopub.status.busy": "2022-10-26T12:58:54.928746Z",
     "iopub.status.idle": "2022-10-26T12:58:55.202074Z",
     "shell.execute_reply": "2022-10-26T12:58:55.200850Z"
    },
    "papermill": {
     "duration": 0.292075,
     "end_time": "2022-10-26T12:58:55.204794",
     "exception": false,
     "start_time": "2022-10-26T12:58:54.912719",
     "status": "completed"
    },
    "tags": []
   },
   "outputs": [
    {
     "data": {
      "text/plain": [
       "<AxesSubplot:>"
      ]
     },
     "execution_count": 17,
     "metadata": {},
     "output_type": "execute_result"
    },
    {
     "data": {
      "image/png": "[encoded data removed]",
      "text/plain": [
       "<Figure size 432x288 with 1 Axes>"
      ]
     },
     "metadata": {
      "needs_background": "light"
     },
     "output_type": "display_data"
    }
   ],
   "source": [
    "books_valid_ISBN_known_year = books_valid_ISBN[books_valid_ISBN['Year-Of-Publication'] != 0]\n",
    "books_valid_ISBN_known_year['Year-Of-Publication'].hist()"
   ]
  },
  {
   "cell_type": "markdown",
   "id": "d677ae55",
   "metadata": {
    "papermill": {
     "duration": 0.014636,
     "end_time": "2022-10-26T12:58:55.234915",
     "exception": false,
     "start_time": "2022-10-26T12:58:55.220279",
     "status": "completed"
    },
    "tags": []
   },
   "source": [
    "It looks like there are no books published before 1900 in our dataset (which makes sense as you probably cannot buy such books on Amazon!). Just in case, we check the earliest publication year, and replot the histogram accordingly."
   ]
  },
  {
   "cell_type": "code",
   "execution_count": 18,
   "id": "53c37c86",
   "metadata": {
    "execution": {
     "iopub.execute_input": "2022-10-26T12:58:55.266299Z",
     "iopub.status.busy": "2022-10-26T12:58:55.265830Z",
     "iopub.status.idle": "2022-10-26T12:58:56.629136Z",
     "shell.execute_reply": "2022-10-26T12:58:56.627879Z"
    },
    "papermill": {
     "duration": 1.382235,
     "end_time": "2022-10-26T12:58:56.631785",
     "exception": false,
     "start_time": "2022-10-26T12:58:55.249550",
     "status": "completed"
    },
    "tags": []
   },
   "outputs": [
    {
     "name": "stdout",
     "output_type": "stream",
     "text": [
      "1376.0 2050.0\n"
     ]
    },
    {
     "data": {
      "text/plain": [
       "<AxesSubplot:>"
      ]
     },
     "execution_count": 18,
     "metadata": {},
     "output_type": "execute_result"
    },
    {
     "data": {
      "image/png": "[encoded data removed]",
      "text/plain": [
       "<Figure size 432x288 with 1 Axes>"
      ]
     },
     "metadata": {
      "needs_background": "light"
     },
     "output_type": "display_data"
    }
   ],
   "source": [
    "min_year = min(books_valid_ISBN_known_year['Year-Of-Publication'])\n",
    "max_year = max(books_valid_ISBN_known_year['Year-Of-Publication'])\n",
    "print(min_year, max_year)\n",
    "n_bins = int(np.sqrt(len(books_valid_ISBN_known_year['Year-Of-Publication'])))\n",
    "books_valid_ISBN_known_year['Year-Of-Publication'].hist(bins=n_bins)"
   ]
  },
  {
   "cell_type": "markdown",
   "id": "32535695",
   "metadata": {
    "papermill": {
     "duration": 0.016676,
     "end_time": "2022-10-26T12:58:56.666604",
     "exception": false,
     "start_time": "2022-10-26T12:58:56.649928",
     "status": "completed"
    },
    "tags": []
   },
   "source": [
    "Something strange is going on! Publishing started in 1439, but we have a book with 1376 as year of publication. Moreover, this dataset was last updated in 2020 but there is a book supposedly published in 2050. Let us check how many books there are in the dataset that are published before 1900 or after 2020."
   ]
  },
  {
   "cell_type": "code",
   "execution_count": 19,
   "id": "8bd3ff16",
   "metadata": {
    "execution": {
     "iopub.execute_input": "2022-10-26T12:58:56.700850Z",
     "iopub.status.busy": "2022-10-26T12:58:56.700405Z",
     "iopub.status.idle": "2022-10-26T12:58:56.722246Z",
     "shell.execute_reply": "2022-10-26T12:58:56.719874Z"
    },
    "papermill": {
     "duration": 0.044033,
     "end_time": "2022-10-26T12:58:56.725928",
     "exception": false,
     "start_time": "2022-10-26T12:58:56.681895",
     "status": "completed"
    },
    "tags": []
   },
   "outputs": [
    {
     "name": "stdout",
     "output_type": "stream",
     "text": [
      "<class 'pandas.core.frame.DataFrame'>\n",
      "Int64Index: 18 entries, 37487 to 260974\n",
      "Data columns (total 5 columns):\n",
      " #   Column               Non-Null Count  Dtype  \n",
      "---  ------               --------------  -----  \n",
      " 0   ISBN                 18 non-null     object \n",
      " 1   Book-Title           18 non-null     object \n",
      " 2   Book-Author          18 non-null     object \n",
      " 3   Year-Of-Publication  18 non-null     float64\n",
      " 4   Publisher            18 non-null     object \n",
      "dtypes: float64(1), object(4)\n",
      "memory usage: 864.0+ bytes\n",
      "None\n",
      "              ISBN                                         Book-Title  \\\n",
      "37487   0671746103  MY TEACHER FRIED MY BRAINS (RACK SIZE) (MY TEA...   \n",
      "55676   0671791990  MY TEACHER FLUNKED THE PLANET (RACK SIZE) (MY ...   \n",
      "78168   0870449842                                   Crossing America   \n",
      "80264   0140301690  Alice's Adventures in Wonderland and Through t...   \n",
      "97826   0140201092      Outline of European Architecture (Pelican S.)   \n",
      "116053  0394701658                       Three Plays of Eugene Oneill   \n",
      "118294  3442436893        Das groÃ?Â?e BÃ?Â¶se- MÃ?Â¤dchen- Lesebuch.   \n",
      "171817  0781228956  Complete Works 10 Volumes [2,6,7,8,9] (Notable...   \n",
      "183769  0590085417                                              Heidi   \n",
      "192993  0870446924  Field Guide to the Birds of North America, 3rd...   \n",
      "227531  9643112136                   Dalan-i bihisht (Dastan-i Irani)   \n",
      "228173  0671266500       FOREST PEOPLE (Touchstone Books (Hardcover))   \n",
      "240169  0684718022            In Our Time: Stories (Scribner Classic)   \n",
      "245607  0781268001  Hugh Wynne, Free Quaker (2 Volumes (BCL1-PS Am...   \n",
      "246842  0380000059                                              CLOUT   \n",
      "253750  964442011X                                       Tasht-i khun   \n",
      "255409  068471809X                               To Have and Have Not   \n",
      "260974  0671740989        FOOTBALL SUPER TEAMS : FOOTBALL SUPER TEAMS   \n",
      "\n",
      "                        Book-Author  Year-Of-Publication  \\\n",
      "37487                       Coville               2030.0   \n",
      "55676                 Bruce Coville               2030.0   \n",
      "78168   National Geographic Society               2030.0   \n",
      "80264                 Lewis Carroll               2050.0   \n",
      "97826              Nikolaus Pevsner               2050.0   \n",
      "116053               Eugene O'Neill               2038.0   \n",
      "118294                  Kathy Lette               2026.0   \n",
      "171817            Benjamin Franklin               1806.0   \n",
      "183769                Johanna Spyri               2021.0   \n",
      "192993  National Geographic Society               2030.0   \n",
      "227531                  Nazi Safavi               1378.0   \n",
      "228173            Colin M. Turnbull               2030.0   \n",
      "240169             Ernest Hemingway               2030.0   \n",
      "245607          Silas Weir Mitchell               1897.0   \n",
      "246842                   D. GIBBONS               2024.0   \n",
      "253750               IsmaÂ°il Fasih               1376.0   \n",
      "255409             Ernest Hemingway               2037.0   \n",
      "260974                  Bill Gutman               2030.0   \n",
      "\n",
      "                                         Publisher  \n",
      "37487                                      Aladdin  \n",
      "55676                                      Aladdin  \n",
      "78168                          National Geographic  \n",
      "80264                                 Puffin Books  \n",
      "97826                                  Penguin USA  \n",
      "116053                           Vintage Books USA  \n",
      "118294                                    Goldmann  \n",
      "171817                       Reprint Services Corp  \n",
      "183769                                  Scholastic  \n",
      "192993                         National Geographic  \n",
      "227531                         Intisharat-i Quqnus  \n",
      "228173                        Simon &amp; Schuster  \n",
      "240169                               Collier Books  \n",
      "245607                       Reprint Services Corp  \n",
      "246842                                        Avon  \n",
      "253750                              Nashr-i Alburz  \n",
      "255409                        Simon &amp; Schuster  \n",
      "260974  Simon &amp; Schuster Children's Publishing  \n"
     ]
    }
   ],
   "source": [
    "books_abnormal_year = books_valid_ISBN_known_year[(books_valid_ISBN_known_year['Year-Of-Publication'] < 1900) |\n",
    "                                                  (books_valid_ISBN_known_year['Year-Of-Publication'] > 2020)]\n",
    "print(books_abnormal_year.info())\n",
    "print(books_abnormal_year)"
   ]
  },
  {
   "cell_type": "markdown",
   "id": "002ab421",
   "metadata": {
    "papermill": {
     "duration": 0.015084,
     "end_time": "2022-10-26T12:58:56.759241",
     "exception": false,
     "start_time": "2022-10-26T12:58:56.744157",
     "status": "completed"
    },
    "tags": []
   },
   "source": [
    "It is not too many books with a strange year. All of the books published early seem to have a correct publication date, but we would still delete the books published before 1810, as it is only 4 of them. As for the books with a publishing year over 2020, that is for sure incorrect and we will get rid of them as well."
   ]
  },
  {
   "cell_type": "code",
   "execution_count": 20,
   "id": "35b8adbf",
   "metadata": {
    "execution": {
     "iopub.execute_input": "2022-10-26T12:58:56.791817Z",
     "iopub.status.busy": "2022-10-26T12:58:56.791408Z",
     "iopub.status.idle": "2022-10-26T12:58:58.139097Z",
     "shell.execute_reply": "2022-10-26T12:58:58.137916Z"
    },
    "papermill": {
     "duration": 1.366958,
     "end_time": "2022-10-26T12:58:58.141616",
     "exception": false,
     "start_time": "2022-10-26T12:58:56.774658",
     "status": "completed"
    },
    "tags": []
   },
   "outputs": [
    {
     "name": "stdout",
     "output_type": "stream",
     "text": [
      "<class 'pandas.core.frame.DataFrame'>\n",
      "Int64Index: 266656 entries, 0 to 271359\n",
      "Data columns (total 5 columns):\n",
      " #   Column               Non-Null Count   Dtype  \n",
      "---  ------               --------------   -----  \n",
      " 0   ISBN                 266656 non-null  object \n",
      " 1   Book-Title           266656 non-null  object \n",
      " 2   Book-Author          266656 non-null  object \n",
      " 3   Year-Of-Publication  266656 non-null  float64\n",
      " 4   Publisher            266656 non-null  object \n",
      "dtypes: float64(1), object(4)\n",
      "memory usage: 12.2+ MB\n",
      "None\n",
      "         ISBN                                         Book-Title  \\\n",
      "0  0195153448                                Classical Mythology   \n",
      "1  0002005018                                       Clara Callan   \n",
      "2  0060973129                               Decision in Normandy   \n",
      "3  0374157065  Flu: The Story of the Great Influenza Pandemic...   \n",
      "4  0393045218                             The Mummies of Urumchi   \n",
      "\n",
      "            Book-Author  Year-Of-Publication                   Publisher  \n",
      "0    Mark P. O. Morford               2002.0     Oxford University Press  \n",
      "1  Richard Bruce Wright               2001.0       HarperFlamingo Canada  \n",
      "2          Carlo D'Este               1991.0             HarperPerennial  \n",
      "3      Gina Bari Kolata               1999.0        Farrar Straus Giroux  \n",
      "4       E. J. W. Barber               1999.0  W. W. Norton &amp; Company  \n"
     ]
    },
    {
     "data": {
      "text/plain": [
       "<AxesSubplot:>"
      ]
     },
     "execution_count": 20,
     "metadata": {},
     "output_type": "execute_result"
    },
    {
     "data": {
      "image/png": "[encoded data removed]",
      "text/plain": [
       "<Figure size 432x288 with 1 Axes>"
      ]
     },
     "metadata": {
      "needs_background": "light"
     },
     "output_type": "display_data"
    }
   ],
   "source": [
    "books_valid_ISBN_known_year = books_valid_ISBN_known_year[(books_valid_ISBN_known_year['Year-Of-Publication'] > 1810) &\n",
    "                                                  (books_valid_ISBN_known_year['Year-Of-Publication'] <= 2020)]\n",
    "print(books_valid_ISBN_known_year.info())\n",
    "print(books_valid_ISBN_known_year.head())\n",
    "books_valid_ISBN_known_year['Year-Of-Publication'].hist(bins=n_bins)"
   ]
  },
  {
   "cell_type": "markdown",
   "id": "392d2011",
   "metadata": {
    "papermill": {
     "duration": 0.01546,
     "end_time": "2022-10-26T12:58:58.172771",
     "exception": false,
     "start_time": "2022-10-26T12:58:58.157311",
     "status": "completed"
    },
    "tags": []
   },
   "source": [
    "Now let us look at the publishers. We will group the books by the publishers and sort it by the amount of books."
   ]
  },
  {
   "cell_type": "code",
   "execution_count": 21,
   "id": "b16754f3",
   "metadata": {
    "execution": {
     "iopub.execute_input": "2022-10-26T12:58:58.207252Z",
     "iopub.status.busy": "2022-10-26T12:58:58.206700Z",
     "iopub.status.idle": "2022-10-26T12:58:58.279627Z",
     "shell.execute_reply": "2022-10-26T12:58:58.278342Z"
    },
    "papermill": {
     "duration": 0.093349,
     "end_time": "2022-10-26T12:58:58.282397",
     "exception": false,
     "start_time": "2022-10-26T12:58:58.189048",
     "status": "completed"
    },
    "tags": []
   },
   "outputs": [
    {
     "name": "stdout",
     "output_type": "stream",
     "text": [
      "16385\n",
      "Publisher\n",
      "Harlequin                   7535\n",
      "Silhouette                  4220\n",
      "Pocket                      3870\n",
      "Ballantine Books            3764\n",
      "Bantam Books                3642\n",
      "Scholastic                  3156\n",
      "Simon &amp; Schuster        2959\n",
      "Penguin Books               2843\n",
      "Berkley Publishing Group    2767\n",
      "Penguin USA                 2714\n",
      "Warner Books                2701\n",
      "Harpercollins               2518\n",
      "Fawcett Books               2257\n",
      "Signet Book                 2067\n",
      "Random House Inc            2045\n",
      "Name: ISBN, dtype: int64\n"
     ]
    }
   ],
   "source": [
    "publishers_sorted = books_valid_ISBN_known_year.groupby('Publisher')['ISBN'].count().sort_values(ascending=False)\n",
    "print(len(publishers_sorted))\n",
    "print(publishers_sorted.head(15))"
   ]
  },
  {
   "cell_type": "markdown",
   "id": "acf04304",
   "metadata": {
    "papermill": {
     "duration": 0.015564,
     "end_time": "2022-10-26T12:58:58.314287",
     "exception": false,
     "start_time": "2022-10-26T12:58:58.298723",
     "status": "completed"
    },
    "tags": []
   },
   "source": [
    "So, in our dataset there are ~16k different publishers for our 266.5k books. What are the top 5 publishers?\n",
    "* **Harlequin** is a famous romance and women's fiction pusblisher. It was founded in 1949 and became a division of **HarperCollins** in 2014. \n",
    "* **Silhouette** was formed in 1980 to fill the gap opened when **Harlequin** terminated its distribution contract with **Simon & Schuster** and **Pocket Books** in 1976. Similar to **Harlequin**, they published romance novels, but the authors were encouraged to experiment with the genre. In 1984, **Harlequin** purchased **Silhouette** from **Simon & Schuster**.\n",
    "* **Pocket** is a division of **Simon & Schuster** that specializes in paperback books, founded in 1939. It publishes various genre, from novelizations of movies to the works of Shakespeare.\n",
    "* **Ballantine Books** was founded in 1952 and acquired by **Random House** in 1973. It is known for its paperback science fiction and fantasy, especially their paperback edition of J.R.R.Tolkien's *The Lord of The Rings*, which included a message on the back cover from Tolkien himself urging consumers to buy Ballantine's version and boycott \"unauthorized editions\" (i.e. the version from Ace Books). \n",
    "* **Bantam Books**, owned by **Random House** now, was founded in 1945 and first published mostly reprints of hardcover books. They publish very different books, including classics, sci-fi, and children's books.   \n"
   ]
  },
  {
   "cell_type": "markdown",
   "id": "b1d8e8c5",
   "metadata": {
    "papermill": {
     "duration": 0.016443,
     "end_time": "2022-10-26T12:58:58.347436",
     "exception": false,
     "start_time": "2022-10-26T12:58:58.330993",
     "status": "completed"
    },
    "tags": []
   },
   "source": [
    "This information about the publishers suggests that while some publishers focus on a specific genre, the others might just print cheap paperbacks of all sorts. We could use it later for recommendations, adding features such as genre and paperback/hardcover."
   ]
  },
  {
   "cell_type": "markdown",
   "id": "02e10e6b",
   "metadata": {},
   "source": [
    "We write our cleaned up dataframe to csv file. "
   ]
  },
  {
   "cell_type": "code",
   "execution_count": 22,
   "id": "84f78be6",
   "metadata": {
    "execution": {
     "iopub.execute_input": "2022-10-26T12:58:58.381599Z",
     "iopub.status.busy": "2022-10-26T12:58:58.381189Z",
     "iopub.status.idle": "2022-10-26T12:58:59.384374Z",
     "shell.execute_reply": "2022-10-26T12:58:59.383138Z"
    },
    "papermill": {
     "duration": 1.023352,
     "end_time": "2022-10-26T12:58:59.387248",
     "exception": false,
     "start_time": "2022-10-26T12:58:58.363896",
     "status": "completed"
    },
    "tags": []
   },
   "outputs": [],
   "source": [
    "books_valid_ISBN_known_year.to_csv(os.path.join(OUTPUT_DIR, 'Books_valid_ISBN_known_year_no_images.csv'), index=False)"
   ]
  },
  {
   "cell_type": "markdown",
   "id": "6d34d1da",
   "metadata": {
    "papermill": {
     "duration": 0.015608,
     "end_time": "2022-10-26T12:58:59.418910",
     "exception": false,
     "start_time": "2022-10-26T12:58:59.403302",
     "status": "completed"
    },
    "tags": []
   },
   "source": [
    "Finally, let us check out the users table."
   ]
  },
  {
   "cell_type": "code",
   "execution_count": 23,
   "id": "fd094763",
   "metadata": {
    "execution": {
     "iopub.execute_input": "2022-10-26T12:58:59.453088Z",
     "iopub.status.busy": "2022-10-26T12:58:59.452217Z",
     "iopub.status.idle": "2022-10-26T12:58:59.873821Z",
     "shell.execute_reply": "2022-10-26T12:58:59.872056Z"
    },
    "papermill": {
     "duration": 0.442897,
     "end_time": "2022-10-26T12:58:59.877655",
     "exception": false,
     "start_time": "2022-10-26T12:58:59.434758",
     "status": "completed"
    },
    "tags": []
   },
   "outputs": [
    {
     "name": "stdout",
     "output_type": "stream",
     "text": [
      "<class 'pandas.core.frame.DataFrame'>\n",
      "RangeIndex: 278858 entries, 0 to 278857\n",
      "Data columns (total 3 columns):\n",
      " #   Column    Non-Null Count   Dtype  \n",
      "---  ------    --------------   -----  \n",
      " 0   User-ID   278858 non-null  int64  \n",
      " 1   Location  278858 non-null  object \n",
      " 2   Age       168096 non-null  float64\n",
      "dtypes: float64(1), int64(1), object(1)\n",
      "memory usage: 6.4+ MB\n",
      "None\n",
      "   User-ID                            Location   Age\n",
      "0        1                  nyc, new york, usa   NaN\n",
      "1        2           stockton, california, usa  18.0\n",
      "2        3     moscow, yukon territory, russia   NaN\n",
      "3        4           porto, v.n.gaia, portugal  17.0\n",
      "4        5  farnborough, hants, united kingdom   NaN\n"
     ]
    }
   ],
   "source": [
    "users_df = pd.read_csv(os.path.join(INPUT_DIR, 'Users.csv'))\n",
    "print(users_df.info())\n",
    "print(users_df.head())"
   ]
  },
  {
   "cell_type": "markdown",
   "id": "403ef106",
   "metadata": {
    "papermill": {
     "duration": 0.016349,
     "end_time": "2022-10-26T12:58:59.911337",
     "exception": false,
     "start_time": "2022-10-26T12:58:59.894988",
     "status": "completed"
    },
    "tags": []
   },
   "source": [
    "So, the users table contains information about ~280k users anonymised with the User-ID, with location and age. The \"Location\" column seems to contain information in the form \"place, region, country\", although \"moscow, yukon territory, russia\" seems wrong, considering that Yukon territory is in Canada very far from the Russian capital (it could be some other Moscow, of course, but in Russia there is only one Moscow). We next check how many users have missing info."
   ]
  },
  {
   "cell_type": "code",
   "execution_count": 24,
   "id": "64dd2620",
   "metadata": {
    "execution": {
     "iopub.execute_input": "2022-10-26T12:58:59.945742Z",
     "iopub.status.busy": "2022-10-26T12:58:59.945314Z",
     "iopub.status.idle": "2022-10-26T12:58:59.969771Z",
     "shell.execute_reply": "2022-10-26T12:58:59.968363Z"
    },
    "papermill": {
     "duration": 0.044408,
     "end_time": "2022-10-26T12:58:59.972290",
     "exception": false,
     "start_time": "2022-10-26T12:58:59.927882",
     "status": "completed"
    },
    "tags": []
   },
   "outputs": [
    {
     "name": "stdout",
     "output_type": "stream",
     "text": [
      "Location 0\n",
      "Age 110762\n"
     ]
    }
   ],
   "source": [
    "for column in ['Location', 'Age']:\n",
    "    print(column, users_df[column].isna().sum())"
   ]
  },
  {
   "cell_type": "markdown",
   "id": "b5065f42",
   "metadata": {
    "papermill": {
     "duration": 0.016464,
     "end_time": "2022-10-26T12:59:00.005083",
     "exception": false,
     "start_time": "2022-10-26T12:58:59.988619",
     "status": "completed"
    },
    "tags": []
   },
   "source": [
    "A bit less that half of the users do not have age specified. For those who does, let us see the amount of users for every age, sorted from high to low by the amount of people of that age."
   ]
  },
  {
   "cell_type": "code",
   "execution_count": 25,
   "id": "214639c0",
   "metadata": {
    "execution": {
     "iopub.execute_input": "2022-10-26T12:59:00.041958Z",
     "iopub.status.busy": "2022-10-26T12:59:00.041491Z",
     "iopub.status.idle": "2022-10-26T12:59:00.062900Z",
     "shell.execute_reply": "2022-10-26T12:59:00.061399Z"
    },
    "papermill": {
     "duration": 0.043199,
     "end_time": "2022-10-26T12:59:00.065693",
     "exception": false,
     "start_time": "2022-10-26T12:59:00.022494",
     "status": "completed"
    },
    "tags": []
   },
   "outputs": [
    {
     "name": "stdout",
     "output_type": "stream",
     "text": [
      "Age\n",
      "24.0     5687\n",
      "25.0     5618\n",
      "26.0     5547\n",
      "23.0     5456\n",
      "27.0     5383\n",
      "         ... \n",
      "159.0       1\n",
      "162.0       1\n",
      "168.0       1\n",
      "172.0       1\n",
      "244.0       1\n",
      "Name: User-ID, Length: 165, dtype: int64\n"
     ]
    }
   ],
   "source": [
    "ages = users_df.groupby('Age')['User-ID'].count().sort_values(ascending=False)\n",
    "print(ages)"
   ]
  },
  {
   "cell_type": "markdown",
   "id": "924d8eaa",
   "metadata": {
    "papermill": {
     "duration": 0.015757,
     "end_time": "2022-10-26T12:59:00.097554",
     "exception": false,
     "start_time": "2022-10-26T12:59:00.081797",
     "status": "completed"
    },
    "tags": []
   },
   "source": [
    "Seems that some people have lied about their age, as there are no verified records about someone living over 122 years. Let us check how many people with the supposed age of over 100 we have in the table."
   ]
  },
  {
   "cell_type": "code",
   "execution_count": 26,
   "id": "ebd702e5",
   "metadata": {
    "execution": {
     "iopub.execute_input": "2022-10-26T12:59:00.132470Z",
     "iopub.status.busy": "2022-10-26T12:59:00.131349Z",
     "iopub.status.idle": "2022-10-26T12:59:00.140141Z",
     "shell.execute_reply": "2022-10-26T12:59:00.138571Z"
    },
    "papermill": {
     "duration": 0.028976,
     "end_time": "2022-10-26T12:59:00.142758",
     "exception": false,
     "start_time": "2022-10-26T12:59:00.113782",
     "status": "completed"
    },
    "tags": []
   },
   "outputs": [
    {
     "name": "stdout",
     "output_type": "stream",
     "text": [
      "366\n"
     ]
    }
   ],
   "source": [
    "print(len(users_df[users_df['Age']>100]))"
   ]
  },
  {
   "cell_type": "markdown",
   "id": "6a792349",
   "metadata": {
    "papermill": {
     "duration": 0.015989,
     "end_time": "2022-10-26T12:59:00.175381",
     "exception": false,
     "start_time": "2022-10-26T12:59:00.159392",
     "status": "completed"
    },
    "tags": []
   },
   "source": [
    "366 is not that many compared to the size of our table and even if someone is over 100 years, they probably do not buy their books on Amazon. We will remove age for those people, and then look at the histogram for the age of the users."
   ]
  },
  {
   "cell_type": "code",
   "execution_count": 27,
   "id": "f0418f33",
   "metadata": {
    "execution": {
     "iopub.execute_input": "2022-10-26T12:59:00.210041Z",
     "iopub.status.busy": "2022-10-26T12:59:00.209598Z",
     "iopub.status.idle": "2022-10-26T12:59:00.454992Z",
     "shell.execute_reply": "2022-10-26T12:59:00.454089Z"
    },
    "papermill": {
     "duration": 0.265522,
     "end_time": "2022-10-26T12:59:00.457490",
     "exception": false,
     "start_time": "2022-10-26T12:59:00.191968",
     "status": "completed"
    },
    "tags": []
   },
   "outputs": [
    {
     "data": {
      "text/plain": [
       "<AxesSubplot:>"
      ]
     },
     "execution_count": 27,
     "metadata": {},
     "output_type": "execute_result"
    },
    {
     "data": {
      "image/png": "[encoded data removed]",
      "text/plain": [
       "<Figure size 432x288 with 1 Axes>"
      ]
     },
     "metadata": {
      "needs_background": "light"
     },
     "output_type": "display_data"
    }
   ],
   "source": [
    "users_df.loc[users_df['Age'] > 100, 'Age'] = np.nan\n",
    "users_df['Age'].hist()"
   ]
  },
  {
   "cell_type": "markdown",
   "id": "33dc5dad",
   "metadata": {
    "papermill": {
     "duration": 0.017532,
     "end_time": "2022-10-26T12:59:00.491639",
     "exception": false,
     "start_time": "2022-10-26T12:59:00.474107",
     "status": "completed"
    },
    "tags": []
   },
   "source": [
    "This looks reasonable. Now let us deal with the location column. First of all, let us create a new column that contains only the country. It seems that the country is the last part of the location, after the last comma, let us separate that and put it in its own column. We will then group the data by country and see how many users are there from each country."
   ]
  },
  {
   "cell_type": "code",
   "execution_count": 28,
   "id": "6ef189a9",
   "metadata": {
    "execution": {
     "iopub.execute_input": "2022-10-26T12:59:00.530766Z",
     "iopub.status.busy": "2022-10-26T12:59:00.530341Z",
     "iopub.status.idle": "2022-10-26T12:59:00.757095Z",
     "shell.execute_reply": "2022-10-26T12:59:00.755350Z"
    },
    "papermill": {
     "duration": 0.251257,
     "end_time": "2022-10-26T12:59:00.761534",
     "exception": false,
     "start_time": "2022-10-26T12:59:00.510277",
     "status": "completed"
    },
    "tags": []
   },
   "outputs": [
    {
     "name": "stdout",
     "output_type": "stream",
     "text": [
      "Country\n",
      "usa                                    139711\n",
      "canada                                  21658\n",
      "united kingdom                          18538\n",
      "germany                                 17043\n",
      "spain                                   13147\n",
      "                                        ...  \n",
      "madagascar                                  1\n",
      "macedonia\"                                  1\n",
      "burkinafasu                                 1\n",
      "los estados unidos de norte america         1\n",
      "nyhamnsläge                                 1\n",
      "Name: User-ID, Length: 709, dtype: int64\n"
     ]
    }
   ],
   "source": [
    "users_df['Country'] = users_df['Location'].apply(lambda x: x.split(\",\")[-1].strip())\n",
    "users_by_country = users_df.groupby('Country')['User-ID'].count().sort_values(ascending=False)\n",
    "print(users_by_country)"
   ]
  },
  {
   "cell_type": "markdown",
   "id": "5c53b769",
   "metadata": {
    "papermill": {
     "duration": 0.016375,
     "end_time": "2022-10-26T12:59:00.796362",
     "exception": false,
     "start_time": "2022-10-26T12:59:00.779987",
     "status": "completed"
    },
    "tags": []
   },
   "source": [
    "We see that we found 709 countries. That can't be true, considering there are only 195 countries in the world (even counting some countries like USSR or Yugoslavia that ceased to exist, there couldn't be so many). Let us make a list of distinct countries and look at it, probably there are some typos and non-English names (like \"los estados unidos de norte america\")."
   ]
  },
  {
   "cell_type": "markdown",
   "id": "80452817",
   "metadata": {
    "papermill": {
     "duration": 0.016354,
     "end_time": "2022-10-26T12:59:00.829493",
     "exception": false,
     "start_time": "2022-10-26T12:59:00.813139",
     "status": "completed"
    },
    "tags": []
   },
   "source": []
  },
  {
   "cell_type": "code",
   "execution_count": 29,
   "id": "ef56c9e8",
   "metadata": {
    "execution": {
     "iopub.execute_input": "2022-10-26T12:59:00.865427Z",
     "iopub.status.busy": "2022-10-26T12:59:00.864982Z",
     "iopub.status.idle": "2022-10-26T12:59:00.898640Z",
     "shell.execute_reply": "2022-10-26T12:59:00.897279Z"
    },
    "papermill": {
     "duration": 0.055068,
     "end_time": "2022-10-26T12:59:00.901822",
     "exception": false,
     "start_time": "2022-10-26T12:59:00.846754",
     "status": "completed"
    },
    "tags": []
   },
   "outputs": [
    {
     "name": "stdout",
     "output_type": "stream",
     "text": [
      "['', '\"', '&#20013;&#22269;', '&#32654;&#22269;', '*', '-', '-------', '.', '01776', '02458', '19104', '23232', '30064', '5057chadwick ct.', '85021', '87510', '?ú?{', '\\\\\"n/a\\\\\"\"', '\\\\n/a\\\\\"\"', '_ brasil', 'a', 'aaa', 'adsgfdr', 'afganstand holla !!', 'afghanistan', 'ahrensburg', 'alachua', 'albania', 'alderney', 'algeria', 'algérie', 'allen', 'ama lurra', 'america', 'american samoa', 'andorra', 'andorra\"', 'angola', 'antarctica', 'antigua & barbuda', 'antigua and barbuda', 'aotearoa', 'argentina', 'argentina\"', 'armenia', 'aroostook', 'aruba', 'asturies', 'auckland', 'austbritania', 'australia', 'australia\"', 'australii', 'austria', 'austria\"', 'autralia', 'az', 'azerbaijan', 'bademn würtemberg', 'baden-württemberg', 'bahamas', 'bahrain', 'baltimore', 'bangladesh', 'bangladesh\"', 'barbados', 'basilicata', 'basque country', 'bavaria', 'baxter', 'bbbzzzzz', 'belarus', 'belgi', 'belgique', 'belgium', 'belgium\"', 'belize', 'bell', 'benin', 'berguedà', 'bermuda', 'bernalillo', 'bfe', 'bhutan', 'bih', 'bkk', 'bladen', 'bolivia', 'bosnia', 'bosnia and herzegovina', 'botswana', 'brasil', 'brazil', 'brazil\"', 'british virgin islands', 'brunei', 'brunei darussalam', 'bucks', 'bulgaria', 'buncombe', 'burkina faso', 'burkinafasu', 'burlington', 'burma', 'burma\"', 'butler', 'c', 'c.a.', 'cadd0', 'calabria', 'california', 'cambodia', 'camden', 'cameroon', 'can', 'canada', 'canada eh', 'cananda', 'canda', 'cape may', 'cape town', 'cape verde', 'cape verde\"', 'caribbean sea', 'carter', 'cass', 'catalonia', 'catalunya', 'catalunya spain', 'catalunya(catalonia)', 'cayman islands', 'chad', 'channel islands', 'cherokee', 'chian', 'chile', 'chile\"', 'china', 'china people`s republic', 'china öð¹ú', 'china\"', 'chinaöð¹ú', 'citrus.', 'clackamas', 'clinton', 'cn', 'cnina', 'collin', 'colombia', 'colombia\"', 'commonwealth of northern mariana islands', 'comoros', 'congo', 'cook', 'copenhagen', 'costa rica', 'costa rica\"', 'cote d`ivoire', 'cote d`ivoire\"', 'country', 'courtenay', 'croatia', 'croatia\"', 'csa', 'cuba', 'cyprus', 'czech republic', 'czech republic\"', 'côte d', 'dauphin', 'davidson', 'de', 'dekalb', 'denmark', 'denmark\"', 'der', 'deutsches reich', 'deutschland', 'deutschland\"', 'dfg', 'disgruntled states of america', 'distrito federal', 'diy', 'djibouti', 'dominica', 'dominican republic', 'doodedoo', 'dublin', 'east africa', 'ecuador', 'ee.uu', 'effingham', 'egypt', 'egypt\"', 'el salvador', 'england', 'england uk', 'english', 'equatorial geuinea', 'eritrea', 'espanha / galiza', 'espaã?â±a', 'espaã±a', 'españa', 'españa\"', 'essex', 'estonia', 'ethiopia', 'europa', 'europe', 'europe.', 'euskadi', 'euskal herria', 'everywhere and anywhere', 'evil empire', 'exactly where i am', 'fairyland', 'far away...', 'faroe islands', 'fernando de la mora', 'ferrara', 'fifi', 'fiji', 'finland', 'finland\"', 'fontana', 'fort bend', 'fortaleza', 'framingham', 'france', 'france\"', 'fred', 'fredonia - land of the brave and free', 'frome', 'fulton', 'gabon', 'galiza', 'galiza neghra', 'gb', 'geermany', 'georgia', 'germany', 'germany\"', 'germay', 'ghana', 'ghana\"', 'good old u.s.a.', 'good old usa !', 'goteborg', 'granville', 'greece', 'greece (=hellas)', 'greece\"', 'grenada', 'guam', 'guatemala', 'guatemala\"', 'guernsey', 'guinea', 'guinea-bissau', 'guyana', 'h.u.g.', 'haiti', 'hamilton', 'hampden', 'harvatija', 'heaven', 'hennipen', 'henry', 'here and there', 'hernando', 'hidalgo', 'hillsborough', 'holland', 'holy see', 'home of the van!!', 'honduras', 'hong kong', 'hong kong\"', 'hongkong', 'hornyonic', 'houston', 'hungary', 'hungary and usa', 'hungary\"', 'iceland', 'iceland\"', 'id', 'il canada', 'in', 'in your heart', 'india', 'india\"', 'indiai', 'indonesia', 'indonesia\"', 'input error', 'iran', 'iran\"', 'iraq', 'ireland', 'ireland\"', 'isle of man', 'israel', 'israel\"', 'isreal', 'italia', 'italien', 'italy', 'italy\"', 'itlay', 'jackson', 'jamaica', 'jamaica\"', 'japan', 'jersey', 'johnson', 'jordan', 'k1c7b1', 'kazakhstan', 'kenya', 'kern', 'kiribati', 'korea', 'kosovo', 'ksa', 'kuwait', 'kyrgyzstan', 'kz', 'l', 'l`algérie', 'l`italia', 'la argentina', 'la belgique', 'la chine eternelle!', 'la chine éternelle !', 'la chine éternelle!', 'la france', 'la suisse', 'la svizzera', 'lake', 'lane', 'laos', 'latvia', 'lawrenceville', 'lazio', 'le canada', 'le madagascar', 'lebanon', 'lecce', 'lee', 'lesotho', 'liaoning', 'liberia', 'libya', 'libya\"', 'lithuania', 'lithuania\"', 'liushi', 'livingston', 'lj', 'lkjlj', 'lleida', 'lombardia', 'london', 'lornsenland', 'los estados unidos de norte america', 'luxembourg', 'luxembourg\"', 'macau', 'macedonia', 'macedonia\"', 'madagascar', 'madrid', 'maine', 'malawi', 'malaysia', 'malaysia\"', 'malaysian', 'maldives', 'mali', 'malta', 'maracopa', 'maricopa', 'maroc', 'marrion', 'marshall islands', 'mauritania', 'mauritius', 'mauritius\"', 'mexico', 'mexico\"', 'micronesia', 'milano', 'minnehaha', 'missouri', 'moldova', 'monaco', 'mongolia', 'monroe', 'monterrey', 'mordor', 'morgan', 'morocco', 'morocco\"', 'mozambique', 'mozambique\"', 'moçambique', 'my', 'myanmar', 'mã?â©xico', 'mérida', 'méxico', 'n/a', 'n/a - on the road', 'namibia', 'nederlands', 'nepal', 'netherlands', 'netherlands antilles', 'netherlands\"', 'neverland', 'new london', 'new zealand', 'new zealand\"', 'newzealand', 'nh', 'nicaragua', 'niger', 'nigeria', 'nigeria\"', 'nl', 'no more', 'none', 'north carolina', 'north korea', 'northern ireland', 'norway', 'norway\"', 'nowhere', 'nrw', 'nyc', 'nyhamnsläge', 'nz', 'oakland', 'ohio', 'oman', 'onondaga nation', 'orange co', 'orense', 'osceola', 'ouranos', 'p r china', 'p.r. china', 'p.r.c', 'p.r.china', 'pa', 'pakistan', 'pakistan\"', 'pakistan.', 'palau', 'palestine', 'palm beach', 'panama', 'papua new guinea', 'paraguay', 'pasco', 'pender', 'people`s republic of china', 'peru', 'peru\"', 'perãº', 'petrolwar nation', 'phila', 'philippine', 'philippines', 'philippines\"', 'philippinies', 'phillipines', 'phils', 'phippines', 'pinallas', 'pippo', 'pistlavakia', 'poland', 'poland\"', 'polk', 'polska', 'portugal', 'portugal\"', 'pr', 'prc', 'prince william', 'pueblo', 'puerto rico', 'qatar', 'queensland', 'queenspark', 'quit', 'r.o.c.', 'rapides', 'rep san marino', 'rep. san marino', 'republic of korea', 'republic of panama', 'rice', 'richmond country', 'rmi', 'roma', 'romania', 'romania\"', 'rosario', 'rosello', 'rsa', 'russia', 'russian federation', 'rutherford', 'rwanda', 's.africa', 's.corea', 'saint kitts and nevis', 'saint loius', 'saint lucia', 'saint luica', 'saint vincent and the grenadines', 'saint vincent and the grenadines\"', 'samoa', 'san bernardino', 'san franicsco', 'san marino', 'san mateo', 'santa barbara', 'sao tome and principe', 'sao tome and principe\"', 'sardegna', 'sardinia', 'saudi arabia', 'saudia arabia', 'scotland', 'scotland\"', 'senegal', 'serbia', 'serbia & montenegro', 'serbia and montenegro', 'shelby', 'sicilia', 'sierra leone', 'singapore', 'singapore\"', 'singapore/united kingdom', 'slo', 'slovak republik', 'slovakia', 'slovakia\"', 'slovenia', 'slovenia\"', 'smith', 'solano', 'solomon islands', 'somalia', 'somewherein space', 'south africa', 'south korea', 'south korea\"', 'space', 'spain', 'spain\"', 'spotsylvania', 'sri lanka', 'sri lanka\"', 'sri lanka\\\\\"n/a\\\\\"\"', 'srilanka', 'st. clair', 'st. helena', 'st. vincent and the grenadines', 'st.thomasi', 'strongbadia', 'sudan', 'sudan\"', 'suisse', 'sultanate of oman', 'suriname', 'swaziland', 'swazilandia', 'sweden', 'sweden\"', 'switzerland', 'switzerland\"', 'syria', 'taiwan', 'tajikistan', 'tanzania', 'tanzania\"', 'tdzimi', 'texas', 'thailand', 'thailand\"', 'thailoand', 'the', 'the gambia', 'the great white north', 'the netherlands', 'the philippines', 'the world tomorrow', 'thing', 'tobago', 'togo', 'tonga', 'toscana', 'travelling', 'trinidad', 'trinidad & tobago', 'trinidad and tobago', 'trinidad and tobago\"', 'trinidad/tobago.', 'tunisia', 'turkei', 'turkey', 'turkey\"', 'turkmenistan', 'tyrtyrt', 'türkiye', 'u', 'u k', 'u.', 'u.a.e', 'u.a.e\"', 'u.k.', 'u.s. of a.', 'u.s. virgin islands', 'u.s.a!', 'u.s.a.', 'u.s.a>', 'u.s>', 'ua', 'uae', 'uganda', 'uganda\"', 'uk', 'ukrain', 'ukraine', 'unit', 'unite states', 'united arab emirates', 'united kindgdom', 'united kindgonm', 'united kingdom', 'united kingdom\"', 'united kingdom.', 'united sates', 'united staes', 'united state', 'united statea', 'united stated', 'united stated of america', 'united states', 'united states of america', 'universe', 'unknown', 'urugua', 'uruguay', 'us', 'usa', 'usa & canada', 'usa (currently living in england)', 'usa\"', 'ussurfing', 'ust', 'uusa', 'uyo', 'uzbekistan', 'valtesse', 'van wert', 'vanuatu', 'vatican city', 'venezuela', 'venezuela\"', 'ventura', 'ventura county', 'vicenza', 'victoria', 'vietnam', 'vietnam\"', 'vorce', 'w. malaysia', 'wales', 'washtenaw', 'we`re global!', 'west yorkshire', 'whatcom', 'windham', 'wonderful usa', 'wood', 'worcester', 'x', 'xinyu', 'xxxxxx', 'yakima', 'yanhill', 'yemen', 'ysa', 'yugoslavia', 'yunling', 'z', 'zambia', 'zhengjiang', 'zimbabwe', 'ä¸\\xadå?½', 'öð¹ú']\n"
     ]
    }
   ],
   "source": [
    "countries = sorted(users_df['Country'].unique())\n",
    "print(countries)"
   ]
  },
  {
   "cell_type": "markdown",
   "id": "d2a82082",
   "metadata": {
    "papermill": {
     "duration": 0.01695,
     "end_time": "2022-10-26T12:59:00.935755",
     "exception": false,
     "start_time": "2022-10-26T12:59:00.918805",
     "status": "completed"
    },
    "tags": []
   },
   "source": [
    "Indeed, as we expected, there are many typos and some names are written not in English. Some people are also being humorous and put \"far away...\" and things like this as the name of their country. First of all, let us get rid of \" at the end of the name as this seems to be a common typo."
   ]
  },
  {
   "cell_type": "code",
   "execution_count": 30,
   "id": "a27319ec",
   "metadata": {
    "execution": {
     "iopub.execute_input": "2022-10-26T12:59:00.972661Z",
     "iopub.status.busy": "2022-10-26T12:59:00.972217Z",
     "iopub.status.idle": "2022-10-26T12:59:01.087760Z",
     "shell.execute_reply": "2022-10-26T12:59:01.086533Z"
    },
    "papermill": {
     "duration": 0.137112,
     "end_time": "2022-10-26T12:59:01.090490",
     "exception": false,
     "start_time": "2022-10-26T12:59:00.953378",
     "status": "completed"
    },
    "tags": []
   },
   "outputs": [
    {
     "name": "stdout",
     "output_type": "stream",
     "text": [
      "['', 'a', 'aaa', 'adsgfdr', 'afganstand holla', 'afghanistan', 'ahrensburg', 'alachua', 'albania', 'alderney', 'algeria', 'algérie', 'allen', 'ama lurra', 'america', 'american samoa', 'andorra', 'angola', 'antarctica', 'antigua & barbuda', 'antigua and barbuda', 'aotearoa', 'argentina', 'armenia', 'aroostook', 'aruba', 'asturies', 'auckland', 'austbritania', 'australia', 'australii', 'austria', 'autralia', 'az', 'azerbaijan', 'bademn würtemberg', 'baden-württemberg', 'bahamas', 'bahrain', 'baltimore', 'bangladesh', 'barbados', 'basilicata', 'basque country', 'bavaria', 'baxter', 'bbbzzzzz', 'belarus', 'belgi', 'belgique', 'belgium', 'belize', 'bell', 'benin', 'berguedà', 'bermuda', 'bernalillo', 'bfe', 'bhutan', 'bih', 'bkk', 'bladen', 'bolivia', 'bosnia', 'bosnia and herzegovina', 'botswana', 'brasil', 'brazil', 'british virgin islands', 'brunei', 'brunei darussalam', 'bucks', 'bulgaria', 'buncombe', 'burkina faso', 'burkinafasu', 'burlington', 'burma', 'butler', 'c', 'c.a', 'cadd', 'calabria', 'california', 'cambodia', 'camden', 'cameroon', 'can', 'canada', 'canada eh', 'cananda', 'canda', 'cape may', 'cape town', 'cape verde', 'caribbean sea', 'carter', 'cass', 'catalonia', 'catalunya', 'catalunya spain', 'catalunya(catalonia)', 'cayman islands', 'chad', 'chadwick ct', 'channel islands', 'cherokee', 'chian', 'chile', 'china', 'china people`s republic', 'china öð¹ú', 'chinaöð¹ú', 'citrus', 'clackamas', 'clinton', 'cn', 'cnina', 'collin', 'colombia', 'commonwealth of northern mariana islands', 'comoros', 'congo', 'cook', 'copenhagen', 'costa rica', 'cote d`ivoire', 'country', 'courtenay', 'croatia', 'csa', 'cuba', 'cyprus', 'czech republic', 'côte d', 'dauphin', 'davidson', 'de', 'dekalb', 'denmark', 'der', 'deutsches reich', 'deutschland', 'dfg', 'disgruntled states of america', 'distrito federal', 'diy', 'djibouti', 'dominica', 'dominican republic', 'doodedoo', 'dublin', 'east africa', 'ecuador', 'ee.uu', 'effingham', 'egypt', 'el salvador', 'england', 'england uk', 'english', 'equatorial geuinea', 'eritrea', 'espanha / galiza', 'espaã?â±a', 'espaã±a', 'españa', 'essex', 'estonia', 'ethiopia', 'europa', 'europe', 'euskadi', 'euskal herria', 'everywhere and anywhere', 'evil empire', 'exactly where i am', 'fairyland', 'far away', 'faroe islands', 'fernando de la mora', 'ferrara', 'fifi', 'fiji', 'finland', 'fontana', 'fort bend', 'fortaleza', 'framingham', 'france', 'fred', 'fredonia - land of the brave and free', 'frome', 'fulton', 'gabon', 'galiza', 'galiza neghra', 'gb', 'geermany', 'georgia', 'germany', 'germay', 'ghana', 'good old u.s.a', 'good old usa', 'goteborg', 'granville', 'greece', 'greece (=hellas)', 'grenada', 'guam', 'guatemala', 'guernsey', 'guinea', 'guinea-bissau', 'guyana', 'h.u.g', 'haiti', 'hamilton', 'hampden', 'harvatija', 'heaven', 'hennipen', 'henry', 'here and there', 'hernando', 'hidalgo', 'hillsborough', 'holland', 'holy see', 'home of the van', 'honduras', 'hong kong', 'hongkong', 'hornyonic', 'houston', 'hungary', 'hungary and usa', 'iceland', 'id', 'il canada', 'in', 'in your heart', 'india', 'indiai', 'indonesia', 'input error', 'iran', 'iraq', 'ireland', 'isle of man', 'israel', 'isreal', 'italia', 'italien', 'italy', 'itlay', 'jackson', 'jamaica', 'japan', 'jersey', 'johnson', 'jordan', 'k1c7b', 'kazakhstan', 'kenya', 'kern', 'kiribati', 'korea', 'kosovo', 'ksa', 'kuwait', 'kyrgyzstan', 'kz', 'l', 'l`algérie', 'l`italia', 'la argentina', 'la belgique', 'la chine eternelle', 'la chine éternelle', 'la france', 'la suisse', 'la svizzera', 'lake', 'lane', 'laos', 'latvia', 'lawrenceville', 'lazio', 'le canada', 'le madagascar', 'lebanon', 'lecce', 'lee', 'lesotho', 'liaoning', 'liberia', 'libya', 'lithuania', 'liushi', 'livingston', 'lj', 'lkjlj', 'lleida', 'lombardia', 'london', 'lornsenland', 'los estados unidos de norte america', 'luxembourg', 'macau', 'macedonia', 'madagascar', 'madrid', 'maine', 'malawi', 'malaysia', 'malaysian', 'maldives', 'mali', 'malta', 'maracopa', 'maricopa', 'maroc', 'marrion', 'marshall islands', 'mauritania', 'mauritius', 'mexico', 'micronesia', 'milano', 'minnehaha', 'missouri', 'moldova', 'monaco', 'mongolia', 'monroe', 'monterrey', 'mordor', 'morgan', 'morocco', 'mozambique', 'moçambique', 'my', 'myanmar', 'mã?â©xico', 'mérida', 'méxico', 'n/a', 'n/a - on the road', 'namibia', 'nederlands', 'nepal', 'netherlands', 'netherlands antilles', 'neverland', 'new london', 'new zealand', 'newzealand', 'nh', 'nicaragua', 'niger', 'nigeria', 'nl', 'no more', 'none', 'north carolina', 'north korea', 'northern ireland', 'norway', 'nowhere', 'nrw', 'nyc', 'nyhamnsläge', 'nz', 'oakland', 'ohio', 'oman', 'onondaga nation', 'orange co', 'orense', 'osceola', 'ouranos', 'p r china', 'p.r. china', 'p.r.c', 'p.r.china', 'pa', 'pakistan', 'palau', 'palestine', 'palm beach', 'panama', 'papua new guinea', 'paraguay', 'pasco', 'pender', 'people`s republic of china', 'peru', 'perãº', 'petrolwar nation', 'phila', 'philippine', 'philippines', 'philippinies', 'phillipines', 'phils', 'phippines', 'pinallas', 'pippo', 'pistlavakia', 'poland', 'polk', 'polska', 'portugal', 'pr', 'prc', 'prince william', 'pueblo', 'puerto rico', 'qatar', 'queensland', 'queenspark', 'quit', 'r.o.c', 'rapides', 'rep san marino', 'rep. san marino', 'republic of korea', 'republic of panama', 'rice', 'richmond country', 'rmi', 'roma', 'romania', 'rosario', 'rosello', 'rsa', 'russia', 'russian federation', 'rutherford', 'rwanda', 's.africa', 's.corea', 'saint kitts and nevis', 'saint loius', 'saint lucia', 'saint luica', 'saint vincent and the grenadines', 'samoa', 'san bernardino', 'san franicsco', 'san marino', 'san mateo', 'santa barbara', 'sao tome and principe', 'sardegna', 'sardinia', 'saudi arabia', 'saudia arabia', 'scotland', 'senegal', 'serbia', 'serbia & montenegro', 'serbia and montenegro', 'shelby', 'sicilia', 'sierra leone', 'singapore', 'singapore/united kingdom', 'slo', 'slovak republik', 'slovakia', 'slovenia', 'smith', 'solano', 'solomon islands', 'somalia', 'somewherein space', 'south africa', 'south korea', 'space', 'spain', 'spotsylvania', 'sri lanka', 'sri lanka\\\\\"n/a', 'srilanka', 'st. clair', 'st. helena', 'st. vincent and the grenadines', 'st.thomasi', 'strongbadia', 'sudan', 'suisse', 'sultanate of oman', 'suriname', 'swaziland', 'swazilandia', 'sweden', 'switzerland', 'syria', 'taiwan', 'tajikistan', 'tanzania', 'tdzimi', 'texas', 'thailand', 'thailoand', 'the', 'the gambia', 'the great white north', 'the netherlands', 'the philippines', 'the world tomorrow', 'thing', 'tobago', 'togo', 'tonga', 'toscana', 'travelling', 'trinidad', 'trinidad & tobago', 'trinidad and tobago', 'trinidad/tobago', 'tunisia', 'turkei', 'turkey', 'turkmenistan', 'tyrtyrt', 'türkiye', 'u', 'u k', 'u.a.e', 'u.k', 'u.s', 'u.s. of a', 'u.s. virgin islands', 'u.s.a', 'ua', 'uae', 'uganda', 'uk', 'ukrain', 'ukraine', 'unit', 'unite states', 'united arab emirates', 'united kindgdom', 'united kindgonm', 'united kingdom', 'united sates', 'united staes', 'united state', 'united statea', 'united stated', 'united stated of america', 'united states', 'united states of america', 'universe', 'unknown', 'urugua', 'uruguay', 'us', 'usa', 'usa & canada', 'usa (currently living in england)', 'ussurfing', 'ust', 'uusa', 'uyo', 'uzbekistan', 'valtesse', 'van wert', 'vanuatu', 'vatican city', 'venezuela', 'ventura', 'ventura county', 'vicenza', 'victoria', 'vietnam', 'vorce', 'w. malaysia', 'wales', 'washtenaw', 'we`re global', 'west yorkshire', 'whatcom', 'windham', 'wonderful usa', 'wood', 'worcester', 'x', 'xinyu', 'xxxxxx', 'yakima', 'yanhill', 'yemen', 'ysa', 'yugoslavia', 'yunling', 'z', 'zambia', 'zhengjiang', 'zimbabwe', 'ä¸\\xadå?½', 'öð¹ú', 'ú?{']\n",
      "608\n"
     ]
    }
   ],
   "source": [
    "users_df['Country'] = users_df['Country'].apply(lambda x: x.strip('*\\;?&#0123456789 -_.\"!>'))\n",
    "countries = sorted(users_df['Country'].unique())\n",
    "print(countries)\n",
    "print(len(countries))"
   ]
  },
  {
   "cell_type": "markdown",
   "id": "121171ba",
   "metadata": {
    "papermill": {
     "duration": 0.019679,
     "end_time": "2022-10-26T12:59:01.128280",
     "exception": false,
     "start_time": "2022-10-26T12:59:01.108601",
     "status": "completed"
    },
    "tags": []
   },
   "source": [
    "This is a bit better but still not great. Let us strandartize some spellings, like Trinidad and Tobago, USA, and UAE."
   ]
  },
  {
   "cell_type": "code",
   "execution_count": 31,
   "id": "08a03be1",
   "metadata": {
    "execution": {
     "iopub.execute_input": "2022-10-26T12:59:01.165013Z",
     "iopub.status.busy": "2022-10-26T12:59:01.163853Z",
     "iopub.status.idle": "2022-10-26T12:59:01.282037Z",
     "shell.execute_reply": "2022-10-26T12:59:01.280699Z"
    },
    "papermill": {
     "duration": 0.139546,
     "end_time": "2022-10-26T12:59:01.284916",
     "exception": false,
     "start_time": "2022-10-26T12:59:01.145370",
     "status": "completed"
    },
    "tags": []
   },
   "outputs": [
    {
     "name": "stdout",
     "output_type": "stream",
     "text": [
      "['', 'a', 'aaa', 'adsgfdr', 'afganstand holla', 'afghanistan', 'ahrensburg', 'alachua', 'albania', 'alderney', 'algeria', 'allen', 'ama lurra', 'america', 'american samoa', 'andorra', 'angola', 'antarctica', 'antigua and barbuda', 'aotearoa', 'argentina', 'armenia', 'aroostook', 'aruba', 'asturies', 'auckland', 'austbritania', 'australia', 'austria', 'az', 'azerbaijan', 'bademn würtemberg', 'baden-württemberg', 'bahamas', 'bahrain', 'baltimore', 'bangladesh', 'barbados', 'baxter', 'bbbzzzzz', 'belarus', 'belgium', 'belize', 'bell', 'benin', 'berguedà', 'bermuda', 'bernalillo', 'bfe', 'bhutan', 'bih', 'bkk', 'bladen', 'bolivia', 'bosnia', 'bosnia and herzegovina', 'botswana', 'brazil', 'british virgin islands', 'brunei', 'brunei darussalam', 'bucks', 'bulgaria', 'buncombe', 'burkina faso', 'burlington', 'burma', 'butler', 'c', 'c.a', 'cadd', 'california', 'cambodia', 'camden', 'cameroon', 'can', 'canada', 'cape may', 'cape town', 'cape verde', 'caribbean sea', 'carter', 'cass', 'cayman islands', 'chad', 'chadwick ct', 'channel islands', 'cherokee', 'chian', 'chile', 'china', 'chinaprc', 'citrus', 'clackamas', 'clinton', 'cn', 'cnina', 'collin', 'colombia', 'commonwealth of northern mariana islands', 'comoros', 'congo', 'cook', 'copenhagen', 'costa rica', 'cote d`ivoire', 'country', 'courtenay', 'croatia', 'csa', 'cuba', 'cyprus', 'czech republic', 'côte d', 'dauphin', 'davidson', 'de', 'dekalb', 'denmark', 'der', 'deutsches reich', 'dfg', 'disgruntled states of america', 'distrito federal', 'diy', 'djibouti', 'dominica', 'dominican republic', 'doodedoo', 'dublin', 'east africa', 'ecuador', 'ee.uu', 'effingham', 'egypt', 'el salvador', 'english', 'equatorial geuinea', 'eritrea', 'espanha / galiza', 'essex', 'estonia', 'ethiopia', 'europa', 'europe', 'euskadi', 'euskal herria', 'everywhere and anywhere', 'evil empire', 'exactly where i am', 'fairyland', 'far away', 'faroe islands', 'fernando de la mora', 'ferrara', 'fifi', 'fiji', 'finland', 'fontana', 'fort bend', 'fortaleza', 'framingham', 'france', 'fred', 'fredonia - land of the brave and free', 'frome', 'fulton', 'gabon', 'galiza', 'galiza neghra', 'gb', 'georgia', 'germany', 'ghana', 'good old usa', 'goteborg', 'granville', 'greece', 'greece (=hellas)', 'grenada', 'guam', 'guatemala', 'guernsey', 'guinea', 'guinea-bissau', 'guyana', 'h.u.g', 'haiti', 'hamilton', 'hampden', 'harvatija', 'heaven', 'hennipen', 'henry', 'here and there', 'hernando', 'hidalgo', 'hillsborough', 'holland', 'holy see', 'home of the van', 'honduras', 'hong kong', 'hongkong', 'hornyonic', 'houston', 'hungary', 'hungary and usa', 'iceland', 'id', 'il canada', 'in', 'in your heart', 'india', 'indiai', 'indonesia', 'input error', 'iran', 'iraq', 'ireland', 'isa', 'isle of man', 'israel', 'italy', 'jackson', 'jamaica', 'japan', 'jersey', 'johnson', 'jordan', 'k1c7b', 'kazakhstan', 'kenya', 'kern', 'kiribati', 'korea', 'kosovo', 'ksa', 'kuwait', 'kyrgyzstan', 'kz', 'l', 'la chine eternelle', 'la chine éternelle', 'lake', 'lane', 'laos', 'latvia', 'lawrenceville', 'lebanon', 'lee', 'lesotho', 'liaoning', 'liberia', 'libya', 'lithuania', 'liushi', 'livingston', 'lj', 'lkjlj', 'lleida', 'london', 'lornsenland', 'luxembourg', 'macau', 'macedonia', 'madagascar', 'maine', 'malawi', 'malaysia', 'malaysian', 'maldives', 'mali', 'malta', 'maracopa', 'maricopa', 'maroc', 'marrion', 'marshall islands', 'mauritania', 'mauritius', 'mexico', 'micronesia', 'minnehaha', 'missouri', 'moldova', 'monaco', 'mongolia', 'monroe', 'monterrey', 'mordor', 'morgan', 'morocco', 'mozambique', 'moçambique', 'my', 'myanmar', 'mérida', 'n/a - on the road', 'namibia', 'nederlands', 'nepal', 'netherlands', 'netherlands antilles', 'neverland', 'new london', 'new zealand', 'newzealand', 'nh', 'nicaragua', 'niger', 'nigeria', 'nl', 'no more', 'none', 'north carolina', 'north korea', 'northern ireland', 'norway', 'nowhere', 'nrw', 'nyc', 'nyhamnsläge', 'nz', 'oakland', 'ohio', 'oman', 'onondaga nation', 'orange co', 'orense', 'osceola', 'ouranos', 'pa', 'pakistan', 'palau', 'palestine', 'palm beach', 'panama', 'papua new guinea', 'paraguay', 'pasco', 'pender', 'peru', 'perãº', 'petrolwar nation', 'phila', 'philippines', 'phils', 'pinallas', 'pippo', 'pistlavakia', 'poland', 'polk', 'polska', 'portugal', 'pr', 'prince william', 'pueblo', 'puerto rico', 'qatar', 'queensland', 'queenspark', 'r.o.c', 'rapides', 'rep san marino', 'rep. san marino', 'republic of panama', 'rice', 'richmond country', 'rmi', 'roma', 'romania', 'rosario', 'rosello', 'rsa', 'russia', 'rutherford', 'rwanda', 's.africa', 'saint kitts and nevis', 'saint loius', 'saint lucia', 'saint luica', 'saint vincent and the grenadines', 'samoa', 'san bernardino', 'san franicsco', 'san marino', 'san mateo', 'santa barbara', 'sao tome and principe', 'saudi arabia', 'saudia arabia', 'senegal', 'serbia', 'serbia & montenegro', 'serbia and montenegro', 'shelby', 'sierra leone', 'singapore', 'singapore/united kingdom', 'slo', 'slovak republik', 'slovakia', 'slovenia', 'smith', 'solano', 'solomon islands', 'somalia', 'somewherein space', 'south africa', 'south korea', 'space', 'spain', 'spotsylvania', 'sri lanka', 'st. clair', 'st. helena', 'st. vincent and the grenadines', 'st.thomasi', 'strongbadia', 'sudan', 'sultanate of oman', 'suriname', 'swaziland', 'swazilandia', 'sweden', 'switzerland', 'syria', 'taiwan', 'tajikistan', 'tanzania', 'tdzimi', 'texas', 'thailand', 'thailoand', 'the', 'the gambia', 'the great white north', 'the world tomorrow', 'thing', 'togo', 'tonga', 'travelling', 'trinidad and tobago', 'tunisia', 'turkey', 'turkmenistan', 'tyrtyrt', 'u', 'u.s. virgin islands', 'ua', 'uae', 'uganda', 'uk', 'ukraine', 'unit', 'unite states', 'universe', 'unknown', 'urugua', 'uruguay', 'us', 'usa', 'usa & canada', 'usa (currently living in england)', 'ussurfing', 'ust', 'uusa', 'uyo', 'uzbekistan', 'valtesse', 'van wert', 'vanuatu', 'vatican city', 'venezuela', 'ventura', 'ventura county', 'vicenza', 'victoria', 'vietnam', 'vorce', 'w. malaysia', 'washtenaw', 'we`re global', 'west yorkshire', 'whatcom', 'windham', 'wonderful usa', 'wood', 'worcester', 'x', 'xinyu', 'xxxxxx', 'yakima', 'yanhill', 'yemen', 'ysa', 'yugoslavia', 'yunling', 'z', 'zambia', 'zhengjiang', 'zimbabwe', 'ä¸\\xadå?½', 'öð¹ú', 'ú?{']\n",
      "507\n"
     ]
    }
   ],
   "source": [
    "spelling_corrections = {'brasil':'brazil', 'burkinafasu':'burkina faso', 'catalonia':'spain', 'catalunya':'spain', 'catalunya spain':'spain', 'catalunya(catalonia)':'spain',\n",
    "                        'china people`s republic':'china', 'china öð¹ú':'china', 'chinaöð¹ú':'china','prc':'china''prc',\n",
    "                        'p r china':'china', 'p.r. china':'china', 'p.r.c':'china', 'p.r.china':'china', 'chinaprc':'china',\n",
    "                        'canada eh':'canada', 'cananda':'canada', 'canda':'canada',\n",
    "                        'belgi':'belgium', 'belgique':'belgium', \n",
    "                        'people`s republic of china':'china',\n",
    "                        'england':'uk', 'england uk':'uk', 'u k':'uk', 'u.k':'uk',\n",
    "                        'united kindgdom':'uk', 'united kindgonm':'uk', 'united kingdom':'uk',\n",
    "                        'geermany':'germany', 'germany':'germany', 'germay':'germany', \n",
    "                        'basilicata':'italy', 'basque country':'spain', 'bavaria':'germany',\n",
    "                        'good old u.s.a':'usa', 'good old usa ':'usa', 'u.s':'usa', 'u.s. of a':'usa', 'u.s.a':'usa',\n",
    "                        'algérie':'algeria',\n",
    "                        'l`algérie':'algeria', 'l`italia':'italy', 'la argentina':'argentina', 'la belgique':'belgium', 'la france':'france', \n",
    "                        'la suisse':'switzerland', 'la svizzera':'switzerland', \n",
    "                        'italia':'italy', 'italien':'italy', \n",
    "                        'philippine':'philippines', 'philippinies':'philippines', 'phillipines':'philippines', 'phippines':'philippines',\n",
    "                        'the philippines':'philippines',\n",
    "                        'united sates':'usa', 'united staes':'usa', 'united state':'usa', 'united statea':'usa', \n",
    "                        'united stated':'usa', 'united stated of america':'usa', 'united states':'usa', 'united states of america':'usa',\n",
    "                        'u.a.e':'uae', 'united arab emirates':'uae',\n",
    "                        'the netherlands':'netherlands',\n",
    "                        's.corea':'south korea', 'republic of korea':'south korea',\n",
    "                        'isreal':'israel', 'itlay':'italy',\n",
    "                        'wales':'uk', 'scotland':'uk',\n",
    "                        'antigua & barbuda':'antigua and barbuda',\n",
    "                        'australii':'australia', 'autralia':'australia',\n",
    "                        'turkei':'turkey', 'türkiye':'turkey',\n",
    "                        'russian federation':'russia',\n",
    "                        'deutschland':'germany',\n",
    "                        'ukrain':'ukraine',\n",
    "                        'sri lanka\\\\\"n/a':'sri lanka', 'srilanka':'sri lanka',\n",
    "                        'le canada':'canada', 'le madagascar':'madagascar',\n",
    "                        'espaã±a':'spain', 'espaã?â±a':'spain', 'españa':'spain',\n",
    "                        'quit':'', 'n/a':'', 'lazio':'italy',\n",
    "                        'suisse':'switzerland',\n",
    "                        'milano':'italy', 'mã?â©xico':'mexico', 'méxico':'mexico',\n",
    "                        'lecce':'italy', 'lombardia':'italy', 'los estados unidos de norte america':'isa', 'madrid':'spain',\n",
    "                        'sardegna':'italy', 'sardinia':'italy', 'sicilia':'italy', 'toscana':'italy', 'calabria':'italy',\n",
    "                        'tobago':'trinidad and tobago', 'trinidad':'trinidad and tobago', 'trinidad & tobago':'trinidad and tobago', 'trinidad/tobago':'trinidad and tobago'\n",
    "                       }\n",
    "\n",
    "def correcting(country):\n",
    "    if country in spelling_corrections:\n",
    "        return spelling_corrections[country]\n",
    "    return country\n",
    "\n",
    "users_df['Country'] = users_df['Country'].apply(correcting)\n",
    "countries = sorted(users_df['Country'].unique())\n",
    "print(countries)\n",
    "print(len(countries))"
   ]
  },
  {
   "cell_type": "markdown",
   "id": "54f27a2e",
   "metadata": {
    "papermill": {
     "duration": 0.01682,
     "end_time": "2022-10-26T12:59:01.318955",
     "exception": false,
     "start_time": "2022-10-26T12:59:01.302135",
     "status": "completed"
    },
    "tags": []
   },
   "source": [
    "There are still some typos and regions instead of countries, but let us look again at the top countries by amount of users."
   ]
  },
  {
   "cell_type": "code",
   "execution_count": 32,
   "id": "425eecb8",
   "metadata": {
    "execution": {
     "iopub.execute_input": "2022-10-26T12:59:01.355715Z",
     "iopub.status.busy": "2022-10-26T12:59:01.354935Z",
     "iopub.status.idle": "2022-10-26T12:59:01.393269Z",
     "shell.execute_reply": "2022-10-26T12:59:01.391483Z"
    },
    "papermill": {
     "duration": 0.059613,
     "end_time": "2022-10-26T12:59:01.396094",
     "exception": false,
     "start_time": "2022-10-26T12:59:01.336481",
     "status": "completed"
    },
    "tags": []
   },
   "outputs": [
    {
     "name": "stdout",
     "output_type": "stream",
     "text": [
      "Country\n",
      "usa            139739\n",
      "canada          21663\n",
      "uk              18647\n",
      "germany         17105\n",
      "spain           13363\n",
      "australia       11787\n",
      "italy           11330\n",
      "                 4622\n",
      "france           3521\n",
      "portugal         3390\n",
      "new zealand      3120\n",
      "netherlands      3053\n",
      "switzerland      1768\n",
      "brazil           1690\n",
      "china            1498\n",
      "sweden           1456\n",
      "india            1302\n",
      "austria          1149\n",
      "malaysia         1125\n",
      "argentina        1096\n",
      "Name: User-ID, dtype: int64\n"
     ]
    }
   ],
   "source": [
    "users_by_country = users_df.groupby('Country')['User-ID'].count().sort_values(ascending=False)\n",
    "print(users_by_country.head(20))"
   ]
  },
  {
   "cell_type": "markdown",
   "id": "2f16ac75",
   "metadata": {
    "papermill": {
     "duration": 0.016732,
     "end_time": "2022-10-26T12:59:01.430504",
     "exception": false,
     "start_time": "2022-10-26T12:59:01.413772",
     "status": "completed"
    },
    "tags": []
   },
   "source": [
    "It looks like we have a lot of US users which is not surprising considering the data comes from Amazon. Let us check how many people are the only ones in their country. We will then put an empty string as their country since it is not that many people anyway (cannot be more than 500) and this information is not telling us much."
   ]
  },
  {
   "cell_type": "code",
   "execution_count": 33,
   "id": "c5d86ed0",
   "metadata": {
    "execution": {
     "iopub.execute_input": "2022-10-26T12:59:01.467594Z",
     "iopub.status.busy": "2022-10-26T12:59:01.466302Z",
     "iopub.status.idle": "2022-10-26T12:59:01.473895Z",
     "shell.execute_reply": "2022-10-26T12:59:01.472572Z"
    },
    "papermill": {
     "duration": 0.029071,
     "end_time": "2022-10-26T12:59:01.476849",
     "exception": false,
     "start_time": "2022-10-26T12:59:01.447778",
     "status": "completed"
    },
    "tags": []
   },
   "outputs": [
    {
     "name": "stdout",
     "output_type": "stream",
     "text": [
      "{'', 'lesotho', 'portugal', 'iceland', 'albania', 'el salvador', 'lithuania', 'eritrea', 'costa rica', 'romania', 'paraguay', 'haiti', 'san marino', 'canada', 'liberia', 'singapore', 'norway', 'andorra', 'la chine éternelle', 'russia', 'sierra leone', 'jersey', 'cyprus', 'barbados', 'cayman islands', 'euskal herria', 'cape verde', 'slovenia', 'europe', 'guam', 'georgia', 'france', 'malawi', 'saint lucia', 'egypt', 'kazakhstan', 'marshall islands', 'bahrain', 'ireland', 'tajikistan', 'malaysia', 'jordan', 'azerbaijan', 'brunei', 'cuba', 'croatia', 'sweden', 'honduras', 'panama', 'aruba', 'netherlands antilles', 'laos', 'cameroon', 'guinea-bissau', 'fiji', 'palau', 'dominican republic', 'maldives', 'mali', 'serbia and montenegro', 'trinidad and tobago', 'kenya', 'india', 'china', 'venezuela', 'guinea', 'syria', 'uk', 'tunisia', 'czech republic', 'yugoslavia', 'uzbekistan', 'morocco', 'japan', 'antarctica', 'lebanon', 'samoa', 'belgium', 'senegal', 'sao tome and principe', 'israel', 'germany', 'saudi arabia', 'ukraine', 'bermuda', 'uruguay', 'nepal', 'macedonia', 'vanuatu', 'macau', 'south africa', 'chad', 'vietnam', 'nicaragua', 'poland', 'serbia', 'micronesia', 'tanzania', 'maricopa', 'nigeria', 'congo', 'kuwait', 'rwanda', 'colombia', 'taiwan', 'bahamas', 'latvia', 'hong kong', 'togo', 'channel islands', 'greece', 'hungary', 'öð¹ú', 'north korea', 'afghanistan', 'kosovo', 'namibia', 'madagascar', 'usa', 'cambodia', 'uganda', 'benin', 'solomon islands', 'austria', 'mongolia', 'u.s. virgin islands', 'libya', 'holland', 'peru', 'gabon', 'korea', 'angola', 'cote d`ivoire', 'urugua', 'iran', 'america', 'british virgin islands', 'papua new guinea', 'south korea', 'ecuador', 'u', 'uae', 'mexico', 'sudan', 'denmark', 'burma', 'american samoa', 'dominica', 'bangladesh', 'puerto rico', 'mozambique', 'armenia', 'finland', 'burkina faso', 'iraq', 'bulgaria', 'ä¸\\xadå?½', 'st. vincent and the grenadines', 'the', 'guatemala', 'moldova', 'slovakia', 'c', 'ghana', 'turkmenistan', 'brazil', 'spain', 'argentina', 'antigua and barbuda', 'saint kitts and nevis', 'east africa', 'belize', 'kyrgyzstan', 'universe', 'mauritius', 'luxembourg', 'space', 'zimbabwe', 'botswana', 'yemen', 'us', 'italy', 'bhutan', 'tonga', 'nrw', 'niger', 'saint vincent and the grenadines', 'netherlands', 'guernsey', 'belarus', 'indonesia', 'suriname', 'qatar', 'djibouti', 'guyana', 'galiza', 'algeria', 'philippines', 'oman', 'alderney', 'bosnia and herzegovina', 'switzerland', 'jamaica', 'holy see', 'turkey', 'australia', 'bolivia', 'estonia', 'polk', 'new zealand', 'caribbean sea', 'zambia', 'pakistan', 'chile', 'ethiopia', 'sri lanka', 'thailand', 'grenada', 'monaco', 'swaziland', 'malta'}\n"
     ]
    }
   ],
   "source": [
    "valid_countries = set(users_by_country[users_by_country > 1].index)\n",
    "print(valid_countries)"
   ]
  },
  {
   "cell_type": "code",
   "execution_count": 34,
   "id": "3deee841",
   "metadata": {
    "execution": {
     "iopub.execute_input": "2022-10-26T12:59:01.517808Z",
     "iopub.status.busy": "2022-10-26T12:59:01.517162Z",
     "iopub.status.idle": "2022-10-26T12:59:01.596164Z",
     "shell.execute_reply": "2022-10-26T12:59:01.594172Z"
    },
    "papermill": {
     "duration": 0.102596,
     "end_time": "2022-10-26T12:59:01.599129",
     "exception": false,
     "start_time": "2022-10-26T12:59:01.496533",
     "status": "completed"
    },
    "tags": []
   },
   "outputs": [
    {
     "name": "stdout",
     "output_type": "stream",
     "text": [
      "    User-ID                                 Location   Age    Country\n",
      "0         1                       nyc, new york, usa   NaN        usa\n",
      "1         2                stockton, california, usa  18.0        usa\n",
      "2         3          moscow, yukon territory, russia   NaN     russia\n",
      "3         4                porto, v.n.gaia, portugal  17.0   portugal\n",
      "4         5       farnborough, hants, united kingdom   NaN         uk\n",
      "5         6            santa monica, california, usa  61.0        usa\n",
      "6         7                      washington, dc, usa   NaN        usa\n",
      "7         8                 timmins, ontario, canada   NaN     canada\n",
      "8         9               germantown, tennessee, usa   NaN        usa\n",
      "9        10               albacete, wisconsin, spain  26.0      spain\n",
      "10       11           melbourne, victoria, australia  14.0  australia\n",
      "11       12              fort bragg, california, usa   NaN        usa\n",
      "12       13              barcelona, barcelona, spain  26.0      spain\n",
      "13       14                    mediapolis, iowa, usa   NaN        usa\n",
      "14       15                 calgary, alberta, canada   NaN     canada\n",
      "15       16             albuquerque, new mexico, usa   NaN        usa\n",
      "16       17                chesapeake, virginia, usa   NaN        usa\n",
      "17       18   rio de janeiro, rio de janeiro, brazil  25.0     brazil\n",
      "18       19                                weston, ,  14.0           \n",
      "19       20             langhorne, pennsylvania, usa  19.0        usa\n",
      "20       21           ferrol / spain, alabama, spain  46.0      spain\n",
      "21       22              erfurt, thueringen, germany   NaN    germany\n",
      "22       23          philadelphia, pennsylvania, usa   NaN        usa\n",
      "23       24                    cologne, nrw, germany  19.0    germany\n",
      "24       25                 oakland, california, usa  55.0        usa\n",
      "25       26                bellevue, washington, usa   NaN        usa\n",
      "26       27                   chicago, illinois, usa  32.0        usa\n",
      "27       28    freiburg, baden-wuerttemberg, germany  24.0    germany\n",
      "28       29              cuernavaca, alabama, mexico  19.0     mexico\n",
      "29       30                   anchorage, alaska, usa  24.0        usa\n",
      "30       31                     shanghai, n/a, china  20.0      china\n",
      "31       32                    portland, oregon, usa   NaN        usa\n",
      "32       33              costa mesa, california, usa  34.0        usa\n",
      "33       34          london, england, united kingdom   NaN         uk\n",
      "34       35                  grafton, wisconsin, usa  17.0        usa\n",
      "35       36                 montreal, quebec, canada  24.0     canada\n",
      "36       37                san sebastian, n/a, spain  23.0      spain\n",
      "37       38                    viterbo, lazio, italy  34.0      italy\n",
      "38       39                cary, north carolina, usa   NaN        usa\n",
      "39       40                 tonawanda, new york, usa  32.0        usa\n",
      "40       41                  santee, california, usa  14.0        usa\n",
      "41       42                 appleton, wisconsin, usa  17.0        usa\n",
      "42       43    méxico, méxico city, distrito federal   NaN           \n",
      "43       44      black mountain, north carolina, usa  51.0        usa\n",
      "44       45                     berlin, n/a, germany   NaN    germany\n",
      "45       46  heidelberg, baden-wuerttemberg, germany  31.0    germany\n",
      "46       47                   vicenza, veneto, italy  21.0      italy\n",
      "47       48                   chicago, illinois, usa   NaN        usa\n",
      "48       49                        rome, rome, italy   NaN      italy\n",
      "49       50          london, england, united kingdom  17.0         uk\n"
     ]
    }
   ],
   "source": [
    "def set_weird_country_to_null(country):\n",
    "    if country not in valid_countries:\n",
    "        return ''\n",
    "    return country\n",
    "\n",
    "users_df['Country'] = users_df['Country'].apply(set_weird_country_to_null)\n",
    "print(users_df.head(50))"
   ]
  },
  {
   "cell_type": "markdown",
   "id": "98927d01",
   "metadata": {
    "papermill": {
     "duration": 0.017856,
     "end_time": "2022-10-26T12:59:01.635593",
     "exception": false,
     "start_time": "2022-10-26T12:59:01.617737",
     "status": "completed"
    },
    "tags": []
   },
   "source": [
    "It remains to write the users information into a csv file."
   ]
  },
  {
   "cell_type": "code",
   "execution_count": 35,
   "id": "d3cce799",
   "metadata": {
    "execution": {
     "iopub.execute_input": "2022-10-26T12:59:01.674522Z",
     "iopub.status.busy": "2022-10-26T12:59:01.673134Z",
     "iopub.status.idle": "2022-10-26T12:59:02.392377Z",
     "shell.execute_reply": "2022-10-26T12:59:02.391176Z"
    },
    "papermill": {
     "duration": 0.741448,
     "end_time": "2022-10-26T12:59:02.395247",
     "exception": false,
     "start_time": "2022-10-26T12:59:01.653799",
     "status": "completed"
    },
    "tags": []
   },
   "outputs": [],
   "source": [
    "users_df.to_csv(os.path.join(OUTPUT_DIR, 'users_valid_age_with_country.csv'), index=False)"
   ]
  }
 ],
 "metadata": {
  "interpreter": {
   "hash": "27f6fea6f47ae512550f0b8facdbd035a93e1dd89633f7bf2dd00a2502c71d0d"
  },
  "kernelspec": {
   "display_name": "Python 3.10.2 64-bit",
   "language": "python",
   "name": "python3"
  },
  "language_info": {
   "codemirror_mode": {
    "name": "ipython",
    "version": 3
   },
   "file_extension": ".py",
   "mimetype": "text/x-python",
   "name": "python",
   "nbconvert_exporter": "python",
   "pygments_lexer": "ipython3",
   "version": "3.10.2"
  },
  "papermill": {
   "default_parameters": {},
   "duration": 39.289538,
   "end_time": "2022-10-26T12:59:03.472075",
   "environment_variables": {},
   "exception": null,
   "input_path": "__notebook__.ipynb",
   "output_path": "__notebook__.ipynb",
   "parameters": {},
   "start_time": "2022-10-26T12:58:24.182537",
   "version": "2.3.4"
  }
 },
 "nbformat": 4,
 "nbformat_minor": 5
}
