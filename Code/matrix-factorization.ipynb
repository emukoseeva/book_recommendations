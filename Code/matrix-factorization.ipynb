{
 "cells": [
  {
   "cell_type": "code",
   "execution_count": 11,
   "id": "f12e3d71",
   "metadata": {
    "_cell_guid": "b1076dfc-b9ad-4769-8c92-a6c4dae69d19",
    "_uuid": "8f2839f25d086af736a60e9eeb907d3b93b6e0e5",
    "execution": {
     "iopub.execute_input": "2022-10-26T13:55:19.812013Z",
     "iopub.status.busy": "2022-10-26T13:55:19.811563Z",
     "iopub.status.idle": "2022-10-26T13:55:19.831178Z",
     "shell.execute_reply": "2022-10-26T13:55:19.829934Z"
    },
    "papermill": {
     "duration": 0.029143,
     "end_time": "2022-10-26T13:55:19.833562",
     "exception": false,
     "start_time": "2022-10-26T13:55:19.804419",
     "status": "completed"
    },
    "tags": []
   },
   "outputs": [
    {
     "name": "stdout",
     "output_type": "stream",
     "text": [
      "c:\\Users\\ASUS\\Documents\\Python Programming\\Book recommendations\\Data\\Processed\\average_ratings_by_user.csv\n",
      "c:\\Users\\ASUS\\Documents\\Python Programming\\Book recommendations\\Data\\Processed\\Books_valid_ISBN_known_year_no_images.csv\n",
      "c:\\Users\\ASUS\\Documents\\Python Programming\\Book recommendations\\Data\\Processed\\normalized_user-book_matrix.csv\n",
      "c:\\Users\\ASUS\\Documents\\Python Programming\\Book recommendations\\Data\\Processed\\popular_books_with_descriptions.csv\n",
      "c:\\Users\\ASUS\\Documents\\Python Programming\\Book recommendations\\Data\\Processed\\ratings_for_popular_books.csv\n",
      "c:\\Users\\ASUS\\Documents\\Python Programming\\Book recommendations\\Data\\Processed\\Ratings_valid_ISBN.csv\n",
      "c:\\Users\\ASUS\\Documents\\Python Programming\\Book recommendations\\Data\\Processed\\user-book_matrix.csv\n",
      "c:\\Users\\ASUS\\Documents\\Python Programming\\Book recommendations\\Data\\Processed\\user-book_matrix_normalized_withna.csv\n",
      "c:\\Users\\ASUS\\Documents\\Python Programming\\Book recommendations\\Data\\Processed\\users_valid_age_with_country.csv\n"
     ]
    }
   ],
   "source": [
    "import numpy as np # linear algebra\n",
    "import pandas as pd # data processing, CSV file I/O (e.g. pd.read_csv)\n",
    "\n",
    "# Input data is contained in '../Data/Processed' directory\n",
    "# Output data is written to '../Data/Processed' directory\n",
    "# This cell lists all files under the input directory\n",
    "\n",
    "import os\n",
    "INPUT_DIR = os.path.join(os.path.dirname(os.getcwd()), 'Data', 'Processed')\n",
    "OUTPUT_DIR = os.path.join(os.path.dirname(os.getcwd()), 'Data', 'Processed')\n",
    "for dirname, _, filenames in os.walk(INPUT_DIR):\n",
    "    for filename in filenames:\n",
    "        print(os.path.join(dirname, filename))"
   ]
  },
  {
   "cell_type": "markdown",
   "id": "ee64aeef",
   "metadata": {},
   "source": [
    "In this notebook we use matrix factorization to predict missing values in the user-book matrix. We write the resulting matrix to a new csv file."
   ]
  },
  {
   "cell_type": "markdown",
   "id": "c37cf3c2",
   "metadata": {
    "papermill": {
     "duration": 0.003938,
     "end_time": "2022-10-26T13:55:19.842052",
     "exception": false,
     "start_time": "2022-10-26T13:55:19.838114",
     "status": "completed"
    },
    "tags": []
   },
   "source": [
    "First, we load the normalized user-book matrix with NaNs."
   ]
  },
  {
   "cell_type": "code",
   "execution_count": 2,
   "id": "fb5d96ec",
   "metadata": {
    "execution": {
     "iopub.execute_input": "2022-10-26T13:55:19.852323Z",
     "iopub.status.busy": "2022-10-26T13:55:19.851677Z",
     "iopub.status.idle": "2022-10-26T13:55:19.940336Z",
     "shell.execute_reply": "2022-10-26T13:55:19.939022Z"
    },
    "papermill": {
     "duration": 0.096507,
     "end_time": "2022-10-26T13:55:19.942799",
     "exception": false,
     "start_time": "2022-10-26T13:55:19.846292",
     "status": "completed"
    },
    "tags": []
   },
   "outputs": [
    {
     "name": "stdout",
     "output_type": "stream",
     "text": [
      "<class 'pandas.core.frame.DataFrame'>\n",
      "Int64Index: 10637 entries, 26 to 278844\n",
      "Data columns (total 95 columns):\n",
      " #   Column      Non-Null Count  Dtype  \n",
      "---  ------      --------------  -----  \n",
      " 0   0060392452  158 non-null    float64\n",
      " 1   0060502258  166 non-null    float64\n",
      " 2   0060928336  320 non-null    float64\n",
      " 3   0060930535  218 non-null    float64\n",
      " 4   0060934417  159 non-null    float64\n",
      " 5   0060938455  154 non-null    float64\n",
      " 6   0060976845  186 non-null    float64\n",
      " 7   0060987103  156 non-null    float64\n",
      " 8   006101351X  118 non-null    float64\n",
      " 9   014028009X  131 non-null    float64\n",
      " 10  0140293248  165 non-null    float64\n",
      " 11  0142000205  129 non-null    float64\n",
      " 12  0142001740  307 non-null    float64\n",
      " 13  0312195516  383 non-null    float64\n",
      " 14  0312278586  226 non-null    float64\n",
      " 15  0312291639  167 non-null    float64\n",
      " 16  0312305060  129 non-null    float64\n",
      " 17  0316096199  133 non-null    float64\n",
      " 18  0316284955  171 non-null    float64\n",
      " 19  0316601950  272 non-null    float64\n",
      " 20  0316666343  707 non-null    float64\n",
      " 21  0316769487  243 non-null    float64\n",
      " 22  0316776963  159 non-null    float64\n",
      " 23  0345313860  143 non-null    float64\n",
      " 24  0345337662  230 non-null    float64\n",
      " 25  0345339681  161 non-null    float64\n",
      " 26  0345342968  164 non-null    float64\n",
      " 27  0345351525  100 non-null    float64\n",
      " 28  0345353145  136 non-null    float64\n",
      " 29  0345361792  181 non-null    float64\n",
      " 30  0345370775  200 non-null    float64\n",
      " 31  0345378490  98 non-null     float64\n",
      " 32  0345417623  195 non-null    float64\n",
      " 33  0345443284  138 non-null    float64\n",
      " 34  0375700757  134 non-null    float64\n",
      " 35  0375706771  153 non-null    float64\n",
      " 36  0375707972  145 non-null    float64\n",
      " 37  0375725784  144 non-null    float64\n",
      " 38  0375726403  145 non-null    float64\n",
      " 39  0375727345  229 non-null    float64\n",
      " 40  0380731851  104 non-null    float64\n",
      " 41  0380789035  151 non-null    float64\n",
      " 42  0385265700  115 non-null    float64\n",
      " 43  0385335482  163 non-null    float64\n",
      " 44  0385484518  200 non-null    float64\n",
      " 45  0385492081  138 non-null    float64\n",
      " 46  0385504209  487 non-null    float64\n",
      " 47  0385720106  111 non-null    float64\n",
      " 48  0385722206  129 non-null    float64\n",
      " 49  043935806X  206 non-null    float64\n",
      " 50  044021145X  208 non-null    float64\n",
      " 51  0440211727  194 non-null    float64\n",
      " 52  0440213525  145 non-null    float64\n",
      " 53  0440214041  174 non-null    float64\n",
      " 54  0440220602  146 non-null    float64\n",
      " 55  0440221471  152 non-null    float64\n",
      " 56  044022165X  138 non-null    float64\n",
      " 57  0440222656  140 non-null    float64\n",
      " 58  0440224675  101 non-null    float64\n",
      " 59  0440224764  143 non-null    float64\n",
      " 60  0440225701  133 non-null    float64\n",
      " 61  0440226430  214 non-null    float64\n",
      " 62  0440234743  169 non-null    float64\n",
      " 63  0440236673  150 non-null    float64\n",
      " 64  044023722X  281 non-null    float64\n",
      " 65  0440241073  200 non-null    float64\n",
      " 66  0446310786  214 non-null    float64\n",
      " 67  0446364193  116 non-null    float64\n",
      " 68  044651652X  152 non-null    float64\n",
      " 69  0446605239  206 non-null    float64\n",
      " 70  0446606812  131 non-null    float64\n",
      " 71  0446608955  124 non-null    float64\n",
      " 72  0446610038  177 non-null    float64\n",
      " 73  0449212602  111 non-null    float64\n",
      " 74  0452282152  278 non-null    float64\n",
      " 75  0452282829  139 non-null    float64\n",
      " 76  0553279912  102 non-null    float64\n",
      " 77  0553572997  120 non-null    float64\n",
      " 78  059035342X  313 non-null    float64\n",
      " 79  0671003755  207 non-null    float64\n",
      " 80  0671021001  217 non-null    float64\n",
      " 81  0671027360  269 non-null    float64\n",
      " 82  0671510053  150 non-null    float64\n",
      " 83  067976402X  256 non-null    float64\n",
      " 84  0679781587  333 non-null    float64\n",
      " 85  068484477X  125 non-null    float64\n",
      " 86  0684872153  136 non-null    float64\n",
      " 87  0743237188  127 non-null    float64\n",
      " 88  0743418174  236 non-null    float64\n",
      " 89  0786868716  242 non-null    float64\n",
      " 90  0804106304  194 non-null    float64\n",
      " 91  080410753X  98 non-null     float64\n",
      " 92  0842329129  155 non-null    float64\n",
      " 93  0971880107  581 non-null    float64\n",
      " 94  1400034779  183 non-null    float64\n",
      "dtypes: float64(95)\n",
      "memory usage: 7.8 MB\n",
      "None\n",
      "         0060392452  0060502258  0060928336  0060930535  0060934417  \\\n",
      "User-ID                                                               \n",
      "26              NaN         NaN         NaN         NaN         NaN   \n",
      "51              NaN         NaN         NaN         NaN         NaN   \n",
      "91              NaN         NaN         NaN         NaN         NaN   \n",
      "114             NaN         NaN         NaN         NaN         NaN   \n",
      "165             NaN         NaN         NaN         NaN         NaN   \n",
      "\n",
      "         0060938455  0060976845  0060987103  006101351X  014028009X  ...  \\\n",
      "User-ID                                                              ...   \n",
      "26              NaN         NaN         NaN         NaN         NaN  ...   \n",
      "51              NaN         NaN         NaN         NaN         NaN  ...   \n",
      "91              NaN         NaN         NaN         NaN         NaN  ...   \n",
      "114             NaN         NaN         NaN         NaN         NaN  ...   \n",
      "165             NaN         0.0         NaN         NaN         NaN  ...   \n",
      "\n",
      "         068484477X  0684872153  0743237188  0743418174  0786868716  \\\n",
      "User-ID                                                               \n",
      "26              NaN         NaN         NaN         NaN         NaN   \n",
      "51              NaN         NaN         NaN         NaN         NaN   \n",
      "91              NaN         NaN         NaN         NaN         NaN   \n",
      "114             NaN         NaN         NaN         NaN         NaN   \n",
      "165             NaN         NaN         NaN         NaN         NaN   \n",
      "\n",
      "         0804106304  080410753X  0842329129  0971880107  1400034779  \n",
      "User-ID                                                              \n",
      "26              NaN         NaN         NaN         NaN         NaN  \n",
      "51              NaN         NaN         NaN         NaN         NaN  \n",
      "91              NaN         NaN         NaN         NaN         NaN  \n",
      "114             NaN         NaN         NaN         NaN         NaN  \n",
      "165             NaN         NaN         NaN         NaN         NaN  \n",
      "\n",
      "[5 rows x 95 columns]\n"
     ]
    }
   ],
   "source": [
    "user_book_withna = pd.read_csv(os.path.join(INPUT_DIR, 'user-book_matrix_normalized_withna.csv'), index_col=0)\n",
    "print(user_book_withna.info())\n",
    "print(user_book_withna.head())"
   ]
  },
  {
   "cell_type": "markdown",
   "id": "c70727f2",
   "metadata": {
    "papermill": {
     "duration": 0.004269,
     "end_time": "2022-10-26T13:55:20.052495",
     "exception": false,
     "start_time": "2022-10-26T13:55:20.048226",
     "status": "completed"
    },
    "tags": []
   },
   "source": [
    "Let us check how sparse this matrix is. We compute the ratio of missing values."
   ]
  },
  {
   "cell_type": "code",
   "execution_count": 3,
   "id": "aa058489",
   "metadata": {
    "execution": {
     "iopub.execute_input": "2022-10-26T13:55:20.063322Z",
     "iopub.status.busy": "2022-10-26T13:55:20.062573Z",
     "iopub.status.idle": "2022-10-26T13:55:20.071477Z",
     "shell.execute_reply": "2022-10-26T13:55:20.070205Z"
    },
    "papermill": {
     "duration": 0.017115,
     "end_time": "2022-10-26T13:55:20.074102",
     "exception": false,
     "start_time": "2022-10-26T13:55:20.056987",
     "status": "completed"
    },
    "tags": []
   },
   "outputs": [
    {
     "name": "stdout",
     "output_type": "stream",
     "text": [
      "0.9823486044244766\n"
     ]
    }
   ],
   "source": [
    "missing_values = user_book_withna.isnull().values.sum()\n",
    "total_values = user_book_withna.size\n",
    "sparsity = missing_values / total_values\n",
    "print(sparsity)"
   ]
  },
  {
   "cell_type": "markdown",
   "id": "e920dfe1",
   "metadata": {
    "papermill": {
     "duration": 0.004265,
     "end_time": "2022-10-26T13:55:20.083060",
     "exception": false,
     "start_time": "2022-10-26T13:55:20.078795",
     "status": "completed"
    },
    "tags": []
   },
   "source": [
    "So, less than 2 percent of the matrix is filled. We will use matrix factorization to predict the missing values."
   ]
  },
  {
   "cell_type": "markdown",
   "id": "2222cbad",
   "metadata": {
    "papermill": {
     "duration": 0.004209,
     "end_time": "2022-10-26T13:55:20.091891",
     "exception": false,
     "start_time": "2022-10-26T13:55:20.087682",
     "status": "completed"
    },
    "tags": []
   },
   "source": [
    "We load the normalized matrix for which missing values are filled with zeros."
   ]
  },
  {
   "cell_type": "code",
   "execution_count": 4,
   "id": "72974584",
   "metadata": {
    "execution": {
     "iopub.execute_input": "2022-10-26T13:55:20.102975Z",
     "iopub.status.busy": "2022-10-26T13:55:20.102532Z",
     "iopub.status.idle": "2022-10-26T13:55:20.134864Z",
     "shell.execute_reply": "2022-10-26T13:55:20.133159Z"
    },
    "papermill": {
     "duration": 0.041254,
     "end_time": "2022-10-26T13:55:20.137608",
     "exception": false,
     "start_time": "2022-10-26T13:55:20.096354",
     "status": "completed"
    },
    "tags": []
   },
   "outputs": [
    {
     "name": "stdout",
     "output_type": "stream",
     "text": [
      "<class 'pandas.core.frame.DataFrame'>\n",
      "Int64Index: 10637 entries, 26 to 278844\n",
      "Data columns (total 95 columns):\n",
      " #   Column      Non-Null Count  Dtype  \n",
      "---  ------      --------------  -----  \n",
      " 0   0060392452  10637 non-null  float64\n",
      " 1   0060502258  10637 non-null  float64\n",
      " 2   0060928336  10637 non-null  float64\n",
      " 3   0060930535  10637 non-null  float64\n",
      " 4   0060934417  10637 non-null  float64\n",
      " 5   0060938455  10637 non-null  float64\n",
      " 6   0060976845  10637 non-null  float64\n",
      " 7   0060987103  10637 non-null  float64\n",
      " 8   006101351X  10637 non-null  float64\n",
      " 9   014028009X  10637 non-null  float64\n",
      " 10  0140293248  10637 non-null  float64\n",
      " 11  0142000205  10637 non-null  float64\n",
      " 12  0142001740  10637 non-null  float64\n",
      " 13  0312195516  10637 non-null  float64\n",
      " 14  0312278586  10637 non-null  float64\n",
      " 15  0312291639  10637 non-null  float64\n",
      " 16  0312305060  10637 non-null  float64\n",
      " 17  0316096199  10637 non-null  float64\n",
      " 18  0316284955  10637 non-null  float64\n",
      " 19  0316601950  10637 non-null  float64\n",
      " 20  0316666343  10637 non-null  float64\n",
      " 21  0316769487  10637 non-null  float64\n",
      " 22  0316776963  10637 non-null  float64\n",
      " 23  0345313860  10637 non-null  float64\n",
      " 24  0345337662  10637 non-null  float64\n",
      " 25  0345339681  10637 non-null  float64\n",
      " 26  0345342968  10637 non-null  float64\n",
      " 27  0345351525  10637 non-null  float64\n",
      " 28  0345353145  10637 non-null  float64\n",
      " 29  0345361792  10637 non-null  float64\n",
      " 30  0345370775  10637 non-null  float64\n",
      " 31  0345378490  10637 non-null  float64\n",
      " 32  0345417623  10637 non-null  float64\n",
      " 33  0345443284  10637 non-null  float64\n",
      " 34  0375700757  10637 non-null  float64\n",
      " 35  0375706771  10637 non-null  float64\n",
      " 36  0375707972  10637 non-null  float64\n",
      " 37  0375725784  10637 non-null  float64\n",
      " 38  0375726403  10637 non-null  float64\n",
      " 39  0375727345  10637 non-null  float64\n",
      " 40  0380731851  10637 non-null  float64\n",
      " 41  0380789035  10637 non-null  float64\n",
      " 42  0385265700  10637 non-null  float64\n",
      " 43  0385335482  10637 non-null  float64\n",
      " 44  0385484518  10637 non-null  float64\n",
      " 45  0385492081  10637 non-null  float64\n",
      " 46  0385504209  10637 non-null  float64\n",
      " 47  0385720106  10637 non-null  float64\n",
      " 48  0385722206  10637 non-null  float64\n",
      " 49  043935806X  10637 non-null  float64\n",
      " 50  044021145X  10637 non-null  float64\n",
      " 51  0440211727  10637 non-null  float64\n",
      " 52  0440213525  10637 non-null  float64\n",
      " 53  0440214041  10637 non-null  float64\n",
      " 54  0440220602  10637 non-null  float64\n",
      " 55  0440221471  10637 non-null  float64\n",
      " 56  044022165X  10637 non-null  float64\n",
      " 57  0440222656  10637 non-null  float64\n",
      " 58  0440224675  10637 non-null  float64\n",
      " 59  0440224764  10637 non-null  float64\n",
      " 60  0440225701  10637 non-null  float64\n",
      " 61  0440226430  10637 non-null  float64\n",
      " 62  0440234743  10637 non-null  float64\n",
      " 63  0440236673  10637 non-null  float64\n",
      " 64  044023722X  10637 non-null  float64\n",
      " 65  0440241073  10637 non-null  float64\n",
      " 66  0446310786  10637 non-null  float64\n",
      " 67  0446364193  10637 non-null  float64\n",
      " 68  044651652X  10637 non-null  float64\n",
      " 69  0446605239  10637 non-null  float64\n",
      " 70  0446606812  10637 non-null  float64\n",
      " 71  0446608955  10637 non-null  float64\n",
      " 72  0446610038  10637 non-null  float64\n",
      " 73  0449212602  10637 non-null  float64\n",
      " 74  0452282152  10637 non-null  float64\n",
      " 75  0452282829  10637 non-null  float64\n",
      " 76  0553279912  10637 non-null  float64\n",
      " 77  0553572997  10637 non-null  float64\n",
      " 78  059035342X  10637 non-null  float64\n",
      " 79  0671003755  10637 non-null  float64\n",
      " 80  0671021001  10637 non-null  float64\n",
      " 81  0671027360  10637 non-null  float64\n",
      " 82  0671510053  10637 non-null  float64\n",
      " 83  067976402X  10637 non-null  float64\n",
      " 84  0679781587  10637 non-null  float64\n",
      " 85  068484477X  10637 non-null  float64\n",
      " 86  0684872153  10637 non-null  float64\n",
      " 87  0743237188  10637 non-null  float64\n",
      " 88  0743418174  10637 non-null  float64\n",
      " 89  0786868716  10637 non-null  float64\n",
      " 90  0804106304  10637 non-null  float64\n",
      " 91  080410753X  10637 non-null  float64\n",
      " 92  0842329129  10637 non-null  float64\n",
      " 93  0971880107  10637 non-null  float64\n",
      " 94  1400034779  10637 non-null  float64\n",
      "dtypes: float64(95)\n",
      "memory usage: 7.8 MB\n",
      "None\n",
      "         0060392452  0060502258  0060928336  0060930535  0060934417  \\\n",
      "User-ID                                                               \n",
      "26              0.0         0.0         0.0         0.0         0.0   \n",
      "51              0.0         0.0         0.0         0.0         0.0   \n",
      "91              0.0         0.0         0.0         0.0         0.0   \n",
      "114             0.0         0.0         0.0         0.0         0.0   \n",
      "165             0.0         0.0         0.0         0.0         0.0   \n",
      "\n",
      "         0060938455  0060976845  0060987103  006101351X  014028009X  ...  \\\n",
      "User-ID                                                              ...   \n",
      "26              0.0         0.0         0.0         0.0         0.0  ...   \n",
      "51              0.0         0.0         0.0         0.0         0.0  ...   \n",
      "91              0.0         0.0         0.0         0.0         0.0  ...   \n",
      "114             0.0         0.0         0.0         0.0         0.0  ...   \n",
      "165             0.0         0.0         0.0         0.0         0.0  ...   \n",
      "\n",
      "         068484477X  0684872153  0743237188  0743418174  0786868716  \\\n",
      "User-ID                                                               \n",
      "26              0.0         0.0         0.0         0.0         0.0   \n",
      "51              0.0         0.0         0.0         0.0         0.0   \n",
      "91              0.0         0.0         0.0         0.0         0.0   \n",
      "114             0.0         0.0         0.0         0.0         0.0   \n",
      "165             0.0         0.0         0.0         0.0         0.0   \n",
      "\n",
      "         0804106304  080410753X  0842329129  0971880107  1400034779  \n",
      "User-ID                                                              \n",
      "26              0.0         0.0         0.0         0.0         0.0  \n",
      "51              0.0         0.0         0.0         0.0         0.0  \n",
      "91              0.0         0.0         0.0         0.0         0.0  \n",
      "114             0.0         0.0         0.0         0.0         0.0  \n",
      "165             0.0         0.0         0.0         0.0         0.0  \n",
      "\n",
      "[5 rows x 95 columns]\n"
     ]
    }
   ],
   "source": [
    "user_book_normalized = pd.read_csv(os.path.join(INPUT_DIR, 'normalized_user-book_matrix.csv'), index_col=0)\n",
    "print(user_book_normalized.info())\n",
    "print(user_book_normalized.head())"
   ]
  },
  {
   "cell_type": "markdown",
   "id": "84d0e38c",
   "metadata": {
    "papermill": {
     "duration": 0.004373,
     "end_time": "2022-10-26T13:55:20.146891",
     "exception": false,
     "start_time": "2022-10-26T13:55:20.142518",
     "status": "completed"
    },
    "tags": []
   },
   "source": [
    "Now we are going to apply SVDs."
   ]
  },
  {
   "cell_type": "code",
   "execution_count": 6,
   "id": "6789e1da",
   "metadata": {
    "execution": {
     "iopub.execute_input": "2022-10-26T13:55:20.157763Z",
     "iopub.status.busy": "2022-10-26T13:55:20.157393Z",
     "iopub.status.idle": "2022-10-26T13:55:20.447964Z",
     "shell.execute_reply": "2022-10-26T13:55:20.446379Z"
    },
    "papermill": {
     "duration": 0.311265,
     "end_time": "2022-10-26T13:55:20.462647",
     "exception": false,
     "start_time": "2022-10-26T13:55:20.151382",
     "status": "completed"
    },
    "tags": []
   },
   "outputs": [
    {
     "name": "stdout",
     "output_type": "stream",
     "text": [
      "[[ 0.00000000e+00  0.00000000e+00  0.00000000e+00  0.00000000e+00\n",
      "   0.00000000e+00  0.00000000e+00]\n",
      " [ 0.00000000e+00  0.00000000e+00  0.00000000e+00  0.00000000e+00\n",
      "   0.00000000e+00  0.00000000e+00]\n",
      " [ 0.00000000e+00  0.00000000e+00  0.00000000e+00  0.00000000e+00\n",
      "   0.00000000e+00  0.00000000e+00]\n",
      " ...\n",
      " [ 0.00000000e+00  0.00000000e+00  0.00000000e+00  0.00000000e+00\n",
      "   0.00000000e+00  0.00000000e+00]\n",
      " [ 1.33193481e-03 -2.71467221e-03  2.62317904e-03  1.41927888e-03\n",
      "   4.87638585e-04  9.30602458e-05]\n",
      " [ 0.00000000e+00  0.00000000e+00  0.00000000e+00  0.00000000e+00\n",
      "   0.00000000e+00  0.00000000e+00]]\n",
      "[[19.48556162  0.          0.          0.          0.          0.        ]\n",
      " [ 0.         20.02611235  0.          0.          0.          0.        ]\n",
      " [ 0.          0.         21.20315984  0.          0.          0.        ]\n",
      " [ 0.          0.          0.         23.69271751  0.          0.        ]\n",
      " [ 0.          0.          0.          0.         25.22058888  0.        ]\n",
      " [ 0.          0.          0.          0.          0.         39.86277176]]\n",
      "[[ 1.06728767e-02  4.41808730e-02  9.28066740e-02  1.00458332e-01\n",
      "   2.00017292e-02 -5.92526443e-02 -6.16272472e-02 -2.92593902e-03\n",
      "   4.43999863e-03 -8.19952748e-02  1.65246770e-01 -2.35843163e-03\n",
      "  -2.20060922e-01 -2.76183017e-02  9.40783879e-02 -1.64522478e-02\n",
      "  -1.63245592e-02 -1.56994336e-02 -5.60703393e-02 -5.95961564e-02\n",
      "  -1.48252688e-01 -1.74167952e-01  7.62149712e-03 -1.16433144e-02\n",
      "   7.12836590e-02  2.79416815e-02  5.95241696e-02  2.64877307e-03\n",
      "  -3.56294802e-02  2.89535858e-02 -3.89525032e-03 -2.91084461e-02\n",
      "   1.31765559e-02 -3.74783344e-02 -2.34118471e-03  5.79893248e-02\n",
      "  -2.87929038e-02  2.53498355e-02  8.89116907e-02  3.99908737e-02\n",
      "   2.18631035e-02  2.00559433e-04  5.05567807e-02 -1.11273761e-01\n",
      "   2.20076231e-02  6.99845869e-02  5.87405521e-02 -1.35240776e-02\n",
      "  -2.99821542e-02  8.24315211e-02  1.15488012e-01  3.92795592e-03\n",
      "   4.13141715e-02 -1.01232745e-02 -3.65418124e-02 -3.41598909e-02\n",
      "  -1.30852214e-02  7.91811233e-02  3.61278019e-02 -2.44582081e-02\n",
      "  -3.35143806e-03 -2.89033420e-02 -7.21322613e-02 -3.54218501e-02\n",
      "   8.03924478e-02 -3.53712132e-02  2.79175491e-01 -1.50382904e-02\n",
      "  -8.88579778e-02 -4.01293145e-01 -2.19881243e-01  2.92856457e-02\n",
      "  -1.72959289e-02 -4.55417985e-02  2.42885811e-02 -6.43059129e-02\n",
      "  -5.76378485e-02  2.66173851e-02 -5.82081697e-04  1.29872803e-01\n",
      "  -7.73898202e-03 -4.47214020e-02  1.09937664e-02 -2.03991862e-01\n",
      "   5.69555419e-01  9.59231560e-02 -6.70076213e-02  2.30117563e-02\n",
      "   5.07630543e-02 -3.36023834e-02  5.33457990e-03 -1.37678247e-02\n",
      "  -7.54379268e-02 -6.15980733e-03  4.01664254e-02]\n",
      " [-5.57907901e-03  4.87291842e-02 -4.59498147e-02  1.75419259e-01\n",
      "  -2.70698156e-02  1.14259562e-02  1.93288600e-02  1.55856343e-02\n",
      "  -1.53706065e-03  1.24099417e-01  8.56086599e-02 -4.72040575e-02\n",
      "  -6.33497586e-01 -2.64660624e-01  3.20977197e-04 -1.73506382e-05\n",
      "  -1.92055437e-02 -5.53055855e-02 -7.56454216e-03  7.70900651e-02\n",
      "   1.14903623e-02 -2.37337172e-01  6.28771262e-03 -2.04460320e-02\n",
      "   3.03066591e-02  9.81281594e-05 -2.70129158e-02 -2.91148558e-04\n",
      "  -1.29630978e-03  1.27313309e-02  4.29513375e-02  1.38384794e-02\n",
      "   1.11113884e-01  7.09174955e-02  6.35671454e-03 -2.08234051e-02\n",
      "   1.07091026e-01  9.63166826e-03  1.12412191e-01  2.57182197e-02\n",
      "   7.00865710e-03  2.73544600e-02 -5.98743916e-03  2.48154982e-02\n",
      "  -4.43927688e-02  5.86518136e-02  3.95761914e-02  2.30226121e-02\n",
      "   2.54871401e-02  2.53023237e-02  4.32951931e-02  2.71944812e-02\n",
      "   5.82263229e-02  8.46941165e-02  6.03742516e-02  8.48373052e-02\n",
      "   7.67313922e-02 -4.35770248e-02  5.28089375e-02 -8.08019323e-03\n",
      "   2.50906928e-02 -3.89410832e-02  5.54078597e-02  3.71758383e-02\n",
      "   1.20163015e-01  1.02124132e-01 -1.59188980e-01  1.93822672e-02\n",
      "  -2.76284582e-03 -1.97426479e-01  1.34055113e-01 -1.01968102e-02\n",
      "  -4.15246166e-02 -1.66825609e-02  5.99338004e-02  1.01164676e-01\n",
      "   4.82584928e-02  1.83485974e-02 -5.54145400e-02  6.25653498e-02\n",
      "  -6.57091620e-02  1.02525347e-02  7.19829880e-02 -2.34132362e-02\n",
      "  -3.89102699e-01 -3.38172858e-02 -2.50840071e-02  1.88518783e-02\n",
      "  -5.62086358e-02  1.06968821e-02 -1.23488391e-02 -2.39770498e-02\n",
      "  -2.06455107e-02 -3.41414554e-02 -9.96676959e-03]\n",
      " [-3.47964729e-02 -2.05098982e-02 -4.49148631e-02 -7.69615742e-02\n",
      "  -1.23166603e-02 -1.21942871e-01 -3.11730684e-02 -9.00686964e-02\n",
      "  -1.68104215e-02  2.18718508e-02  1.86605019e-01  1.95179449e-02\n",
      "   1.05057736e-01 -2.11804496e-01  1.20176882e-01 -3.96756871e-02\n",
      "  -7.29211456e-02 -1.04309651e-01  3.78337616e-02  1.23741741e-02\n",
      "  -2.16186814e-01  1.00910211e-02 -3.11010848e-03 -2.84319881e-03\n",
      "   1.25782030e-01  2.66955339e-02  1.00611353e-02  1.35527049e-02\n",
      "  -2.03475861e-03 -2.29066862e-01 -2.55983018e-02 -3.40037155e-02\n",
      "  -1.25456145e-01  1.53486956e-02  2.16755062e-02  5.08754415e-02\n",
      "  -3.46492204e-02  2.73303078e-02  1.26019363e-02  1.38605134e-01\n",
      "   5.18443238e-02  1.58410479e-02  4.71428168e-02 -1.24789438e-01\n",
      "  -1.17526721e-01 -3.12540747e-02  1.38250397e-02  3.45187734e-02\n",
      "  -5.00928547e-02  2.72074013e-04  2.95598949e-01  5.86434682e-03\n",
      "   9.91223710e-02  3.29433580e-02  7.71314250e-03 -3.46139263e-02\n",
      "   1.14024514e-02  2.80310645e-01 -2.04269495e-02  7.06026923e-03\n",
      "  -2.68874590e-02  6.68783753e-02 -2.06885459e-02 -4.56471056e-03\n",
      "  -6.38457330e-03  1.41460137e-02 -1.70875992e-01 -5.34674731e-03\n",
      "   8.60597990e-03  3.83592972e-01  4.27077778e-02  3.93311548e-02\n",
      "  -6.97942970e-02 -9.58113134e-02 -1.98672311e-02 -9.01498963e-02\n",
      "   4.22469489e-02  4.34248198e-02 -1.49695014e-01  3.90047456e-01\n",
      "   3.98662510e-02  1.20397230e-02 -5.50713720e-02 -1.88403047e-01\n",
      "  -7.65941818e-02  1.33287139e-01 -3.21379382e-02  5.89294347e-02\n",
      "  -1.99369485e-02 -7.14223071e-02  5.27139935e-03 -1.39305100e-02\n",
      "  -2.83763876e-02 -5.08992910e-02 -1.31955098e-02]\n",
      " [-1.74224529e-02  7.31508944e-03  3.15258124e-02 -2.86356934e-02\n",
      "  -2.11725653e-03 -1.46772253e-02 -3.94465127e-02 -5.83357659e-02\n",
      "  -2.62730514e-02 -8.80015211e-02  3.51927692e-02 -1.56252004e-02\n",
      "   5.61661368e-02 -2.26299795e-03  1.29238873e-02 -5.00670796e-02\n",
      "  -1.96359036e-02 -4.34306460e-02 -2.80349183e-02 -2.74700956e-02\n",
      "   6.50614203e-01 -1.39658927e-01 -2.57905488e-02 -3.67732858e-02\n",
      "   1.77915658e-02 -4.85441883e-02 -1.21007684e-02 -1.13814336e-02\n",
      "  -1.72165273e-02 -4.33270818e-02 -2.67731611e-02 -1.47809115e-02\n",
      "  -5.89412168e-02 -2.34632136e-02 -1.42363327e-02 -4.43490710e-02\n",
      "  -6.51929601e-02 -2.53842433e-02 -2.14161010e-02  1.37541106e-02\n",
      "   1.15858988e-02 -1.45036526e-02 -2.55514261e-02 -5.43304980e-02\n",
      "   4.82353902e-02 -4.82778496e-02  6.63536840e-01  1.19987177e-02\n",
      "  -4.43724082e-03  6.09893639e-03  5.94092973e-02 -5.35323176e-03\n",
      "  -1.96373921e-02 -1.72616580e-02  4.15141689e-03 -4.91870957e-03\n",
      "  -1.96814143e-02  6.21072688e-02 -4.73400572e-02 -3.56557197e-04\n",
      "  -1.61765874e-02  1.89529588e-02 -2.78224883e-02 -3.01563914e-03\n",
      "  -5.76179301e-02 -6.29742848e-03  1.10478270e-02 -6.61209426e-03\n",
      "  -3.05319678e-02 -3.06209911e-02  2.52678821e-02  4.16312568e-03\n",
      "  -1.51492860e-02 -1.84460778e-02 -5.17840820e-04 -4.24220459e-02\n",
      "  -4.92518119e-03 -5.69956954e-03 -4.41286005e-02  4.20695829e-02\n",
      "   5.82207269e-02 -2.14296016e-02 -4.50501969e-02 -1.08779113e-01\n",
      "  -5.24790043e-02  1.23693110e-02 -3.53025349e-03  1.47342835e-02\n",
      "  -3.54857037e-02 -3.34391246e-02 -4.91061127e-03 -6.56702998e-03\n",
      "  -1.51624846e-02  1.16004263e-01 -6.00446971e-03]\n",
      " [-3.36258602e-02 -1.72407025e-04 -1.25427359e-02  1.77733314e-02\n",
      "  -1.78339060e-02  2.40685555e-03  7.86571877e-04 -7.66128878e-03\n",
      "   9.24620158e-03 -2.15213888e-02 -6.08777731e-02  2.31987048e-02\n",
      "  -6.15629323e-03  7.86547798e-02 -2.33967051e-02  3.51061867e-02\n",
      "   1.77377681e-02  1.28394988e-02  2.23841542e-02 -1.40035263e-02\n",
      "  -6.56242361e-01  1.10927949e-02  3.41603475e-03  1.26541097e-02\n",
      "  -2.97115184e-02  2.49753022e-03  7.41542319e-03 -1.07780916e-02\n",
      "  -9.34767112e-03 -1.93993601e-02 -1.85731967e-03  1.60007528e-02\n",
      "   2.88893398e-02  4.26864237e-03 -3.34714489e-04 -6.48165768e-02\n",
      "   1.70685519e-02 -2.31911003e-02 -2.03787670e-02 -3.41439258e-02\n",
      "  -2.44599468e-02  7.75267748e-03 -6.91726629e-04  3.22155702e-02\n",
      "   1.00654991e-03 -1.78119135e-02  6.97900694e-01  4.35842728e-03\n",
      "  -1.97668852e-03  1.04356976e-02 -8.32652955e-02  1.27831985e-02\n",
      "  -1.58894034e-02  2.10255191e-02 -5.62741865e-03  3.43327455e-02\n",
      "   6.75994516e-03 -7.54967237e-02 -9.10908379e-03 -6.03902951e-03\n",
      "  -4.53226159e-04 -2.26031716e-02  1.18830898e-02  3.57061436e-03\n",
      "  -1.28663418e-02 -4.51127743e-04 -4.50980913e-02 -2.39293065e-03\n",
      "   7.75587277e-03  4.79618308e-02  2.35015878e-02 -1.64128197e-02\n",
      "   3.11216830e-02  1.51819513e-03  7.86853964e-03  4.61650296e-02\n",
      "   2.28192478e-02 -4.60962127e-03  3.10232016e-02 -8.17287940e-02\n",
      "  -1.28869992e-02 -4.55845242e-02  7.75867356e-03  1.07250061e-01\n",
      "  -1.23635984e-02 -3.75313460e-02  7.66448705e-03 -3.88341986e-02\n",
      "   4.34123385e-03  5.67332313e-02  6.44235224e-03  5.10236737e-03\n",
      "   2.76608857e-02  3.65701200e-02 -4.54325095e-03]\n",
      " [ 7.96759330e-04 -3.50673236e-03 -2.48661808e-02 -1.42062785e-02\n",
      "  -1.23390271e-03 -5.74441549e-03  2.64544304e-03 -1.98520501e-02\n",
      "  -6.26286856e-03  6.05391890e-03  3.53251605e-03 -2.10113993e-03\n",
      "  -4.62900625e-02 -1.16358884e-02 -2.26419840e-04 -1.61085578e-02\n",
      "   3.65040991e-03 -1.77734009e-02 -1.05505907e-02 -3.19893438e-02\n",
      "  -8.04371304e-02  1.08960806e-02 -5.70415408e-03 -9.00496280e-03\n",
      "   8.38247037e-03 -1.52956568e-02 -1.20873813e-02 -6.79143650e-04\n",
      "   3.01549207e-03 -3.08210680e-02 -1.68237898e-02 -1.56168793e-03\n",
      "  -1.18951141e-02  5.98139369e-03 -1.13727212e-02 -8.00529657e-03\n",
      "  -1.53960296e-03 -2.25087767e-02 -1.41696316e-02 -5.67775397e-03\n",
      "  -6.81525966e-03 -1.69635239e-02 -2.30594410e-03 -1.23022326e-02\n",
      "   5.80181940e-04 -3.13957088e-02 -1.18281776e-01 -5.41914306e-03\n",
      "  -7.04215316e-03 -4.66175809e-02  1.04678712e-02 -7.76275983e-04\n",
      "   7.25393774e-03 -7.72678168e-03 -1.63071618e-03 -3.52810124e-03\n",
      "   5.04276873e-04  1.02057127e-02 -7.90561039e-03 -8.79154462e-04\n",
      "  -2.32123537e-04 -9.97374787e-03 -3.30787981e-04  3.54024218e-04\n",
      "  -2.56448791e-02 -2.85410128e-03 -4.75420635e-02 -3.08268908e-03\n",
      "  -1.07662338e-02 -3.86644412e-02  1.01154994e-02  3.67035319e-03\n",
      "  -9.50870932e-03 -3.08298061e-03 -1.53983033e-02 -1.79049373e-02\n",
      "   3.61196509e-03 -7.08681333e-03 -2.13851168e-02  2.04204726e-02\n",
      "  -1.54021554e-02 -2.43003059e-02 -9.45765940e-03 -1.62928742e-02\n",
      "  -1.35455560e-02  1.11006130e-02 -2.59564561e-04 -1.83889088e-02\n",
      "  -1.62011591e-02 -1.90033791e-02  7.01828776e-04 -7.65725583e-03\n",
      "  -2.53590159e-03  9.78698916e-01 -1.66158222e-02]]\n"
     ]
    }
   ],
   "source": [
    "from scipy.sparse.linalg import svds\n",
    "U, sigma, Vt = svds(user_book_normalized.values)\n",
    "sigma = np.diag(sigma)\n",
    "print(U)\n",
    "print(sigma)\n",
    "print(Vt)"
   ]
  },
  {
   "cell_type": "markdown",
   "id": "4d694f5d",
   "metadata": {
    "papermill": {
     "duration": 0.014089,
     "end_time": "2022-10-26T13:55:20.489626",
     "exception": false,
     "start_time": "2022-10-26T13:55:20.475537",
     "status": "completed"
    },
    "tags": []
   },
   "source": [
    "Now we can compute our predictions."
   ]
  },
  {
   "cell_type": "code",
   "execution_count": 7,
   "id": "fa4ca4c8",
   "metadata": {
    "execution": {
     "iopub.execute_input": "2022-10-26T13:55:20.518002Z",
     "iopub.status.busy": "2022-10-26T13:55:20.517302Z",
     "iopub.status.idle": "2022-10-26T13:55:20.544714Z",
     "shell.execute_reply": "2022-10-26T13:55:20.540466Z"
    },
    "papermill": {
     "duration": 0.047552,
     "end_time": "2022-10-26T13:55:20.550033",
     "exception": false,
     "start_time": "2022-10-26T13:55:20.502481",
     "status": "completed"
    },
    "tags": []
   },
   "outputs": [
    {
     "name": "stdout",
     "output_type": "stream",
     "text": [
      "[[ 0.          0.          0.         ...  0.          0.\n",
      "   0.        ]\n",
      " [ 0.          0.          0.         ...  0.          0.\n",
      "   0.        ]\n",
      " [ 0.          0.          0.         ...  0.          0.\n",
      "   0.        ]\n",
      " ...\n",
      " [ 0.          0.          0.         ...  0.          0.\n",
      "   0.        ]\n",
      " [-0.00235152 -0.00241238  0.00322214 ... -0.00259287  0.00684641\n",
      "   0.00053094]\n",
      " [ 0.          0.          0.         ...  0.          0.\n",
      "   0.        ]]\n"
     ]
    }
   ],
   "source": [
    "predicted_ratings = np.dot(np.dot(U, sigma), Vt)\n",
    "print(predicted_ratings)"
   ]
  },
  {
   "cell_type": "markdown",
   "id": "ac9c1676",
   "metadata": {
    "papermill": {
     "duration": 0.012153,
     "end_time": "2022-10-26T13:55:20.576412",
     "exception": false,
     "start_time": "2022-10-26T13:55:20.564259",
     "status": "completed"
    },
    "tags": []
   },
   "source": [
    "It remains to add average rating for each user."
   ]
  },
  {
   "cell_type": "markdown",
   "id": "e0fa17ad",
   "metadata": {},
   "source": [
    "We load the average rating for each user."
   ]
  },
  {
   "cell_type": "code",
   "execution_count": 8,
   "id": "434d5ae0",
   "metadata": {},
   "outputs": [
    {
     "name": "stdout",
     "output_type": "stream",
     "text": [
      "User-ID\n",
      "26        10.000000\n",
      "51         9.000000\n",
      "91         9.000000\n",
      "114       10.000000\n",
      "165        9.000000\n",
      "            ...    \n",
      "278755     1.000000\n",
      "278773     8.000000\n",
      "278798     7.000000\n",
      "278843     8.333333\n",
      "278844     7.000000\n",
      "Name: 0, Length: 10637, dtype: float64\n"
     ]
    }
   ],
   "source": [
    "user_average_ratings = pd.read_csv(os.path.join(INPUT_DIR, 'average_ratings_by_user.csv'), index_col=0)\n",
    "user_average_ratings = user_average_ratings.squeeze()\n",
    "print(user_average_ratings)"
   ]
  },
  {
   "cell_type": "markdown",
   "id": "b8c45282",
   "metadata": {},
   "source": [
    "We now add them to the predictions."
   ]
  },
  {
   "cell_type": "code",
   "execution_count": 9,
   "id": "a447f6df",
   "metadata": {
    "execution": {
     "iopub.execute_input": "2022-10-26T13:55:20.604678Z",
     "iopub.status.busy": "2022-10-26T13:55:20.603980Z",
     "iopub.status.idle": "2022-10-26T13:55:20.634046Z",
     "shell.execute_reply": "2022-10-26T13:55:20.631591Z"
    },
    "papermill": {
     "duration": 0.049769,
     "end_time": "2022-10-26T13:55:20.638996",
     "exception": false,
     "start_time": "2022-10-26T13:55:20.589227",
     "status": "completed"
    },
    "tags": []
   },
   "outputs": [
    {
     "name": "stdout",
     "output_type": "stream",
     "text": [
      "[[10.         10.         10.         ... 10.         10.\n",
      "  10.        ]\n",
      " [ 9.          9.          9.         ...  9.          9.\n",
      "   9.        ]\n",
      " [ 9.          9.          9.         ...  9.          9.\n",
      "   9.        ]\n",
      " ...\n",
      " [ 7.          7.          7.         ...  7.          7.\n",
      "   7.        ]\n",
      " [ 8.33098182  8.33092095  8.33655547 ...  8.33074047  8.34017974\n",
      "   8.33386428]\n",
      " [ 7.          7.          7.         ...  7.          7.\n",
      "   7.        ]]\n"
     ]
    }
   ],
   "source": [
    "predicted_ratings = predicted_ratings + user_average_ratings.values.reshape(-1, 1)\n",
    "print(predicted_ratings)"
   ]
  },
  {
   "cell_type": "markdown",
   "id": "b8921d40",
   "metadata": {},
   "source": [
    "We create a dataframe from the numpy array of predictions."
   ]
  },
  {
   "cell_type": "code",
   "execution_count": 12,
   "id": "87d14235",
   "metadata": {},
   "outputs": [
    {
     "name": "stdout",
     "output_type": "stream",
     "text": [
      "         0060392452  0060502258  0060928336  0060930535  0060934417  \\\n",
      "User-ID                                                               \n",
      "26             10.0        10.0        10.0        10.0        10.0   \n",
      "51              9.0         9.0         9.0         9.0         9.0   \n",
      "91              9.0         9.0         9.0         9.0         9.0   \n",
      "114            10.0        10.0        10.0        10.0        10.0   \n",
      "165             9.0         9.0         9.0         9.0         9.0   \n",
      "\n",
      "         0060938455  0060976845  0060987103  006101351X  014028009X  ...  \\\n",
      "User-ID                                                              ...   \n",
      "26             10.0        10.0        10.0        10.0        10.0  ...   \n",
      "51              9.0         9.0         9.0         9.0         9.0  ...   \n",
      "91              9.0         9.0         9.0         9.0         9.0  ...   \n",
      "114            10.0        10.0        10.0        10.0        10.0  ...   \n",
      "165             9.0         9.0         9.0         9.0         9.0  ...   \n",
      "\n",
      "         068484477X  0684872153  0743237188  0743418174  0786868716  \\\n",
      "User-ID                                                               \n",
      "26             10.0        10.0        10.0        10.0        10.0   \n",
      "51              9.0         9.0         9.0         9.0         9.0   \n",
      "91              9.0         9.0         9.0         9.0         9.0   \n",
      "114            10.0        10.0        10.0        10.0        10.0   \n",
      "165             9.0         9.0         9.0         9.0         9.0   \n",
      "\n",
      "         0804106304  080410753X  0842329129  0971880107  1400034779  \n",
      "User-ID                                                              \n",
      "26             10.0        10.0        10.0        10.0        10.0  \n",
      "51              9.0         9.0         9.0         9.0         9.0  \n",
      "91              9.0         9.0         9.0         9.0         9.0  \n",
      "114            10.0        10.0        10.0        10.0        10.0  \n",
      "165             9.0         9.0         9.0         9.0         9.0  \n",
      "\n",
      "[5 rows x 95 columns]\n"
     ]
    }
   ],
   "source": [
    "predicted_ratings_df = pd.DataFrame(predicted_ratings, \n",
    "                                    index=user_book_withna.index, \n",
    "                                    columns=user_book_withna.columns)\n",
    "print(predicted_ratings_df.head())"
   ]
  },
  {
   "cell_type": "markdown",
   "id": "59fe80d3",
   "metadata": {},
   "source": [
    "We write this dataframe of predictions to 'matrix_factorization.csv'."
   ]
  },
  {
   "cell_type": "code",
   "execution_count": 13,
   "id": "4b8116a7",
   "metadata": {},
   "outputs": [],
   "source": [
    "predicted_ratings_df.to_csv(os.path.join(OUTPUT_DIR, 'matrix_factorization.csv'))"
   ]
  }
 ],
 "metadata": {
  "interpreter": {
   "hash": "27f6fea6f47ae512550f0b8facdbd035a93e1dd89633f7bf2dd00a2502c71d0d"
  },
  "kernelspec": {
   "display_name": "Python 3.10.2 64-bit",
   "language": "python",
   "name": "python3"
  },
  "language_info": {
   "codemirror_mode": {
    "name": "ipython",
    "version": 3
   },
   "file_extension": ".py",
   "mimetype": "text/x-python",
   "name": "python",
   "nbconvert_exporter": "python",
   "pygments_lexer": "ipython3",
   "version": "3.10.2"
  },
  "papermill": {
   "default_parameters": {},
   "duration": 9.513192,
   "end_time": "2022-10-26T13:55:21.274072",
   "environment_variables": {},
   "exception": null,
   "input_path": "__notebook__.ipynb",
   "output_path": "__notebook__.ipynb",
   "parameters": {},
   "start_time": "2022-10-26T13:55:11.760880",
   "version": "2.3.4"
  }
 },
 "nbformat": 4,
 "nbformat_minor": 5
}
