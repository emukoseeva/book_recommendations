{
 "cells": [
  {
   "cell_type": "code",
   "execution_count": 122,
   "id": "042469b6",
   "metadata": {
    "_cell_guid": "b1076dfc-b9ad-4769-8c92-a6c4dae69d19",
    "_uuid": "8f2839f25d086af736a60e9eeb907d3b93b6e0e5",
    "execution": {
     "iopub.execute_input": "2022-10-25T10:55:40.346530Z",
     "iopub.status.busy": "2022-10-25T10:55:40.345821Z",
     "iopub.status.idle": "2022-10-25T10:55:40.369620Z",
     "shell.execute_reply": "2022-10-25T10:55:40.368614Z"
    },
    "papermill": {
     "duration": 0.040291,
     "end_time": "2022-10-25T10:55:40.372335",
     "exception": false,
     "start_time": "2022-10-25T10:55:40.332044",
     "status": "completed"
    },
    "tags": []
   },
   "outputs": [
    {
     "name": "stdout",
     "output_type": "stream",
     "text": [
      "c:\\Users\\ASUS\\Documents\\Python Programming\\Book recommendations\\Data\\Processed\\average_ratings_by_user.csv\n",
      "c:\\Users\\ASUS\\Documents\\Python Programming\\Book recommendations\\Data\\Processed\\Books_valid_ISBN_known_year_no_images.csv\n",
      "c:\\Users\\ASUS\\Documents\\Python Programming\\Book recommendations\\Data\\Processed\\normalized_user-book_matrix.csv\n",
      "c:\\Users\\ASUS\\Documents\\Python Programming\\Book recommendations\\Data\\Processed\\popular_books_with_descriptions.csv\n",
      "c:\\Users\\ASUS\\Documents\\Python Programming\\Book recommendations\\Data\\Processed\\ratings_for_popular_books.csv\n",
      "c:\\Users\\ASUS\\Documents\\Python Programming\\Book recommendations\\Data\\Processed\\Ratings_valid_ISBN.csv\n",
      "c:\\Users\\ASUS\\Documents\\Python Programming\\Book recommendations\\Data\\Processed\\user-book_matrix.csv\n",
      "c:\\Users\\ASUS\\Documents\\Python Programming\\Book recommendations\\Data\\Processed\\user-book_matrix_normalized_withna.csv\n",
      "c:\\Users\\ASUS\\Documents\\Python Programming\\Book recommendations\\Data\\Processed\\users_valid_age_with_country.csv\n"
     ]
    }
   ],
   "source": [
    "import numpy as np # linear algebra\n",
    "import pandas as pd # data processing, CSV file I/O (e.g. pd.read_csv)\n",
    "\n",
    "# Input data is contained in '../Data/Processed' directory\n",
    "# This cell lists all files under the input directory\n",
    "\n",
    "import os\n",
    "INPUT_DIR = os.path.join(os.path.dirname(os.getcwd()), 'Data', 'Processed')\n",
    "for dirname, _, filenames in os.walk(INPUT_DIR):\n",
    "    for filename in filenames:\n",
    "        print(os.path.join(dirname, filename))"
   ]
  },
  {
   "cell_type": "markdown",
   "id": "92ea1441",
   "metadata": {
    "papermill": {
     "duration": 0.00947,
     "end_time": "2022-10-25T10:55:40.391794",
     "exception": false,
     "start_time": "2022-10-25T10:55:40.382324",
     "status": "completed"
    },
    "tags": []
   },
   "source": [
    "We are going to make a simple collaborative filtering engine. First, we load the user-book matrices we computed, both the normalized one and with NaNs."
   ]
  },
  {
   "cell_type": "code",
   "execution_count": 123,
   "id": "3f4f913e",
   "metadata": {
    "execution": {
     "iopub.execute_input": "2022-10-25T10:55:40.412988Z",
     "iopub.status.busy": "2022-10-25T10:55:40.412560Z",
     "iopub.status.idle": "2022-10-25T10:55:40.512741Z",
     "shell.execute_reply": "2022-10-25T10:55:40.510365Z"
    },
    "papermill": {
     "duration": 0.115348,
     "end_time": "2022-10-25T10:55:40.516806",
     "exception": false,
     "start_time": "2022-10-25T10:55:40.401458",
     "status": "completed"
    },
    "tags": []
   },
   "outputs": [
    {
     "name": "stdout",
     "output_type": "stream",
     "text": [
      "<class 'pandas.core.frame.DataFrame'>\n",
      "Int64Index: 10637 entries, 26 to 278844\n",
      "Data columns (total 95 columns):\n",
      " #   Column      Non-Null Count  Dtype  \n",
      "---  ------      --------------  -----  \n",
      " 0   0060392452  158 non-null    float64\n",
      " 1   0060502258  166 non-null    float64\n",
      " 2   0060928336  320 non-null    float64\n",
      " 3   0060930535  218 non-null    float64\n",
      " 4   0060934417  159 non-null    float64\n",
      " 5   0060938455  154 non-null    float64\n",
      " 6   0060976845  186 non-null    float64\n",
      " 7   0060987103  156 non-null    float64\n",
      " 8   006101351X  118 non-null    float64\n",
      " 9   014028009X  131 non-null    float64\n",
      " 10  0140293248  165 non-null    float64\n",
      " 11  0142000205  129 non-null    float64\n",
      " 12  0142001740  307 non-null    float64\n",
      " 13  0312195516  383 non-null    float64\n",
      " 14  0312278586  226 non-null    float64\n",
      " 15  0312291639  167 non-null    float64\n",
      " 16  0312305060  129 non-null    float64\n",
      " 17  0316096199  133 non-null    float64\n",
      " 18  0316284955  171 non-null    float64\n",
      " 19  0316601950  272 non-null    float64\n",
      " 20  0316666343  707 non-null    float64\n",
      " 21  0316769487  243 non-null    float64\n",
      " 22  0316776963  159 non-null    float64\n",
      " 23  0345313860  143 non-null    float64\n",
      " 24  0345337662  230 non-null    float64\n",
      " 25  0345339681  161 non-null    float64\n",
      " 26  0345342968  164 non-null    float64\n",
      " 27  0345351525  100 non-null    float64\n",
      " 28  0345353145  136 non-null    float64\n",
      " 29  0345361792  181 non-null    float64\n",
      " 30  0345370775  200 non-null    float64\n",
      " 31  0345378490  98 non-null     float64\n",
      " 32  0345417623  195 non-null    float64\n",
      " 33  0345443284  138 non-null    float64\n",
      " 34  0375700757  134 non-null    float64\n",
      " 35  0375706771  153 non-null    float64\n",
      " 36  0375707972  145 non-null    float64\n",
      " 37  0375725784  144 non-null    float64\n",
      " 38  0375726403  145 non-null    float64\n",
      " 39  0375727345  229 non-null    float64\n",
      " 40  0380731851  104 non-null    float64\n",
      " 41  0380789035  151 non-null    float64\n",
      " 42  0385265700  115 non-null    float64\n",
      " 43  0385335482  163 non-null    float64\n",
      " 44  0385484518  200 non-null    float64\n",
      " 45  0385492081  138 non-null    float64\n",
      " 46  0385504209  487 non-null    float64\n",
      " 47  0385720106  111 non-null    float64\n",
      " 48  0385722206  129 non-null    float64\n",
      " 49  043935806X  206 non-null    float64\n",
      " 50  044021145X  208 non-null    float64\n",
      " 51  0440211727  194 non-null    float64\n",
      " 52  0440213525  145 non-null    float64\n",
      " 53  0440214041  174 non-null    float64\n",
      " 54  0440220602  146 non-null    float64\n",
      " 55  0440221471  152 non-null    float64\n",
      " 56  044022165X  138 non-null    float64\n",
      " 57  0440222656  140 non-null    float64\n",
      " 58  0440224675  101 non-null    float64\n",
      " 59  0440224764  143 non-null    float64\n",
      " 60  0440225701  133 non-null    float64\n",
      " 61  0440226430  214 non-null    float64\n",
      " 62  0440234743  169 non-null    float64\n",
      " 63  0440236673  150 non-null    float64\n",
      " 64  044023722X  281 non-null    float64\n",
      " 65  0440241073  200 non-null    float64\n",
      " 66  0446310786  214 non-null    float64\n",
      " 67  0446364193  116 non-null    float64\n",
      " 68  044651652X  152 non-null    float64\n",
      " 69  0446605239  206 non-null    float64\n",
      " 70  0446606812  131 non-null    float64\n",
      " 71  0446608955  124 non-null    float64\n",
      " 72  0446610038  177 non-null    float64\n",
      " 73  0449212602  111 non-null    float64\n",
      " 74  0452282152  278 non-null    float64\n",
      " 75  0452282829  139 non-null    float64\n",
      " 76  0553279912  102 non-null    float64\n",
      " 77  0553572997  120 non-null    float64\n",
      " 78  059035342X  313 non-null    float64\n",
      " 79  0671003755  207 non-null    float64\n",
      " 80  0671021001  217 non-null    float64\n",
      " 81  0671027360  269 non-null    float64\n",
      " 82  0671510053  150 non-null    float64\n",
      " 83  067976402X  256 non-null    float64\n",
      " 84  0679781587  333 non-null    float64\n",
      " 85  068484477X  125 non-null    float64\n",
      " 86  0684872153  136 non-null    float64\n",
      " 87  0743237188  127 non-null    float64\n",
      " 88  0743418174  236 non-null    float64\n",
      " 89  0786868716  242 non-null    float64\n",
      " 90  0804106304  194 non-null    float64\n",
      " 91  080410753X  98 non-null     float64\n",
      " 92  0842329129  155 non-null    float64\n",
      " 93  0971880107  581 non-null    float64\n",
      " 94  1400034779  183 non-null    float64\n",
      "dtypes: float64(95)\n",
      "memory usage: 7.8 MB\n",
      "None\n",
      "         0060392452  0060502258  0060928336  0060930535  0060934417  \\\n",
      "User-ID                                                               \n",
      "26              NaN         NaN         NaN         NaN         NaN   \n",
      "51              NaN         NaN         NaN         NaN         NaN   \n",
      "91              NaN         NaN         NaN         NaN         NaN   \n",
      "114             NaN         NaN         NaN         NaN         NaN   \n",
      "165             NaN         NaN         NaN         NaN         NaN   \n",
      "\n",
      "         0060938455  0060976845  0060987103  006101351X  014028009X  ...  \\\n",
      "User-ID                                                              ...   \n",
      "26              NaN         NaN         NaN         NaN         NaN  ...   \n",
      "51              NaN         NaN         NaN         NaN         NaN  ...   \n",
      "91              NaN         NaN         NaN         NaN         NaN  ...   \n",
      "114             NaN         NaN         NaN         NaN         NaN  ...   \n",
      "165             NaN         0.0         NaN         NaN         NaN  ...   \n",
      "\n",
      "         068484477X  0684872153  0743237188  0743418174  0786868716  \\\n",
      "User-ID                                                               \n",
      "26              NaN         NaN         NaN         NaN         NaN   \n",
      "51              NaN         NaN         NaN         NaN         NaN   \n",
      "91              NaN         NaN         NaN         NaN         NaN   \n",
      "114             NaN         NaN         NaN         NaN         NaN   \n",
      "165             NaN         NaN         NaN         NaN         NaN   \n",
      "\n",
      "         0804106304  080410753X  0842329129  0971880107  1400034779  \n",
      "User-ID                                                              \n",
      "26              NaN         NaN         NaN         NaN         NaN  \n",
      "51              NaN         NaN         NaN         NaN         NaN  \n",
      "91              NaN         NaN         NaN         NaN         NaN  \n",
      "114             NaN         NaN         NaN         NaN         NaN  \n",
      "165             NaN         NaN         NaN         NaN         NaN  \n",
      "\n",
      "[5 rows x 95 columns]\n"
     ]
    }
   ],
   "source": [
    "user_book_withna = pd.read_csv(os.path.join(INPUT_DIR, 'user-book_matrix_normalized_withna.csv'), index_col=0)\n",
    "print(user_book_withna.info())\n",
    "print(user_book_withna.head())"
   ]
  },
  {
   "cell_type": "code",
   "execution_count": 124,
   "id": "6ff670df",
   "metadata": {
    "execution": {
     "iopub.execute_input": "2022-10-25T10:55:40.632709Z",
     "iopub.status.busy": "2022-10-25T10:55:40.631911Z",
     "iopub.status.idle": "2022-10-25T10:55:40.692730Z",
     "shell.execute_reply": "2022-10-25T10:55:40.689387Z"
    },
    "papermill": {
     "duration": 0.076029,
     "end_time": "2022-10-25T10:55:40.695611",
     "exception": false,
     "start_time": "2022-10-25T10:55:40.619582",
     "status": "completed"
    },
    "tags": []
   },
   "outputs": [
    {
     "name": "stdout",
     "output_type": "stream",
     "text": [
      "<class 'pandas.core.frame.DataFrame'>\n",
      "Int64Index: 10637 entries, 26 to 278844\n",
      "Data columns (total 95 columns):\n",
      " #   Column      Non-Null Count  Dtype  \n",
      "---  ------      --------------  -----  \n",
      " 0   0060392452  10637 non-null  float64\n",
      " 1   0060502258  10637 non-null  float64\n",
      " 2   0060928336  10637 non-null  float64\n",
      " 3   0060930535  10637 non-null  float64\n",
      " 4   0060934417  10637 non-null  float64\n",
      " 5   0060938455  10637 non-null  float64\n",
      " 6   0060976845  10637 non-null  float64\n",
      " 7   0060987103  10637 non-null  float64\n",
      " 8   006101351X  10637 non-null  float64\n",
      " 9   014028009X  10637 non-null  float64\n",
      " 10  0140293248  10637 non-null  float64\n",
      " 11  0142000205  10637 non-null  float64\n",
      " 12  0142001740  10637 non-null  float64\n",
      " 13  0312195516  10637 non-null  float64\n",
      " 14  0312278586  10637 non-null  float64\n",
      " 15  0312291639  10637 non-null  float64\n",
      " 16  0312305060  10637 non-null  float64\n",
      " 17  0316096199  10637 non-null  float64\n",
      " 18  0316284955  10637 non-null  float64\n",
      " 19  0316601950  10637 non-null  float64\n",
      " 20  0316666343  10637 non-null  float64\n",
      " 21  0316769487  10637 non-null  float64\n",
      " 22  0316776963  10637 non-null  float64\n",
      " 23  0345313860  10637 non-null  float64\n",
      " 24  0345337662  10637 non-null  float64\n",
      " 25  0345339681  10637 non-null  float64\n",
      " 26  0345342968  10637 non-null  float64\n",
      " 27  0345351525  10637 non-null  float64\n",
      " 28  0345353145  10637 non-null  float64\n",
      " 29  0345361792  10637 non-null  float64\n",
      " 30  0345370775  10637 non-null  float64\n",
      " 31  0345378490  10637 non-null  float64\n",
      " 32  0345417623  10637 non-null  float64\n",
      " 33  0345443284  10637 non-null  float64\n",
      " 34  0375700757  10637 non-null  float64\n",
      " 35  0375706771  10637 non-null  float64\n",
      " 36  0375707972  10637 non-null  float64\n",
      " 37  0375725784  10637 non-null  float64\n",
      " 38  0375726403  10637 non-null  float64\n",
      " 39  0375727345  10637 non-null  float64\n",
      " 40  0380731851  10637 non-null  float64\n",
      " 41  0380789035  10637 non-null  float64\n",
      " 42  0385265700  10637 non-null  float64\n",
      " 43  0385335482  10637 non-null  float64\n",
      " 44  0385484518  10637 non-null  float64\n",
      " 45  0385492081  10637 non-null  float64\n",
      " 46  0385504209  10637 non-null  float64\n",
      " 47  0385720106  10637 non-null  float64\n",
      " 48  0385722206  10637 non-null  float64\n",
      " 49  043935806X  10637 non-null  float64\n",
      " 50  044021145X  10637 non-null  float64\n",
      " 51  0440211727  10637 non-null  float64\n",
      " 52  0440213525  10637 non-null  float64\n",
      " 53  0440214041  10637 non-null  float64\n",
      " 54  0440220602  10637 non-null  float64\n",
      " 55  0440221471  10637 non-null  float64\n",
      " 56  044022165X  10637 non-null  float64\n",
      " 57  0440222656  10637 non-null  float64\n",
      " 58  0440224675  10637 non-null  float64\n",
      " 59  0440224764  10637 non-null  float64\n",
      " 60  0440225701  10637 non-null  float64\n",
      " 61  0440226430  10637 non-null  float64\n",
      " 62  0440234743  10637 non-null  float64\n",
      " 63  0440236673  10637 non-null  float64\n",
      " 64  044023722X  10637 non-null  float64\n",
      " 65  0440241073  10637 non-null  float64\n",
      " 66  0446310786  10637 non-null  float64\n",
      " 67  0446364193  10637 non-null  float64\n",
      " 68  044651652X  10637 non-null  float64\n",
      " 69  0446605239  10637 non-null  float64\n",
      " 70  0446606812  10637 non-null  float64\n",
      " 71  0446608955  10637 non-null  float64\n",
      " 72  0446610038  10637 non-null  float64\n",
      " 73  0449212602  10637 non-null  float64\n",
      " 74  0452282152  10637 non-null  float64\n",
      " 75  0452282829  10637 non-null  float64\n",
      " 76  0553279912  10637 non-null  float64\n",
      " 77  0553572997  10637 non-null  float64\n",
      " 78  059035342X  10637 non-null  float64\n",
      " 79  0671003755  10637 non-null  float64\n",
      " 80  0671021001  10637 non-null  float64\n",
      " 81  0671027360  10637 non-null  float64\n",
      " 82  0671510053  10637 non-null  float64\n",
      " 83  067976402X  10637 non-null  float64\n",
      " 84  0679781587  10637 non-null  float64\n",
      " 85  068484477X  10637 non-null  float64\n",
      " 86  0684872153  10637 non-null  float64\n",
      " 87  0743237188  10637 non-null  float64\n",
      " 88  0743418174  10637 non-null  float64\n",
      " 89  0786868716  10637 non-null  float64\n",
      " 90  0804106304  10637 non-null  float64\n",
      " 91  080410753X  10637 non-null  float64\n",
      " 92  0842329129  10637 non-null  float64\n",
      " 93  0971880107  10637 non-null  float64\n",
      " 94  1400034779  10637 non-null  float64\n",
      "dtypes: float64(95)\n",
      "memory usage: 7.8 MB\n",
      "None\n",
      "         0060392452  0060502258  0060928336  0060930535  0060934417  \\\n",
      "User-ID                                                               \n",
      "26              0.0         0.0         0.0         0.0         0.0   \n",
      "51              0.0         0.0         0.0         0.0         0.0   \n",
      "91              0.0         0.0         0.0         0.0         0.0   \n",
      "114             0.0         0.0         0.0         0.0         0.0   \n",
      "165             0.0         0.0         0.0         0.0         0.0   \n",
      "\n",
      "         0060938455  0060976845  0060987103  006101351X  014028009X  ...  \\\n",
      "User-ID                                                              ...   \n",
      "26              0.0         0.0         0.0         0.0         0.0  ...   \n",
      "51              0.0         0.0         0.0         0.0         0.0  ...   \n",
      "91              0.0         0.0         0.0         0.0         0.0  ...   \n",
      "114             0.0         0.0         0.0         0.0         0.0  ...   \n",
      "165             0.0         0.0         0.0         0.0         0.0  ...   \n",
      "\n",
      "         068484477X  0684872153  0743237188  0743418174  0786868716  \\\n",
      "User-ID                                                               \n",
      "26              0.0         0.0         0.0         0.0         0.0   \n",
      "51              0.0         0.0         0.0         0.0         0.0   \n",
      "91              0.0         0.0         0.0         0.0         0.0   \n",
      "114             0.0         0.0         0.0         0.0         0.0   \n",
      "165             0.0         0.0         0.0         0.0         0.0   \n",
      "\n",
      "         0804106304  080410753X  0842329129  0971880107  1400034779  \n",
      "User-ID                                                              \n",
      "26              0.0         0.0         0.0         0.0         0.0  \n",
      "51              0.0         0.0         0.0         0.0         0.0  \n",
      "91              0.0         0.0         0.0         0.0         0.0  \n",
      "114             0.0         0.0         0.0         0.0         0.0  \n",
      "165             0.0         0.0         0.0         0.0         0.0  \n",
      "\n",
      "[5 rows x 95 columns]\n"
     ]
    }
   ],
   "source": [
    "user_book_normalized = pd.read_csv(os.path.join(INPUT_DIR, 'normalized_user-book_matrix.csv'), index_col=0)\n",
    "print(user_book_normalized.info())\n",
    "print(user_book_normalized.head())"
   ]
  },
  {
   "cell_type": "markdown",
   "id": "64d3bf58",
   "metadata": {},
   "source": [
    "We also load the average rating for each user."
   ]
  },
  {
   "cell_type": "code",
   "execution_count": 125,
   "id": "b08672c2",
   "metadata": {
    "execution": {
     "iopub.execute_input": "2022-10-25T10:55:40.739181Z",
     "iopub.status.busy": "2022-10-25T10:55:40.738760Z",
     "iopub.status.idle": "2022-10-25T10:55:40.769887Z",
     "shell.execute_reply": "2022-10-25T10:55:40.768415Z"
    },
    "papermill": {
     "duration": 0.045769,
     "end_time": "2022-10-25T10:55:40.773000",
     "exception": false,
     "start_time": "2022-10-25T10:55:40.727231",
     "status": "completed"
    },
    "tags": []
   },
   "outputs": [
    {
     "name": "stdout",
     "output_type": "stream",
     "text": [
      "User-ID\n",
      "26        10.000000\n",
      "51         9.000000\n",
      "91         9.000000\n",
      "114       10.000000\n",
      "165        9.000000\n",
      "            ...    \n",
      "278755     1.000000\n",
      "278773     8.000000\n",
      "278798     7.000000\n",
      "278843     8.333333\n",
      "278844     7.000000\n",
      "Name: 0, Length: 10637, dtype: float64\n"
     ]
    }
   ],
   "source": [
    "user_average_ratings = pd.read_csv(os.path.join(INPUT_DIR, 'average_ratings_by_user.csv'), index_col=0)\n",
    "user_average_ratings = user_average_ratings.squeeze()\n",
    "print(user_average_ratings)"
   ]
  },
  {
   "cell_type": "markdown",
   "id": "9ec1b010",
   "metadata": {
    "papermill": {
     "duration": 0.01014,
     "end_time": "2022-10-25T10:55:40.857427",
     "exception": false,
     "start_time": "2022-10-25T10:55:40.847287",
     "status": "completed"
    },
    "tags": []
   },
   "source": [
    "We will look at both item-based recommendations and user-based. \n",
    "\n",
    "The item-based recommendations don't change much over time (the individual user might start liking other things, but if two books used to appeal to people simultaneously, they will most probably continue to do so). The other advantage is that the books are added to the database much rarer than users, so this kind of recommendations can be pre-calculated. \n",
    "\n",
    "A disadvantage is that we will probably give very obvious suggestions, such that \"If you liked Harry Potter and the Philosopher's Stone, you might like Harry Potter and Chamber of Secrets\"."
   ]
  },
  {
   "cell_type": "markdown",
   "id": "71ed67c7",
   "metadata": {
    "papermill": {
     "duration": 0.010239,
     "end_time": "2022-10-25T10:55:40.877870",
     "exception": false,
     "start_time": "2022-10-25T10:55:40.867631",
     "status": "completed"
    },
    "tags": []
   },
   "source": [
    "To give item-based recommendations, we transpose the matrix we have for convenience."
   ]
  },
  {
   "cell_type": "code",
   "execution_count": 126,
   "id": "bf6805e5",
   "metadata": {
    "execution": {
     "iopub.execute_input": "2022-10-25T10:55:40.900979Z",
     "iopub.status.busy": "2022-10-25T10:55:40.900554Z",
     "iopub.status.idle": "2022-10-25T10:55:40.924104Z",
     "shell.execute_reply": "2022-10-25T10:55:40.922077Z"
    },
    "papermill": {
     "duration": 0.038126,
     "end_time": "2022-10-25T10:55:40.926803",
     "exception": false,
     "start_time": "2022-10-25T10:55:40.888677",
     "status": "completed"
    },
    "tags": []
   },
   "outputs": [
    {
     "name": "stdout",
     "output_type": "stream",
     "text": [
      "User-ID     26      51      91      114     165     243     244     254     \\\n",
      "0060392452     0.0     0.0     0.0     0.0     0.0     0.0     0.0     0.0   \n",
      "0060502258     0.0     0.0     0.0     0.0     0.0     0.0     0.0     0.0   \n",
      "0060928336     0.0     0.0     0.0     0.0     0.0     0.0     0.0     0.0   \n",
      "0060930535     0.0     0.0     0.0     0.0     0.0     0.0     0.0     0.0   \n",
      "0060934417     0.0     0.0     0.0     0.0     0.0     0.0     0.0     0.0   \n",
      "\n",
      "User-ID     256     280     ...  278582  278586  278633  278653  278698  \\\n",
      "0060392452     0.0     0.0  ...     0.0     0.0     0.0     0.0     0.0   \n",
      "0060502258     0.0     0.0  ...     0.0     0.0     0.0     0.0     0.0   \n",
      "0060928336     0.0     0.0  ...     0.0     0.0     0.0     0.0     0.0   \n",
      "0060930535     0.0     0.0  ...     0.0     0.0     0.0     0.0     0.0   \n",
      "0060934417     0.0     0.0  ...     0.0     0.0     0.0     0.0     0.0   \n",
      "\n",
      "User-ID     278755  278773  278798  278843  278844  \n",
      "0060392452     0.0     0.0     0.0     0.0     0.0  \n",
      "0060502258     0.0     0.0     0.0     0.0     0.0  \n",
      "0060928336     0.0     0.0     0.0     0.0     0.0  \n",
      "0060930535     0.0     0.0     0.0     0.0     0.0  \n",
      "0060934417     0.0     0.0     0.0     0.0     0.0  \n",
      "\n",
      "[5 rows x 10637 columns]\n"
     ]
    }
   ],
   "source": [
    "book_user_normalized = user_book_normalized.T\n",
    "print(book_user_normalized.head())"
   ]
  },
  {
   "cell_type": "markdown",
   "id": "c3aae3c6",
   "metadata": {
    "papermill": {
     "duration": 0.00996,
     "end_time": "2022-10-25T10:55:40.947176",
     "exception": false,
     "start_time": "2022-10-25T10:55:40.937216",
     "status": "completed"
    },
    "tags": []
   },
   "source": [
    "Now we count pairwise cosine similarities for books."
   ]
  },
  {
   "cell_type": "code",
   "execution_count": 127,
   "id": "6b72f6cb",
   "metadata": {
    "execution": {
     "iopub.execute_input": "2022-10-25T10:55:40.970002Z",
     "iopub.status.busy": "2022-10-25T10:55:40.969235Z",
     "iopub.status.idle": "2022-10-25T10:55:42.319376Z",
     "shell.execute_reply": "2022-10-25T10:55:42.317990Z"
    },
    "papermill": {
     "duration": 1.364853,
     "end_time": "2022-10-25T10:55:42.322287",
     "exception": false,
     "start_time": "2022-10-25T10:55:40.957434",
     "status": "completed"
    },
    "tags": []
   },
   "outputs": [
    {
     "name": "stdout",
     "output_type": "stream",
     "text": [
      "            0060392452  0060502258  0060928336  0060930535  0060934417  \\\n",
      "0060392452    1.000000   -0.004525    0.002793   -0.065613    0.009068   \n",
      "0060502258   -0.004525    1.000000    0.003011    0.005591   -0.048528   \n",
      "0060928336    0.002793    0.003011    1.000000   -0.008091   -0.005145   \n",
      "0060930535   -0.065613    0.005591   -0.008091    1.000000   -0.012554   \n",
      "0060934417    0.009068   -0.048528   -0.005145   -0.012554    1.000000   \n",
      "\n",
      "            0060938455  0060976845  0060987103  006101351X  014028009X  ...  \\\n",
      "0060392452    0.049843   -0.026154    0.005337    0.000000   -0.011627  ...   \n",
      "0060502258   -0.045683   -0.089122    0.008107    0.003911    0.005387  ...   \n",
      "0060928336   -0.005016   -0.000799   -0.013364   -0.000834   -0.043738  ...   \n",
      "0060930535   -0.033716   -0.043934   -0.012240    0.014658   -0.026438  ...   \n",
      "0060934417    0.010694   -0.065469    0.008616   -0.001533   -0.007323  ...   \n",
      "\n",
      "            068484477X  0684872153  0743237188  0743418174  0786868716  \\\n",
      "0060392452   -0.018317   -0.006290    0.021348   -0.010869   -0.028446   \n",
      "0060502258   -0.028680    0.002511   -0.005103   -0.023643   -0.012806   \n",
      "0060928336   -0.005399   -0.012133   -0.011776    0.003990   -0.036055   \n",
      "0060930535    0.030524   -0.003743   -0.023274   -0.004072   -0.019405   \n",
      "0060934417    0.001676   -0.083801   -0.037255   -0.037430   -0.005765   \n",
      "\n",
      "            0804106304  080410753X  0842329129  0971880107  1400034779  \n",
      "0060392452   -0.043513   -0.022053   -0.062446   -0.002189    0.023251  \n",
      "0060502258   -0.032490    0.004962   -0.010585   -0.013594    0.016667  \n",
      "0060928336   -0.035739    0.006229   -0.013745   -0.051101    0.020880  \n",
      "0060930535    0.004994    0.008701   -0.043215   -0.033735    0.005560  \n",
      "0060934417    0.023604    0.002148   -0.010652   -0.005083    0.006678  \n",
      "\n",
      "[5 rows x 95 columns]\n"
     ]
    }
   ],
   "source": [
    "from sklearn.metrics.pairwise import cosine_similarity\n",
    "similarities = cosine_similarity(book_user_normalized)\n",
    "cosine_similarity_df = pd.DataFrame(similarities,\n",
    "                                    index=book_user_normalized.index,\n",
    "                                    columns=book_user_normalized.index)\n",
    "print(cosine_similarity_df.head())"
   ]
  },
  {
   "cell_type": "markdown",
   "id": "fdd92bbf",
   "metadata": {
    "papermill": {
     "duration": 0.010951,
     "end_time": "2022-10-25T10:55:42.344103",
     "exception": false,
     "start_time": "2022-10-25T10:55:42.333152",
     "status": "completed"
    },
    "tags": []
   },
   "source": [
    "It would be nice to check if the similarities we computed make any sense. Let us load the book information."
   ]
  },
  {
   "cell_type": "code",
   "execution_count": 128,
   "id": "15efeff4",
   "metadata": {
    "execution": {
     "iopub.execute_input": "2022-10-25T10:55:42.368210Z",
     "iopub.status.busy": "2022-10-25T10:55:42.367815Z",
     "iopub.status.idle": "2022-10-25T10:55:42.392332Z",
     "shell.execute_reply": "2022-10-25T10:55:42.390897Z"
    },
    "papermill": {
     "duration": 0.040576,
     "end_time": "2022-10-25T10:55:42.395632",
     "exception": false,
     "start_time": "2022-10-25T10:55:42.355056",
     "status": "completed"
    },
    "tags": []
   },
   "outputs": [
    {
     "name": "stdout",
     "output_type": "stream",
     "text": [
      "<class 'pandas.core.frame.DataFrame'>\n",
      "RangeIndex: 95 entries, 0 to 94\n",
      "Data columns (total 4 columns):\n",
      " #   Column       Non-Null Count  Dtype \n",
      "---  ------       --------------  ----- \n",
      " 0   title        95 non-null     object\n",
      " 1   authors      95 non-null     object\n",
      " 2   description  95 non-null     object\n",
      " 3   ISBN         95 non-null     object\n",
      "dtypes: object(4)\n",
      "memory usage: 3.1+ KB\n",
      "None\n",
      "                                              title            authors  \\\n",
      "0                                       Wild Animus   ['Rich Shapero']   \n",
      "1                                  The Lovely Bones   ['Alice Sebold']   \n",
      "2                                 The Da Vinci Code      ['Dan Brown']   \n",
      "3  Divine secrets of the Ya-Ya Sisterhood : a novel  ['Rebecca Wells']   \n",
      "4                                      The Red Tent  ['Anita Diamant']   \n",
      "\n",
      "                                         description        ISBN  \n",
      "0  Wild animus is a search for the primordial, a ...  0971880107  \n",
      "1  The spirit of fourteen-year-old Susie Salmon d...  0316666343  \n",
      "2  Harvard symbologist Robert Langdon and French ...  0385504209  \n",
      "3  A NOVEL ABOUT THE COMPLEX BONDS BETWEEN A MOTH...  0060928336  \n",
      "4  Her name is Dinah. In the Bible, her life is o...  0312195516  \n"
     ]
    }
   ],
   "source": [
    "books_df = pd.read_csv(os.path.join(INPUT_DIR, 'popular_books_with_descriptions.csv'))\n",
    "print(books_df.info())\n",
    "print(books_df.head())"
   ]
  },
  {
   "cell_type": "markdown",
   "id": "13999356",
   "metadata": {
    "papermill": {
     "duration": 0.010304,
     "end_time": "2022-10-25T10:55:42.416682",
     "exception": false,
     "start_time": "2022-10-25T10:55:42.406378",
     "status": "completed"
    },
    "tags": []
   },
   "source": [
    "We will index the books by ISBN for convenience."
   ]
  },
  {
   "cell_type": "code",
   "execution_count": 129,
   "id": "e2ea2a80",
   "metadata": {
    "execution": {
     "iopub.execute_input": "2022-10-25T10:55:42.440247Z",
     "iopub.status.busy": "2022-10-25T10:55:42.439528Z",
     "iopub.status.idle": "2022-10-25T10:55:42.451478Z",
     "shell.execute_reply": "2022-10-25T10:55:42.450105Z"
    },
    "papermill": {
     "duration": 0.027236,
     "end_time": "2022-10-25T10:55:42.454606",
     "exception": false,
     "start_time": "2022-10-25T10:55:42.427370",
     "status": "completed"
    },
    "tags": []
   },
   "outputs": [
    {
     "name": "stdout",
     "output_type": "stream",
     "text": [
      "                                                       title  \\\n",
      "ISBN                                                           \n",
      "0971880107                                       Wild Animus   \n",
      "0316666343                                  The Lovely Bones   \n",
      "0385504209                                 The Da Vinci Code   \n",
      "0060928336  Divine secrets of the Ya-Ya Sisterhood : a novel   \n",
      "0312195516                                      The Red Tent   \n",
      "...                                                      ...   \n",
      "0142000205                                        Icy Sparks   \n",
      "0449212602                               The Handmaid's Tale   \n",
      "080410753X                            The Kitchen God's Wife   \n",
      "0345351525                           The Queen of the Damned   \n",
      "014028009X                             Bridget Jones's Diary   \n",
      "\n",
      "                         authors  \\\n",
      "ISBN                               \n",
      "0971880107      ['Rich Shapero']   \n",
      "0316666343      ['Alice Sebold']   \n",
      "0385504209         ['Dan Brown']   \n",
      "0060928336     ['Rebecca Wells']   \n",
      "0312195516     ['Anita Diamant']   \n",
      "...                          ...   \n",
      "0142000205  ['Gwyn Hyman Rubio']   \n",
      "0449212602   ['Margaret Atwood']   \n",
      "080410753X           ['Amy Tan']   \n",
      "0345351525         ['Anne Rice']   \n",
      "014028009X    ['Helen Fielding']   \n",
      "\n",
      "                                                  description  \n",
      "ISBN                                                           \n",
      "0971880107  Wild animus is a search for the primordial, a ...  \n",
      "0316666343  The spirit of fourteen-year-old Susie Salmon d...  \n",
      "0385504209  Harvard symbologist Robert Langdon and French ...  \n",
      "0060928336  A NOVEL ABOUT THE COMPLEX BONDS BETWEEN A MOTH...  \n",
      "0312195516  Her name is Dinah. In the Bible, her life is o...  \n",
      "...                                                       ...  \n",
      "0142000205  A New York Times Notable Book and the March 20...  \n",
      "0449212602  \"Splendid.\" NEWSWEEK It is the world of the ne...  \n",
      "080410753X  A Chinese immigrant convinced she is dying thr...  \n",
      "0345351525  The sequel to The Vampire Lestat intertwines t...  \n",
      "014028009X  USA Today's top 100 books to read while stuck ...  \n",
      "\n",
      "[95 rows x 3 columns]\n"
     ]
    }
   ],
   "source": [
    "books_df = books_df.set_index('ISBN')\n",
    "print(books_df)"
   ]
  },
  {
   "cell_type": "markdown",
   "id": "1d078046",
   "metadata": {
    "papermill": {
     "duration": 0.011009,
     "end_time": "2022-10-25T10:55:42.476873",
     "exception": false,
     "start_time": "2022-10-25T10:55:42.465864",
     "status": "completed"
    },
    "tags": []
   },
   "source": [
    "Let us find books that are most similar to Harry Potter and the Philosopher's Stone, which has ISBN 059035342X."
   ]
  },
  {
   "cell_type": "code",
   "execution_count": 130,
   "id": "8c757203",
   "metadata": {
    "execution": {
     "iopub.execute_input": "2022-10-25T10:55:42.501084Z",
     "iopub.status.busy": "2022-10-25T10:55:42.500234Z",
     "iopub.status.idle": "2022-10-25T10:55:42.513490Z",
     "shell.execute_reply": "2022-10-25T10:55:42.511726Z"
    },
    "papermill": {
     "duration": 0.029307,
     "end_time": "2022-10-25T10:55:42.516985",
     "exception": false,
     "start_time": "2022-10-25T10:55:42.487678",
     "status": "completed"
    },
    "tags": []
   },
   "outputs": [
    {
     "name": "stdout",
     "output_type": "stream",
     "text": [
      "059035342X    1.000000\n",
      "0060938455    0.108225\n",
      "0345342968    0.070941\n",
      "0440221471    0.064838\n",
      "0316096199    0.059336\n",
      "0440211727    0.053631\n",
      "0345361792    0.052023\n",
      "0312195516    0.050152\n",
      "0446610038    0.026487\n",
      "0449212602    0.026390\n",
      "Name: 059035342X, dtype: float64\n",
      "                                            title              authors  \\\n",
      "059035342X  Harry Potter and the Sorcerer's Stone    ['J. K. Rowling']   \n",
      "0060938455                       Fast Food Nation   ['Eric Schlosser']   \n",
      "0345342968                         Fahrenheit 451     ['Ray Bradbury']   \n",
      "0440221471                       The Runaway Jury     ['John Grisham']   \n",
      "0316096199                                  Lucky     ['Alice Sebold']   \n",
      "0440211727                         A Time to Kill     ['John Grisham']   \n",
      "0345361792                A Prayer for Owen Meany      ['John Irving']   \n",
      "0312195516                           The Red Tent    ['Anita Diamant']   \n",
      "0446610038                             1st to Die  ['James Patterson']   \n",
      "0449212602                    The Handmaid's Tale  ['Margaret Atwood']   \n",
      "\n",
      "                                                  description  \n",
      "059035342X  Rescued from the outrageous neglect of his aun...  \n",
      "0060938455  Explores the homogenization of American societ...  \n",
      "0345342968  A totalitarian regime has ordered all books to...  \n",
      "0440221471  A member of the jury for the century's most ex...  \n",
      "0316096199  In a memoir hailed for its searing candor and ...  \n",
      "0440211727  Following the brutal rape of his ten-year-old ...  \n",
      "0345361792  While playing baseball in the summer of 1953, ...  \n",
      "0312195516  Her name is Dinah. In the Bible, her life is o...  \n",
      "0446610038  Four crime-solving friends face off against a ...  \n",
      "0449212602  \"Splendid.\" NEWSWEEK It is the world of the ne...  \n"
     ]
    }
   ],
   "source": [
    "potter_ISBN = '059035342X'\n",
    "potter_similarities_ordered = cosine_similarity_df.loc[potter_ISBN].sort_values(ascending=False)\n",
    "print(potter_similarities_ordered.head(10))\n",
    "print(books_df.loc[potter_similarities_ordered.index].head(10))"
   ]
  },
  {
   "cell_type": "markdown",
   "id": "3481d2b8",
   "metadata": {
    "papermill": {
     "duration": 0.01082,
     "end_time": "2022-10-25T10:55:42.538919",
     "exception": false,
     "start_time": "2022-10-25T10:55:42.528099",
     "status": "completed"
    },
    "tags": []
   },
   "source": [
    "The result is quite puzzling - out of the top 10 books none is even a kid's book (except for the book itself obviously). It might be that the book we chose is just too popular and is liked by all sorts of people. Let us try our luck with Bridget Jones's Diary, ISBN 014028009X."
   ]
  },
  {
   "cell_type": "code",
   "execution_count": 131,
   "id": "f72427e7",
   "metadata": {
    "execution": {
     "iopub.execute_input": "2022-10-25T10:55:42.563481Z",
     "iopub.status.busy": "2022-10-25T10:55:42.562782Z",
     "iopub.status.idle": "2022-10-25T10:55:42.575760Z",
     "shell.execute_reply": "2022-10-25T10:55:42.574392Z"
    },
    "papermill": {
     "duration": 0.030322,
     "end_time": "2022-10-25T10:55:42.580394",
     "exception": false,
     "start_time": "2022-10-25T10:55:42.550072",
     "status": "completed"
    },
    "tags": []
   },
   "outputs": [
    {
     "name": "stdout",
     "output_type": "stream",
     "text": [
      "014028009X    1.000000\n",
      "0553572997    0.067094\n",
      "0446606812    0.061517\n",
      "0440236673    0.035990\n",
      "0385335482    0.030780\n",
      "0743237188    0.026424\n",
      "044023722X    0.022410\n",
      "006101351X    0.021034\n",
      "0380789035    0.020333\n",
      "0385484518    0.019147\n",
      "Name: 014028009X, dtype: float64\n",
      "                                  title                  authors  \\\n",
      "014028009X        Bridget Jones's Diary       ['Helen Fielding']   \n",
      "0553572997                 The Alienist           ['Caleb Carr']   \n",
      "0446606812          Message in a Bottle      ['Nicholas Sparks']   \n",
      "0440236673                 The Brethren         ['John Grisham']   \n",
      "0385335482  Confessions of a Shopaholic      ['Sophie Kinsella']   \n",
      "0743237188           Fall on your knees  ['Ann-Marie MacDonald']   \n",
      "044023722X              A Painted House         ['John Grisham']   \n",
      "006101351X            The Perfect Storm     ['Sebastian Junger']   \n",
      "0380789035                American Gods          ['Neil Gaiman']   \n",
      "0385484518         Tuesdays with Morrie          ['Mitch Albom']   \n",
      "\n",
      "                                                  description  \n",
      "014028009X  USA Today's top 100 books to read while stuck ...  \n",
      "0553572997  In 1896 New York, psychologist--or in period t...  \n",
      "0446606812  In this New York Times bestseller, a single mo...  \n",
      "0440236673  In a federal prison, three former judges who c...  \n",
      "0385335482  From the #1 New York Times bestselling author ...  \n",
      "0743237188  Spanning five generations and moving from Cape...  \n",
      "044023722X  Racial tension, a forbidden love affair, and m...  \n",
      "006101351X  October 1991. It was \"the perfect storm\"--a te...  \n",
      "0380789035  Shadow is a man with a past. But now he wants ...  \n",
      "0385484518  A sportswriter conveys the wisdom of his late ...  \n"
     ]
    }
   ],
   "source": [
    "bridget_ISBN = '014028009X'\n",
    "bridget_similarities_ordered = cosine_similarity_df.loc[bridget_ISBN].sort_values(ascending=False)\n",
    "print(bridget_similarities_ordered.head(10))\n",
    "print(books_df.loc[bridget_similarities_ordered.index].head(10))"
   ]
  },
  {
   "cell_type": "markdown",
   "id": "51590a5f",
   "metadata": {
    "papermill": {
     "duration": 0.010879,
     "end_time": "2022-10-25T10:55:42.607062",
     "exception": false,
     "start_time": "2022-10-25T10:55:42.596183",
     "status": "completed"
    },
    "tags": []
   },
   "source": [
    "Here at least some books in the top recommendations seems to be appealing to working women in their 30s which is the case for Bridget Jones's Diary. To be fair, all the similarities we get are pretty small, both for the Harry Potter book and for Bridget Jones's Diary. "
   ]
  },
  {
   "cell_type": "markdown",
   "id": "01523a88",
   "metadata": {
    "papermill": {
     "duration": 0.011276,
     "end_time": "2022-10-25T10:55:42.633886",
     "exception": false,
     "start_time": "2022-10-25T10:55:42.622610",
     "status": "completed"
    },
    "tags": []
   },
   "source": [
    "Let us also compute the user-user similarity matrix."
   ]
  },
  {
   "cell_type": "code",
   "execution_count": 132,
   "id": "bb529692",
   "metadata": {
    "execution": {
     "iopub.execute_input": "2022-10-25T10:55:42.659975Z",
     "iopub.status.busy": "2022-10-25T10:55:42.658744Z",
     "iopub.status.idle": "2022-10-25T10:55:43.504884Z",
     "shell.execute_reply": "2022-10-25T10:55:43.503603Z"
    },
    "papermill": {
     "duration": 0.862997,
     "end_time": "2022-10-25T10:55:43.508193",
     "exception": false,
     "start_time": "2022-10-25T10:55:42.645196",
     "status": "completed"
    },
    "tags": []
   },
   "outputs": [
    {
     "name": "stdout",
     "output_type": "stream",
     "text": [
      "User-ID  26      51      91      114     165     243     244     254     \\\n",
      "User-ID                                                                   \n",
      "26          0.0     0.0     0.0     0.0     0.0     0.0     0.0     0.0   \n",
      "51          0.0     0.0     0.0     0.0     0.0     0.0     0.0     0.0   \n",
      "91          0.0     0.0     0.0     0.0     0.0     0.0     0.0     0.0   \n",
      "114         0.0     0.0     0.0     0.0     0.0     0.0     0.0     0.0   \n",
      "165         0.0     0.0     0.0     0.0     0.0     0.0     0.0     0.0   \n",
      "\n",
      "User-ID  256     280     ...  278582  278586  278633  278653  278698  278755  \\\n",
      "User-ID                  ...                                                   \n",
      "26          0.0     0.0  ...     0.0     0.0     0.0     0.0     0.0     0.0   \n",
      "51          0.0     0.0  ...     0.0     0.0     0.0     0.0     0.0     0.0   \n",
      "91          0.0     0.0  ...     0.0     0.0     0.0     0.0     0.0     0.0   \n",
      "114         0.0     0.0  ...     0.0     0.0     0.0     0.0     0.0     0.0   \n",
      "165         0.0     0.0  ...     0.0     0.0     0.0     0.0     0.0     0.0   \n",
      "\n",
      "User-ID  278773  278798  278843  278844  \n",
      "User-ID                                  \n",
      "26          0.0     0.0     0.0     0.0  \n",
      "51          0.0     0.0     0.0     0.0  \n",
      "91          0.0     0.0     0.0     0.0  \n",
      "114         0.0     0.0     0.0     0.0  \n",
      "165         0.0     0.0     0.0     0.0  \n",
      "\n",
      "[5 rows x 10637 columns]\n"
     ]
    }
   ],
   "source": [
    "user_similarities = cosine_similarity(user_book_normalized)\n",
    "user_similarities_df = pd.DataFrame(user_similarities,\n",
    "                                    index=user_book_normalized.index,\n",
    "                                    columns=user_book_normalized.index)\n",
    "print(user_similarities_df.head())"
   ]
  },
  {
   "cell_type": "markdown",
   "id": "b23530ff",
   "metadata": {
    "papermill": {
     "duration": 0.011102,
     "end_time": "2022-10-25T10:55:43.530634",
     "exception": false,
     "start_time": "2022-10-25T10:55:43.519532",
     "status": "completed"
    },
    "tags": []
   },
   "source": [
    "We notice that on the diagonal we are not getting 1.0 as we should. It seems there is an issue in sklearn with cosine similarities for the high amount of features (see https://github.com/scikit-learn/scikit-learn/issues/21939). We will use instead the distances and then compute similarity as 1-distance. "
   ]
  },
  {
   "cell_type": "code",
   "execution_count": 133,
   "id": "e4dda54e",
   "metadata": {
    "execution": {
     "iopub.execute_input": "2022-10-25T10:55:43.556396Z",
     "iopub.status.busy": "2022-10-25T10:55:43.554869Z",
     "iopub.status.idle": "2022-10-25T10:55:44.992019Z",
     "shell.execute_reply": "2022-10-25T10:55:44.990750Z"
    },
    "papermill": {
     "duration": 1.453714,
     "end_time": "2022-10-25T10:55:44.995570",
     "exception": false,
     "start_time": "2022-10-25T10:55:43.541856",
     "status": "completed"
    },
    "tags": []
   },
   "outputs": [
    {
     "name": "stdout",
     "output_type": "stream",
     "text": [
      "User-ID  26      51      91      114     165     243     244     254     \\\n",
      "User-ID                                                                   \n",
      "26          1.0     0.0     0.0     0.0     0.0     0.0     0.0     0.0   \n",
      "51          0.0     1.0     0.0     0.0     0.0     0.0     0.0     0.0   \n",
      "91          0.0     0.0     1.0     0.0     0.0     0.0     0.0     0.0   \n",
      "114         0.0     0.0     0.0     1.0     0.0     0.0     0.0     0.0   \n",
      "165         0.0     0.0     0.0     0.0     1.0     0.0     0.0     0.0   \n",
      "\n",
      "User-ID  256     280     ...  278582  278586  278633  278653  278698  278755  \\\n",
      "User-ID                  ...                                                   \n",
      "26          0.0     0.0  ...     0.0     0.0     0.0     0.0     0.0     0.0   \n",
      "51          0.0     0.0  ...     0.0     0.0     0.0     0.0     0.0     0.0   \n",
      "91          0.0     0.0  ...     0.0     0.0     0.0     0.0     0.0     0.0   \n",
      "114         0.0     0.0  ...     0.0     0.0     0.0     0.0     0.0     0.0   \n",
      "165         0.0     0.0  ...     0.0     0.0     0.0     0.0     0.0     0.0   \n",
      "\n",
      "User-ID  278773  278798  278843  278844  \n",
      "User-ID                                  \n",
      "26          0.0     0.0     0.0     0.0  \n",
      "51          0.0     0.0     0.0     0.0  \n",
      "91          0.0     0.0     0.0     0.0  \n",
      "114         0.0     0.0     0.0     0.0  \n",
      "165         0.0     0.0     0.0     0.0  \n",
      "\n",
      "[5 rows x 10637 columns]\n"
     ]
    }
   ],
   "source": [
    "from sklearn.metrics import pairwise_distances\n",
    "user_similarities = 1-pairwise_distances(user_book_normalized.values, metric=\"cosine\")\n",
    "user_similarities_df = pd.DataFrame(user_similarities,\n",
    "                                    index=user_book_normalized.index,\n",
    "                                    columns=user_book_normalized.index)\n",
    "print(user_similarities_df.head())"
   ]
  },
  {
   "cell_type": "markdown",
   "id": "a3f40b4e",
   "metadata": {
    "papermill": {
     "duration": 0.010911,
     "end_time": "2022-10-25T10:55:45.018328",
     "exception": false,
     "start_time": "2022-10-25T10:55:45.007417",
     "status": "completed"
    },
    "tags": []
   },
   "source": [
    "It seems that we have a lot of zeroes in our matrix. Let us compute for every user the sum of absolute values of similarities with other users."
   ]
  },
  {
   "cell_type": "code",
   "execution_count": 134,
   "id": "046d63cf",
   "metadata": {
    "execution": {
     "iopub.execute_input": "2022-10-25T10:55:45.043753Z",
     "iopub.status.busy": "2022-10-25T10:55:45.042484Z",
     "iopub.status.idle": "2022-10-25T10:55:45.695282Z",
     "shell.execute_reply": "2022-10-25T10:55:45.693751Z"
    },
    "papermill": {
     "duration": 0.669177,
     "end_time": "2022-10-25T10:55:45.698897",
     "exception": false,
     "start_time": "2022-10-25T10:55:45.029720",
     "status": "completed"
    },
    "tags": []
   },
   "outputs": [
    {
     "name": "stdout",
     "output_type": "stream",
     "text": [
      "User-ID\n",
      "81318     197.111244\n",
      "89602     192.192294\n",
      "164581    190.535953\n",
      "13273     190.238831\n",
      "253005    188.898626\n",
      "271448    188.698244\n",
      "16795     187.407440\n",
      "240567    186.873161\n",
      "86189     186.506445\n",
      "225595    186.041138\n",
      "10560     186.003656\n",
      "144549    185.317548\n",
      "185955    185.317548\n",
      "176916    185.317548\n",
      "28289     185.317548\n",
      "11676     184.558313\n",
      "11224     183.333987\n",
      "229551    181.503115\n",
      "35859     181.394168\n",
      "40299     180.457546\n",
      "dtype: float64\n"
     ]
    }
   ],
   "source": [
    "print(user_similarities_df.abs().sum(axis=1).sort_values(ascending=False).head(20))"
   ]
  },
  {
   "cell_type": "markdown",
   "id": "d3ab1cf4",
   "metadata": {
    "papermill": {
     "duration": 0.011467,
     "end_time": "2022-10-25T10:55:45.722779",
     "exception": false,
     "start_time": "2022-10-25T10:55:45.711312",
     "status": "completed"
    },
    "tags": []
   },
   "source": [
    "So, there are some users which have non-zero similarities with others, that's a relief. Let us take user with the User-ID 35859, who has some 'similar' (or very 'non-similar', as we were looking at the absolute values) users and try to predict which rating this user will give to the books that they have not read."
   ]
  },
  {
   "cell_type": "markdown",
   "id": "42079b25",
   "metadata": {
    "papermill": {
     "duration": 0.010784,
     "end_time": "2022-10-25T10:55:45.744747",
     "exception": false,
     "start_time": "2022-10-25T10:55:45.733963",
     "status": "completed"
    },
    "tags": []
   },
   "source": [
    "First, we check what the user has read. We load ratings dataframe for that."
   ]
  },
  {
   "cell_type": "code",
   "execution_count": 135,
   "id": "941552d8",
   "metadata": {},
   "outputs": [
    {
     "name": "stdout",
     "output_type": "stream",
     "text": [
      "<class 'pandas.core.frame.DataFrame'>\n",
      "RangeIndex: 17837 entries, 0 to 17836\n",
      "Data columns (total 3 columns):\n",
      " #   Column       Non-Null Count  Dtype \n",
      "---  ------       --------------  ----- \n",
      " 0   User-ID      17837 non-null  int64 \n",
      " 1   ISBN         17837 non-null  object\n",
      " 2   Book-Rating  17837 non-null  int64 \n",
      "dtypes: int64(2), object(1)\n",
      "memory usage: 418.2+ KB\n",
      "None\n",
      "   User-ID        ISBN  Book-Rating\n",
      "0   276788  043935806X            7\n",
      "1   276925  0385504209            8\n",
      "2   276953  0446310786           10\n",
      "3   276964  0440220602            9\n",
      "4   277042  0971880107            2\n"
     ]
    }
   ],
   "source": [
    "ratings_df = pd.read_csv(os.path.join(INPUT_DIR, 'ratings_for_popular_books.csv'))\n",
    "print(ratings_df.info())\n",
    "print(ratings_df.head())"
   ]
  },
  {
   "cell_type": "code",
   "execution_count": 136,
   "id": "8a4a0fc1",
   "metadata": {
    "execution": {
     "iopub.execute_input": "2022-10-25T10:55:45.769003Z",
     "iopub.status.busy": "2022-10-25T10:55:45.768592Z",
     "iopub.status.idle": "2022-10-25T10:55:45.773876Z",
     "shell.execute_reply": "2022-10-25T10:55:45.772612Z"
    },
    "papermill": {
     "duration": 0.020776,
     "end_time": "2022-10-25T10:55:45.776561",
     "exception": false,
     "start_time": "2022-10-25T10:55:45.755785",
     "status": "completed"
    },
    "tags": []
   },
   "outputs": [],
   "source": [
    "user = 35859"
   ]
  },
  {
   "cell_type": "code",
   "execution_count": 137,
   "id": "69e12e9b",
   "metadata": {
    "execution": {
     "iopub.execute_input": "2022-10-25T10:55:45.801433Z",
     "iopub.status.busy": "2022-10-25T10:55:45.801025Z",
     "iopub.status.idle": "2022-10-25T10:55:45.811744Z",
     "shell.execute_reply": "2022-10-25T10:55:45.810738Z"
    },
    "papermill": {
     "duration": 0.027058,
     "end_time": "2022-10-25T10:55:45.815195",
     "exception": false,
     "start_time": "2022-10-25T10:55:45.788137",
     "status": "completed"
    },
    "tags": []
   },
   "outputs": [
    {
     "name": "stdout",
     "output_type": "stream",
     "text": [
      "                                               title  \\\n",
      "ISBN                                                   \n",
      "0060502258    Divine Secrets of the Ya-Ya Sisterhood   \n",
      "0060934417                                 Bel Canto   \n",
      "0142001740                   The Secret Life of Bees   \n",
      "0312195516                              The Red Tent   \n",
      "0312278586                         The Nanny Diaries   \n",
      "0316666343                          The Lovely Bones   \n",
      "0345342968                            Fahrenheit 451   \n",
      "0375700757                             Cold Mountain   \n",
      "0375707972                                The Reader   \n",
      "0385722206  Balzac and the Little Chinese Seamstress   \n",
      "044021145X                                  The Firm   \n",
      "0446610038                                1st to Die   \n",
      "059035342X     Harry Potter and the Sorcerer's Stone   \n",
      "068484477X                     Stones from the River   \n",
      "0743418174                               Good in Bed   \n",
      "0804106304                         The Joy Luck Club   \n",
      "0842329129                               Left Behind   \n",
      "\n",
      "                                                      authors  \\\n",
      "ISBN                                                            \n",
      "0060502258                                  ['Rebecca Wells']   \n",
      "0060934417                                   ['Ann Patchett']   \n",
      "0142001740                                  ['Sue Monk Kidd']   \n",
      "0312195516                                  ['Anita Diamant']   \n",
      "0312278586                ['Emma Mclaughlin', 'Nicola Kraus']   \n",
      "0316666343                                   ['Alice Sebold']   \n",
      "0345342968                                   ['Ray Bradbury']   \n",
      "0375700757                                ['Charles Frazier']   \n",
      "0375707972                               ['Bernhard Schlink']   \n",
      "0385722206                                      ['Sijie Dai']   \n",
      "044021145X                                   ['John Grisham']   \n",
      "0446610038                                ['James Patterson']   \n",
      "059035342X                                  ['J. K. Rowling']   \n",
      "068484477X                                    ['Ursula Hegi']   \n",
      "0743418174                                ['Jennifer Weiner']   \n",
      "0804106304                                        ['Amy Tan']   \n",
      "0842329129  ['Tim LaHaye', 'Tim F. LaHaye', 'Jerry B. Jenk...   \n",
      "\n",
      "                                                  description  \n",
      "ISBN                                                           \n",
      "0060502258  SiddaLee has escaped her Louisiana hometown to...  \n",
      "0060934417  When terrorists seize hostages at an embassy p...  \n",
      "0142001740  The multi-million bestselling novel about a yo...  \n",
      "0312195516  Her name is Dinah. In the Bible, her life is o...  \n",
      "0312278586  A satirical glimpse into Manhattan's upper cla...  \n",
      "0316666343  The spirit of fourteen-year-old Susie Salmon d...  \n",
      "0345342968  A totalitarian regime has ordered all books to...  \n",
      "0375700757  Inman, an injured and disillusioned Confederat...  \n",
      "0375707972  At the age of fifteen, Michael Berg falls in l...  \n",
      "0385722206  During the Chinese Cultural Revolution, two bo...  \n",
      "044021145X  Mitch McDeere, a Harvard Law graduate, becomes...  \n",
      "0446610038  Four crime-solving friends face off against a ...  \n",
      "059035342X  Rescued from the outrageous neglect of his aun...  \n",
      "068484477X  From the acclaimed author of Floating in My Mo...  \n",
      "0743418174  Humiliated to discover that her ex-boyfriend h...  \n",
      "0804106304  Encompassing two generations and a rich blend ...  \n",
      "0842329129  After millions of people around the world vani...  \n"
     ]
    }
   ],
   "source": [
    "print(books_df.loc[ratings_df['ISBN'][ratings_df['User-ID']==user]])"
   ]
  },
  {
   "cell_type": "markdown",
   "id": "bff6d8ec",
   "metadata": {
    "papermill": {
     "duration": 0.011899,
     "end_time": "2022-10-25T10:55:45.839437",
     "exception": false,
     "start_time": "2022-10-25T10:55:45.827538",
     "status": "completed"
    },
    "tags": []
   },
   "source": [
    "We would like to predict what rating this user would give to Bridget Jones's Diary. To do that, we will find the closest users (by similarity we computed) who has read this book using KNN algorithm and compute the mean of their ratings."
   ]
  },
  {
   "cell_type": "markdown",
   "id": "276522aa",
   "metadata": {
    "papermill": {
     "duration": 0.011646,
     "end_time": "2022-10-25T10:55:45.862431",
     "exception": false,
     "start_time": "2022-10-25T10:55:45.850785",
     "status": "completed"
    },
    "tags": []
   },
   "source": [
    "First, we create a list of ratings for our target user without the rating for Bridget Jones book."
   ]
  },
  {
   "cell_type": "code",
   "execution_count": 138,
   "id": "b22abe69",
   "metadata": {
    "execution": {
     "iopub.execute_input": "2022-10-25T10:55:45.886972Z",
     "iopub.status.busy": "2022-10-25T10:55:45.886547Z",
     "iopub.status.idle": "2022-10-25T10:55:45.906187Z",
     "shell.execute_reply": "2022-10-25T10:55:45.904865Z"
    },
    "papermill": {
     "duration": 0.035151,
     "end_time": "2022-10-25T10:55:45.908767",
     "exception": false,
     "start_time": "2022-10-25T10:55:45.873616",
     "status": "completed"
    },
    "tags": []
   },
   "outputs": [
    {
     "name": "stdout",
     "output_type": "stream",
     "text": [
      "         0060392452  0060502258  0060928336  0060930535  0060934417  \\\n",
      "User-ID                                                               \n",
      "35859           0.0   -1.294118         0.0         0.0    0.705882   \n",
      "\n",
      "         0060938455  0060976845  0060987103  006101351X  0140293248  ...  \\\n",
      "User-ID                                                              ...   \n",
      "35859           0.0         0.0         0.0         0.0         0.0  ...   \n",
      "\n",
      "         068484477X  0684872153  0743237188  0743418174  0786868716  \\\n",
      "User-ID                                                               \n",
      "35859      1.705882         0.0         0.0   -1.294118         0.0   \n",
      "\n",
      "         0804106304  080410753X  0842329129  0971880107  1400034779  \n",
      "User-ID                                                              \n",
      "35859     -0.294118         0.0    0.705882         0.0         0.0  \n",
      "\n",
      "[1 rows x 94 columns]\n"
     ]
    }
   ],
   "source": [
    "target_user_x = user_book_normalized.drop(bridget_ISBN, axis=1).loc[[user]]\n",
    "print(target_user_x)"
   ]
  },
  {
   "cell_type": "markdown",
   "id": "21db3907",
   "metadata": {
    "papermill": {
     "duration": 0.011044,
     "end_time": "2022-10-25T10:55:45.931240",
     "exception": false,
     "start_time": "2022-10-25T10:55:45.920196",
     "status": "completed"
    },
    "tags": []
   },
   "source": [
    "Then, we take all the other users and create a list of ratings they gave to Bridget Jones book (including NaNs which signify no rating given)."
   ]
  },
  {
   "cell_type": "code",
   "execution_count": 139,
   "id": "239ee68e",
   "metadata": {
    "execution": {
     "iopub.execute_input": "2022-10-25T10:55:45.956771Z",
     "iopub.status.busy": "2022-10-25T10:55:45.955906Z",
     "iopub.status.idle": "2022-10-25T10:55:45.965033Z",
     "shell.execute_reply": "2022-10-25T10:55:45.962913Z"
    },
    "papermill": {
     "duration": 0.024889,
     "end_time": "2022-10-25T10:55:45.967964",
     "exception": false,
     "start_time": "2022-10-25T10:55:45.943075",
     "status": "completed"
    },
    "tags": []
   },
   "outputs": [
    {
     "name": "stdout",
     "output_type": "stream",
     "text": [
      "User-ID\n",
      "26             NaN\n",
      "51             NaN\n",
      "91             NaN\n",
      "114            NaN\n",
      "165            NaN\n",
      "            ...   \n",
      "278755         NaN\n",
      "278773         NaN\n",
      "278798         NaN\n",
      "278843   -0.333333\n",
      "278844         NaN\n",
      "Name: 014028009X, Length: 10637, dtype: float64\n"
     ]
    }
   ],
   "source": [
    "other_users_y = user_book_withna[bridget_ISBN]\n",
    "print(other_users_y)"
   ]
  },
  {
   "cell_type": "markdown",
   "id": "f6ab32a1",
   "metadata": {
    "papermill": {
     "duration": 0.011233,
     "end_time": "2022-10-25T10:55:45.990706",
     "exception": false,
     "start_time": "2022-10-25T10:55:45.979473",
     "status": "completed"
    },
    "tags": []
   },
   "source": [
    "We now get rid of the users that didn't give a rating to our target book."
   ]
  },
  {
   "cell_type": "code",
   "execution_count": 140,
   "id": "60cbcda5",
   "metadata": {
    "execution": {
     "iopub.execute_input": "2022-10-25T10:55:46.018281Z",
     "iopub.status.busy": "2022-10-25T10:55:46.017852Z",
     "iopub.status.idle": "2022-10-25T10:55:46.042347Z",
     "shell.execute_reply": "2022-10-25T10:55:46.040458Z"
    },
    "papermill": {
     "duration": 0.041971,
     "end_time": "2022-10-25T10:55:46.045390",
     "exception": false,
     "start_time": "2022-10-25T10:55:46.003419",
     "status": "completed"
    },
    "tags": []
   },
   "outputs": [
    {
     "name": "stdout",
     "output_type": "stream",
     "text": [
      "         0060392452  0060502258  0060928336  0060930535  0060934417  \\\n",
      "User-ID                                                               \n",
      "4017            0.0    0.000000    0.000000         0.0    0.000000   \n",
      "4228            0.0    0.000000    0.000000         0.0    0.000000   \n",
      "5582            0.0    0.000000    0.000000         0.0    0.000000   \n",
      "6575            0.0    0.695652    0.695652         0.0    1.695652   \n",
      "8067            0.0    0.000000    0.000000         0.0    0.000000   \n",
      "...             ...         ...         ...         ...         ...   \n",
      "269831          0.0    0.000000    0.000000         0.0    0.000000   \n",
      "272573          0.0    0.000000    0.000000         0.0    0.000000   \n",
      "273307          0.0    0.000000    0.000000         0.0    0.000000   \n",
      "278633          0.0    0.000000    0.000000         0.0    0.000000   \n",
      "278843          0.0    0.000000    0.000000         0.0    0.000000   \n",
      "\n",
      "         0060938455  0060976845  0060987103  006101351X  0140293248  ...  \\\n",
      "User-ID                                                              ...   \n",
      "4017            0.0         0.0    0.000000         0.0    0.000000  ...   \n",
      "4228            0.0         0.0    0.000000         0.0    0.000000  ...   \n",
      "5582            0.0         0.0    0.000000         0.0    0.250000  ...   \n",
      "6575            0.0         0.0    1.695652         0.0    0.695652  ...   \n",
      "8067            0.0         0.0    0.000000         0.0    0.000000  ...   \n",
      "...             ...         ...         ...         ...         ...  ...   \n",
      "269831          0.0         0.0    0.000000         0.0    0.000000  ...   \n",
      "272573          0.0         0.0    0.000000        -4.1    0.000000  ...   \n",
      "273307          0.0         0.0    0.000000         0.0    0.000000  ...   \n",
      "278633          0.0         0.0    0.000000         0.0    0.000000  ...   \n",
      "278843          0.0         0.0    0.000000         0.0    0.000000  ...   \n",
      "\n",
      "         068484477X  0684872153  0743237188  0743418174  0786868716  \\\n",
      "User-ID                                                               \n",
      "4017      -4.333333         0.0        0.00         0.0         0.0   \n",
      "4228       0.000000         0.0        0.00         0.0         0.0   \n",
      "5582       0.000000         0.0        0.00         0.0         0.0   \n",
      "6575       0.000000         0.0        0.00         0.0         0.0   \n",
      "8067       0.000000         0.0        0.00         0.0         0.0   \n",
      "...             ...         ...         ...         ...         ...   \n",
      "269831     0.000000         0.0        0.00         0.0         0.0   \n",
      "272573     0.000000         0.0        0.00         0.0         0.0   \n",
      "273307     0.000000         0.0       -2.25         0.0         0.0   \n",
      "278633     0.000000         0.0        0.00         0.0         0.0   \n",
      "278843     0.000000         0.0        0.00         0.0         0.0   \n",
      "\n",
      "         0804106304  080410753X  0842329129  0971880107  1400034779  \n",
      "User-ID                                                              \n",
      "4017       0.000000    0.000000         0.0         0.0    0.000000  \n",
      "4228       0.000000    0.000000         0.0         0.0    0.000000  \n",
      "5582       0.000000    0.000000         0.0         0.0    0.000000  \n",
      "6575       1.695652    0.695652         0.0         0.0    1.695652  \n",
      "8067       0.000000    0.000000         0.0         0.0    0.000000  \n",
      "...             ...         ...         ...         ...         ...  \n",
      "269831     0.000000    0.000000         0.0         0.0    0.000000  \n",
      "272573     0.000000    0.000000         0.0         0.0    0.000000  \n",
      "273307     0.000000    0.000000         0.0         0.0    0.000000  \n",
      "278633     0.000000    0.000000         0.0         0.0    0.000000  \n",
      "278843     0.000000    0.000000         0.0         0.0    0.000000  \n",
      "\n",
      "[131 rows x 94 columns]\n"
     ]
    }
   ],
   "source": [
    "other_users_x = user_book_normalized[other_users_y.notnull()]\n",
    "other_users_x = other_users_x.drop(columns=[bridget_ISBN])\n",
    "print(other_users_x)"
   ]
  },
  {
   "cell_type": "code",
   "execution_count": 141,
   "id": "7ffdf1ff",
   "metadata": {
    "execution": {
     "iopub.execute_input": "2022-10-25T10:55:46.071274Z",
     "iopub.status.busy": "2022-10-25T10:55:46.070328Z",
     "iopub.status.idle": "2022-10-25T10:55:46.079004Z",
     "shell.execute_reply": "2022-10-25T10:55:46.077623Z"
    },
    "papermill": {
     "duration": 0.024285,
     "end_time": "2022-10-25T10:55:46.081581",
     "exception": false,
     "start_time": "2022-10-25T10:55:46.057296",
     "status": "completed"
    },
    "tags": []
   },
   "outputs": [
    {
     "name": "stdout",
     "output_type": "stream",
     "text": [
      "User-ID\n",
      "4017     -0.333333\n",
      "4228     -1.500000\n",
      "5582      1.250000\n",
      "6575     -3.304348\n",
      "8067     -1.500000\n",
      "            ...   \n",
      "269831    0.000000\n",
      "272573   -0.100000\n",
      "273307   -2.250000\n",
      "278633   -5.000000\n",
      "278843   -0.333333\n",
      "Name: 014028009X, Length: 131, dtype: float64\n"
     ]
    }
   ],
   "source": [
    "other_users_y = other_users_y.dropna()\n",
    "print(other_users_y)"
   ]
  },
  {
   "cell_type": "markdown",
   "id": "dfd43d52",
   "metadata": {
    "papermill": {
     "duration": 0.011462,
     "end_time": "2022-10-25T10:55:46.104841",
     "exception": false,
     "start_time": "2022-10-25T10:55:46.093379",
     "status": "completed"
    },
    "tags": []
   },
   "source": [
    "Finally, we are using scikit-learn's KNN regressor to predict the rating that our user would give. Let us not forget that we normalized the ratings for the users, so we need to add the average rating the user gives."
   ]
  },
  {
   "cell_type": "code",
   "execution_count": 145,
   "id": "e28b2182",
   "metadata": {
    "execution": {
     "iopub.execute_input": "2022-10-25T10:55:46.129991Z",
     "iopub.status.busy": "2022-10-25T10:55:46.129581Z",
     "iopub.status.idle": "2022-10-25T10:55:46.311176Z",
     "shell.execute_reply": "2022-10-25T10:55:46.307831Z"
    },
    "papermill": {
     "duration": 0.200387,
     "end_time": "2022-10-25T10:55:46.316829",
     "exception": false,
     "start_time": "2022-10-25T10:55:46.116442",
     "status": "completed"
    },
    "tags": []
   },
   "outputs": [
    {
     "name": "stdout",
     "output_type": "stream",
     "text": [
      "[8.46078431]\n"
     ]
    }
   ],
   "source": [
    "from sklearn.neighbors import KNeighborsRegressor\n",
    "user_knn = KNeighborsRegressor(metric='cosine', n_neighbors=3)\n",
    "user_knn.fit(other_users_x, other_users_y)\n",
    "user_user_pred = user_knn.predict(target_user_x)\n",
    "print(user_user_pred+user_average_ratings.loc[user])"
   ]
  },
  {
   "cell_type": "markdown",
   "id": "c37c8560",
   "metadata": {
    "papermill": {
     "duration": 0.030285,
     "end_time": "2022-10-25T10:55:46.377936",
     "exception": false,
     "start_time": "2022-10-25T10:55:46.347651",
     "status": "completed"
    },
    "tags": []
   },
   "source": [
    "It seems that our algorithm thinks that the target user will like Bridget Jones a lot."
   ]
  },
  {
   "cell_type": "code",
   "execution_count": 146,
   "id": "5f148482",
   "metadata": {
    "execution": {
     "iopub.execute_input": "2022-10-25T10:55:46.433695Z",
     "iopub.status.busy": "2022-10-25T10:55:46.432331Z",
     "iopub.status.idle": "2022-10-25T10:55:46.441848Z",
     "shell.execute_reply": "2022-10-25T10:55:46.440484Z"
    },
    "papermill": {
     "duration": 0.034092,
     "end_time": "2022-10-25T10:55:46.444428",
     "exception": false,
     "start_time": "2022-10-25T10:55:46.410336",
     "status": "completed"
    },
    "tags": []
   },
   "outputs": [],
   "source": [
    "def predict_rating_for_user(target_user, book_ISBN):\n",
    "    \"\"\"Using scikit-learn KNeighborsRegressor with cosine metric, \n",
    "    predicts what rating the user will give to the book\"\"\"\n",
    "    # Create a list of ratings for our target user without the rating for the target book.\n",
    "    target_user_x = user_book_normalized.drop(book_ISBN, axis=1).loc[[target_user]]\n",
    "    \n",
    "    # Take all the other users and create a list of ratings they gave to the book.\n",
    "    # NaNs are included to signify no rating given.\n",
    "    other_users_y = user_book_withna[book_ISBN]\n",
    "    \n",
    "    # Get rid of the users that didn't rate the target book, \n",
    "    # create a dataframe with all the other ratings they gave.\n",
    "    other_users_x = user_book_normalized[other_users_y.notnull()]\n",
    "    other_users_x = other_users_x.drop(columns=[book_ISBN])\n",
    "    other_users_y = other_users_y.dropna()\n",
    "    \n",
    "    # Using scikit-learn's KNN regressor to predict the rating that our user would give.\n",
    "    user_knn = KNeighborsRegressor(metric='cosine', n_neighbors=3)\n",
    "    user_knn.fit(other_users_x, other_users_y)\n",
    "    user_user_pred = user_knn.predict(target_user_x)\n",
    "    \n",
    "    # Return the prediction.\n",
    "    return user_user_pred + user_average_ratings[target_user]"
   ]
  },
  {
   "cell_type": "markdown",
   "id": "ed2456ae",
   "metadata": {
    "papermill": {
     "duration": 0.011562,
     "end_time": "2022-10-25T10:55:46.467948",
     "exception": false,
     "start_time": "2022-10-25T10:55:46.456386",
     "status": "completed"
    },
    "tags": []
   },
   "source": [
    "Let us give predictions for all the books that our user has not rated."
   ]
  },
  {
   "cell_type": "code",
   "execution_count": 147,
   "id": "81b9c41d",
   "metadata": {
    "execution": {
     "iopub.execute_input": "2022-10-25T10:55:46.493732Z",
     "iopub.status.busy": "2022-10-25T10:55:46.493277Z",
     "iopub.status.idle": "2022-10-25T10:55:48.223027Z",
     "shell.execute_reply": "2022-10-25T10:55:48.221347Z"
    },
    "papermill": {
     "duration": 1.748058,
     "end_time": "2022-10-25T10:55:48.227881",
     "exception": false,
     "start_time": "2022-10-25T10:55:46.479823",
     "status": "completed"
    },
    "tags": []
   },
   "outputs": [
    {
     "name": "stdout",
     "output_type": "stream",
     "text": [
      "The predicted rating for Wild Animus is [5.04411765]\n",
      "The predicted rating for The Da Vinci Code is [8.96078431]\n",
      "The predicted rating for Divine secrets of the Ya-Ya Sisterhood : a novel is [8.36078431]\n",
      "The predicted rating for A Painted House is [7.23856209]\n",
      "The predicted rating for Memoirs of a Geisha is [8.96078431]\n",
      "The predicted rating for Snow Falling on Cedars is [9.20840336]\n",
      "The predicted rating for Angels & Demons is [8.19411765]\n",
      "The predicted rating for The Pilot's Wife is [7.70522876]\n",
      "The predicted rating for House of Sand and Fog is [9.07745098]\n",
      "The predicted rating for Girl with a Pearl Earring is [9.29411765]\n",
      "The predicted rating for The Pelican Brief is [7.3496732]\n",
      "The predicted rating for A Time to Kill is [8.79411765]\n",
      "The predicted rating for Interview with the Vampire is [7.23856209]\n",
      "The predicted rating for The Poisonwood Bible is [8.96078431]\n",
      "The predicted rating for Summer Sisters is [9.28856209]\n",
      "The predicted rating for She's Come Undone is [6.06237162]\n",
      "The predicted rating for Jurassic Park is [6.77030812]\n",
      "The predicted rating for The Notebook is [9.69411765]\n",
      "The predicted rating for The Summons is [7.93856209]\n",
      "The predicted rating for She's Come Undone is [9.01633987]\n",
      "The predicted rating for Little Altars Everywhere is [9.12745098]\n",
      "The predicted rating for The No. 1 Ladies' Detective Agency is [8.65522876]\n",
      "The predicted rating for The Five People You Meet in Heaven is [9.12745098]\n",
      "The predicted rating for The Testament is [8.18300654]\n",
      "The predicted rating for The Horse Whisperer is [7.75245098]\n",
      "The predicted rating for The Runaway Jury is [8.6496732]\n",
      "The predicted rating for A Prayer for Owen Meany is [8.77745098]\n",
      "The predicted rating for The Brethren is [8.29411765]\n",
      "The predicted rating for Timeline is [8.62745098]\n",
      "The predicted rating for The Catcher in the Rye is [8.65522876]\n",
      "The predicted rating for Tuesdays with Morrie is [8.79411765]\n",
      "The predicted rating for To Kill a Mockingbird is [8.18300654]\n",
      "The predicted rating for The Rainmaker is [8.06078431]\n",
      "The predicted rating for Midwives is [8.67189542]\n",
      "The predicted rating for The Street Lawyer is [7.88386124]\n",
      "The predicted rating for The Chamber is [7.6496732]\n",
      "The predicted rating for Message in a Bottle is [7.23856209]\n",
      "The predicted rating for Sphere is [8.27275013]\n",
      "The predicted rating for The Bridges of Madison County is [8.04411765]\n",
      "The predicted rating for The Girls' Guide to Hunting and Fishing is [7.81395892]\n",
      "The predicted rating for The Client is [7.62745098]\n",
      "The predicted rating for While I was Gone is [7.38300654]\n",
      "The predicted rating for The Perfect Storm is [7.52745098]\n",
      "The predicted rating for White Oleander is [8.52745098]\n",
      "The predicted rating for The Nanny Diaries is [6.68300654]\n",
      "The predicted rating for Confessions of a Shopaholic is [7.49411765]\n",
      "The predicted rating for The Partner is [8.3505279]\n",
      "The predicted rating for The Shipping News is [8.63856209]\n",
      "The predicted rating for We Were the Mulvaneys is [9.28856209]\n",
      "The predicted rating for Into Thin Air is [9.1496732]\n",
      "The predicted rating for Me Talk Pretty One Day is [7.79411765]\n",
      "The predicted rating for Harry Potter and the Order of the Phoenix is [9.3496732]\n",
      "The predicted rating for Wicked is [9.01633987]\n",
      "The predicted rating for Angela's Ashes is [8.51078431]\n",
      "The predicted rating for Empire Falls is [8.44173669]\n",
      "The predicted rating for Fast Food Nation is [8.82745098]\n",
      "The predicted rating for A Map of the World is [7.27745098]\n",
      "The predicted rating for The Book of Ruth is [8.61633987]\n",
      "The predicted rating for The Alienist is [7.89133987]\n",
      "The predicted rating for American Gods is [7.96078431]\n",
      "The predicted rating for A Heartbreaking Work of Staggering Genius is [8.57189542]\n",
      "The predicted rating for The Vampire Lestat is [8.96078431]\n",
      "The predicted rating for Lucky is [8.73856209]\n",
      "The predicted rating for Along Came a Spider is [7.51633987]\n",
      "The predicted rating for The Hours is [9.09173669]\n",
      "The predicted rating for Mystic River is [8.46078431]\n",
      "The predicted rating for Congo is [6.80800654]\n",
      "The predicted rating for \"A\" is for Alibi is [9.48459384]\n",
      "The predicted rating for Hannibal is [6.96078431]\n",
      "The predicted rating for A Walk to Remember is [6.77745098]\n",
      "The predicted rating for Fall on your knees is [8.3496732]\n",
      "The predicted rating for Stupid White Men is [8.92745098]\n",
      "The predicted rating for The Hobbit is [8.90522876]\n",
      "The predicted rating for Icy Sparks is [8.14411765]\n",
      "The predicted rating for The Handmaid's Tale is [7.18300654]\n",
      "The predicted rating for The Kitchen God's Wife is [6.91078431]\n",
      "The predicted rating for The Queen of the Damned is [6.74714795]\n",
      "The predicted rating for Bridget Jones's Diary is [8.46078431]\n"
     ]
    }
   ],
   "source": [
    "for ISBN in books_df.index:\n",
    "    if ISBN not in ratings_df['ISBN'][ratings_df['User-ID']==user].values:\n",
    "        print(\"The predicted rating for \"+ books_df['title'].loc[ISBN] \\\n",
    "              + \" is \" + str(predict_rating_for_user(user, ISBN)))"
   ]
  }
 ],
 "metadata": {
  "interpreter": {
   "hash": "27f6fea6f47ae512550f0b8facdbd035a93e1dd89633f7bf2dd00a2502c71d0d"
  },
  "kernelspec": {
   "display_name": "Python 3.10.2 64-bit",
   "language": "python",
   "name": "python3"
  },
  "language_info": {
   "codemirror_mode": {
    "name": "ipython",
    "version": 3
   },
   "file_extension": ".py",
   "mimetype": "text/x-python",
   "name": "python",
   "nbconvert_exporter": "python",
   "pygments_lexer": "ipython3",
   "version": "3.10.2"
  },
  "papermill": {
   "default_parameters": {},
   "duration": 23.524525,
   "end_time": "2022-10-25T10:55:51.831066",
   "environment_variables": {},
   "exception": null,
   "input_path": "__notebook__.ipynb",
   "output_path": "__notebook__.ipynb",
   "parameters": {},
   "start_time": "2022-10-25T10:55:28.306541",
   "version": "2.3.4"
  }
 },
 "nbformat": 4,
 "nbformat_minor": 5
}
